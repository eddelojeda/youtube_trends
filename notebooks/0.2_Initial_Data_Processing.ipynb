{
 "cells": [
  {
   "cell_type": "markdown",
   "id": "db10e97a",
   "metadata": {},
   "source": [
    "## 0.2. Initial Data Processing"
   ]
  },
  {
   "cell_type": "markdown",
   "id": "78985a59",
   "metadata": {},
   "source": [
    "This notebook contains the initial processing of the data in `data/raw/dataset.csv`. The steps performed in this notebook were added to the `youtube_trends/dataset.py` code as a processing step."
   ]
  },
  {
   "cell_type": "code",
   "execution_count": 1,
   "id": "93e89821",
   "metadata": {},
   "outputs": [
    {
     "name": "stderr",
     "output_type": "stream",
     "text": [
      "\u001b[32m2025-05-02 06:52:31.054\u001b[0m | \u001b[1mINFO    \u001b[0m | \u001b[36myoutube_trends.config\u001b[0m:\u001b[36m<module>\u001b[0m:\u001b[36m11\u001b[0m - \u001b[1mPROJ_ROOT path is: C:\\Users\\eddel\\OneDrive\\Documents\\MCD\\AAA\\youtube_trends\\venv\\src\\youtube-trends\u001b[0m\n"
     ]
    }
   ],
   "source": [
    "import re\n",
    "import emoji\n",
    "import torch\n",
    "import warnings\n",
    "import requests\n",
    "import numpy as np\n",
    "import pandas as pd\n",
    "from tqdm import tqdm\n",
    "from io import BytesIO\n",
    "from langdetect import detect\n",
    "from PIL import Image, ImageStat\n",
    "from deep_translator import GoogleTranslator\n",
    "from dateutil.relativedelta import relativedelta\n",
    "from concurrent.futures import ThreadPoolExecutor\n",
    "from youtube_trends.config import RAW_DATA_DIR, INTERIM_DATA_DIR\n",
    "\n",
    "warnings.filterwarnings('ignore')\n",
    "device = torch.device(\"cuda\" if torch.cuda.is_available() else \"cpu\")"
   ]
  },
  {
   "cell_type": "code",
   "execution_count": 2,
   "id": "415b42de",
   "metadata": {},
   "outputs": [],
   "source": [
    "df = pd.read_csv(RAW_DATA_DIR / \"dataset.csv\")"
   ]
  },
  {
   "cell_type": "code",
   "execution_count": 3,
   "id": "72a74839",
   "metadata": {},
   "outputs": [
    {
     "name": "stdout",
     "output_type": "stream",
     "text": [
      "<class 'pandas.core.frame.DataFrame'>\n",
      "RangeIndex: 2857423 entries, 0 to 2857422\n",
      "Data columns (total 28 columns):\n",
      " #   Column                           Dtype  \n",
      "---  ------                           -----  \n",
      " 0   video_id                         object \n",
      " 1   video_published_at               object \n",
      " 2   video_trending__date             object \n",
      " 3   video_trending_country           object \n",
      " 4   channel_id                       object \n",
      " 5   video_title                      object \n",
      " 6   video_description                object \n",
      " 7   video_default_thumbnail          object \n",
      " 8   video_category_id                object \n",
      " 9   video_tags                       object \n",
      " 10  video_duration                   object \n",
      " 11  video_dimension                  object \n",
      " 12  video_definition                 object \n",
      " 13  video_licensed_content           object \n",
      " 14  video_view_count                 float64\n",
      " 15  video_like_count                 float64\n",
      " 16  video_comment_count              float64\n",
      " 17  channel_title                    object \n",
      " 18  channel_description              object \n",
      " 19  channel_custom_url               object \n",
      " 20  channel_published_at             object \n",
      " 21  channel_country                  object \n",
      " 22  channel_view_count               float64\n",
      " 23  channel_subscriber_count         float64\n",
      " 24  channel_have_hidden_subscribers  object \n",
      " 25  channel_video_count              float64\n",
      " 26  channel_localized_title          object \n",
      " 27  channel_localized_description    object \n",
      "dtypes: float64(6), object(22)\n",
      "memory usage: 610.4+ MB\n"
     ]
    }
   ],
   "source": [
    "df.info()"
   ]
  },
  {
   "cell_type": "code",
   "execution_count": 4,
   "id": "e85cbf02",
   "metadata": {},
   "outputs": [],
   "source": [
    "df['video_published_at'] = pd.to_datetime(df['video_published_at'], errors='coerce').dt.tz_localize(None)\n",
    "df['video_trending__date'] = pd.to_datetime(df['video_trending__date'], errors='coerce').dt.tz_localize(None)\n",
    "df['days_until_trend'] = (df['video_trending__date'] - df['video_published_at']).dt.days"
   ]
  },
  {
   "cell_type": "code",
   "execution_count": 5,
   "id": "9dab2582",
   "metadata": {},
   "outputs": [],
   "source": [
    "df = df.drop(['video_id', 'video_trending__date', 'video_trending_country', 'video_description', 'video_tags', 'video_dimension', 'video_definition', 'video_licensed_content',\n",
    "              'channel_id', 'channel_title', 'channel_description', 'channel_published_at', 'channel_country', 'channel_have_hidden_subscribers', 'channel_video_count',\n",
    "              'channel_localized_title', 'channel_localized_description'], axis=1)"
   ]
  },
  {
   "cell_type": "code",
   "execution_count": 6,
   "id": "be5df66e",
   "metadata": {},
   "outputs": [],
   "source": [
    "df = df.sort_values(by='video_published_at', ascending=False)\n",
    "start_date = df['video_published_at'].iloc[0] - relativedelta(days=1)\n",
    "df = df[df['video_published_at'] >= start_date]\n",
    "df = df.dropna()\n",
    "df.reset_index(drop=True, inplace=True)"
   ]
  },
  {
   "cell_type": "code",
   "execution_count": 7,
   "id": "066861f8",
   "metadata": {},
   "outputs": [
    {
     "name": "stdout",
     "output_type": "stream",
     "text": [
      "523\n"
     ]
    }
   ],
   "source": [
    "print(len(df))"
   ]
  },
  {
   "cell_type": "code",
   "execution_count": 8,
   "id": "39225f9f",
   "metadata": {},
   "outputs": [],
   "source": [
    "def detect_thumbnail(thumbnail_url, idx, class_names, model, pbar):\n",
    "    results = model(thumbnail_url)\n",
    "    class_ids = results.xyxy[0][:, 5].int().tolist()\n",
    "    detections = np.zeros(len(class_names), dtype=int)\n",
    "    for cls_id in set(class_ids):\n",
    "        detections[int(cls_id)] = 1\n",
    "    pbar.update(1)\n",
    "    return idx, detections"
   ]
  },
  {
   "cell_type": "code",
   "execution_count": 9,
   "id": "546d2c69",
   "metadata": {},
   "outputs": [],
   "source": [
    "def  thumbnail_parallel_processing(df):\n",
    "    thumbnail_urls = df['video_default_thumbnail'].values\n",
    "\n",
    "    model = torch.hub.load('ultralytics/yolov5', 'yolov5n', verbose=False).to(device)\n",
    "    class_names = ['thumbnail_' + name.replace(' ', '_') for name in model.names.values()]\n",
    "    detections_array = np.zeros((len(thumbnail_urls), len(class_names)), dtype=int)\n",
    "    \n",
    "    with tqdm(total=len(thumbnail_urls), desc=\"Processing thumbnails\") as pbar:\n",
    "        with ThreadPoolExecutor() as executor:\n",
    "            futures = [\n",
    "                executor.submit(detect_thumbnail, thumbnail_url, idx, class_names, model, pbar)\n",
    "                for idx, thumbnail_url in enumerate(thumbnail_urls)\n",
    "            ]\n",
    "            for future in futures:\n",
    "                idx, detections = future.result()\n",
    "                detections_array[idx] = detections\n",
    "    \n",
    "    detections_df = pd.DataFrame(detections_array, columns=class_names)\n",
    "    detections_df['video_default_thumbnail'] = df['video_default_thumbnail'].values\n",
    "    detections_df = detections_df.loc[:, (detections_df != detections_df.iloc[0]).any()]\n",
    "    df = pd.concat([df, detections_df.iloc[:, :-1]], axis=1)\n",
    "\n",
    "    return df"
   ]
  },
  {
   "cell_type": "code",
   "execution_count": 10,
   "id": "fc4cf146",
   "metadata": {},
   "outputs": [
    {
     "name": "stderr",
     "output_type": "stream",
     "text": [
      "YOLOv5  2025-4-28 Python-3.12.9 torch-2.5.1+cu121 CUDA:0 (NVIDIA GeForce RTX 3060 Laptop GPU, 6144MiB)\n",
      "\n",
      "Fusing layers... \n",
      "YOLOv5n summary: 213 layers, 1867405 parameters, 0 gradients, 4.5 GFLOPs\n",
      "Adding AutoShape... \n",
      "Processing thumbnails: 100%|██████████| 523/523 [00:07<00:00, 71.05it/s]"
     ]
    },
    {
     "name": "stdout",
     "output_type": "stream",
     "text": [
      "<class 'pandas.core.frame.DataFrame'>\n",
      "RangeIndex: 523 entries, 0 to 522\n",
      "Data columns (total 40 columns):\n",
      " #   Column                    Non-Null Count  Dtype         \n",
      "---  ------                    --------------  -----         \n",
      " 0   video_published_at        523 non-null    datetime64[ns]\n",
      " 1   video_title               523 non-null    object        \n",
      " 2   video_default_thumbnail   523 non-null    object        \n",
      " 3   video_category_id         523 non-null    object        \n",
      " 4   video_duration            523 non-null    object        \n",
      " 5   video_view_count          523 non-null    float64       \n",
      " 6   video_like_count          523 non-null    float64       \n",
      " 7   video_comment_count       523 non-null    float64       \n",
      " 8   channel_custom_url        523 non-null    object        \n",
      " 9   channel_view_count        523 non-null    float64       \n",
      " 10  channel_subscriber_count  523 non-null    float64       \n",
      " 11  days_until_trend          523 non-null    float64       \n",
      " 12  thumbnail_person          523 non-null    int64         \n",
      " 13  thumbnail_car             523 non-null    int64         \n",
      " 14  thumbnail_motorcycle      523 non-null    int64         \n",
      " 15  thumbnail_train           523 non-null    int64         \n",
      " 16  thumbnail_truck           523 non-null    int64         \n",
      " 17  thumbnail_traffic_light   523 non-null    int64         \n",
      " 18  thumbnail_dog             523 non-null    int64         \n",
      " 19  thumbnail_horse           523 non-null    int64         \n",
      " 20  thumbnail_umbrella        523 non-null    int64         \n",
      " 21  thumbnail_tie             523 non-null    int64         \n",
      " 22  thumbnail_suitcase        523 non-null    int64         \n",
      " 23  thumbnail_sports_ball     523 non-null    int64         \n",
      " 24  thumbnail_bottle          523 non-null    int64         \n",
      " 25  thumbnail_cup             523 non-null    int64         \n",
      " 26  thumbnail_banana          523 non-null    int64         \n",
      " 27  thumbnail_sandwich        523 non-null    int64         \n",
      " 28  thumbnail_pizza           523 non-null    int64         \n",
      " 29  thumbnail_donut           523 non-null    int64         \n",
      " 30  thumbnail_cake            523 non-null    int64         \n",
      " 31  thumbnail_potted_plant    523 non-null    int64         \n",
      " 32  thumbnail_tv              523 non-null    int64         \n",
      " 33  thumbnail_laptop          523 non-null    int64         \n",
      " 34  thumbnail_remote          523 non-null    int64         \n",
      " 35  thumbnail_cell_phone      523 non-null    int64         \n",
      " 36  thumbnail_book            523 non-null    int64         \n",
      " 37  thumbnail_clock           523 non-null    int64         \n",
      " 38  thumbnail_vase            523 non-null    int64         \n",
      " 39  thumbnail_teddy_bear      523 non-null    int64         \n",
      "dtypes: datetime64[ns](1), float64(6), int64(28), object(5)\n",
      "memory usage: 163.6+ KB\n"
     ]
    },
    {
     "name": "stderr",
     "output_type": "stream",
     "text": [
      "\n"
     ]
    }
   ],
   "source": [
    "df = thumbnail_parallel_processing(df)\n",
    "df.info()"
   ]
  },
  {
   "cell_type": "code",
   "execution_count": 11,
   "id": "4a4dc34b",
   "metadata": {},
   "outputs": [],
   "source": [
    "def thumbnail_stats(thumbnail_url, idx, pbar):\n",
    "    response = requests.get(thumbnail_url, timeout=10)\n",
    "    img = Image.open(BytesIO(response.content)).convert('RGB')\n",
    "    stat = ImageStat.Stat(img)\n",
    "\n",
    "    brightness = sum(stat.mean) / 3\n",
    "    contrast = sum(stat.stddev) / 3\n",
    "    hsv = np.array(img.convert('HSV'))\n",
    "    saturation = hsv[:, :, 1].mean() / 255\n",
    "\n",
    "    pbar.update(1)\n",
    "    return idx, [brightness, contrast, saturation]"
   ]
  },
  {
   "cell_type": "code",
   "execution_count": 12,
   "id": "5cc6d1fb",
   "metadata": {},
   "outputs": [],
   "source": [
    "def thumbnails_stats_parallel(df):\n",
    "    thumbnail_urls = df['video_default_thumbnail'].values\n",
    "    stats_array = np.zeros((len(thumbnail_urls), 3), dtype=float)\n",
    "\n",
    "    with tqdm(total=len(thumbnail_urls), desc=\"Processing thumbnails\") as pbar:\n",
    "        with ThreadPoolExecutor() as executor:\n",
    "            futures = [\n",
    "                executor.submit(thumbnail_stats, thumbnail_url, idx, pbar) \n",
    "                for idx, thumbnail_url in enumerate(thumbnail_urls)\n",
    "            ]\n",
    "            for future in futures:\n",
    "                idx, stats = future.result()\n",
    "                stats_array[idx] = stats\n",
    "\n",
    "    stats_df = pd.DataFrame(stats_array, columns=['brightness', 'contrast', 'saturation'])\n",
    "    stats_df['video_default_thumbnail'] = thumbnail_urls\n",
    "    df = pd.concat([df, stats_df.iloc[:, :-1]], axis=1)\n",
    "    return df"
   ]
  },
  {
   "cell_type": "code",
   "execution_count": 13,
   "id": "48fa5e09",
   "metadata": {},
   "outputs": [
    {
     "name": "stderr",
     "output_type": "stream",
     "text": [
      "Processing thumbnails: 100%|██████████| 523/523 [00:05<00:00, 92.11it/s] "
     ]
    },
    {
     "name": "stdout",
     "output_type": "stream",
     "text": [
      "<class 'pandas.core.frame.DataFrame'>\n",
      "RangeIndex: 523 entries, 0 to 522\n",
      "Data columns (total 42 columns):\n",
      " #   Column                    Non-Null Count  Dtype         \n",
      "---  ------                    --------------  -----         \n",
      " 0   video_published_at        523 non-null    datetime64[ns]\n",
      " 1   video_title               523 non-null    object        \n",
      " 2   video_category_id         523 non-null    object        \n",
      " 3   video_duration            523 non-null    object        \n",
      " 4   video_view_count          523 non-null    float64       \n",
      " 5   video_like_count          523 non-null    float64       \n",
      " 6   video_comment_count       523 non-null    float64       \n",
      " 7   channel_custom_url        523 non-null    object        \n",
      " 8   channel_view_count        523 non-null    float64       \n",
      " 9   channel_subscriber_count  523 non-null    float64       \n",
      " 10  days_until_trend          523 non-null    float64       \n",
      " 11  thumbnail_person          523 non-null    int64         \n",
      " 12  thumbnail_car             523 non-null    int64         \n",
      " 13  thumbnail_motorcycle      523 non-null    int64         \n",
      " 14  thumbnail_train           523 non-null    int64         \n",
      " 15  thumbnail_truck           523 non-null    int64         \n",
      " 16  thumbnail_traffic_light   523 non-null    int64         \n",
      " 17  thumbnail_dog             523 non-null    int64         \n",
      " 18  thumbnail_horse           523 non-null    int64         \n",
      " 19  thumbnail_umbrella        523 non-null    int64         \n",
      " 20  thumbnail_tie             523 non-null    int64         \n",
      " 21  thumbnail_suitcase        523 non-null    int64         \n",
      " 22  thumbnail_sports_ball     523 non-null    int64         \n",
      " 23  thumbnail_bottle          523 non-null    int64         \n",
      " 24  thumbnail_cup             523 non-null    int64         \n",
      " 25  thumbnail_banana          523 non-null    int64         \n",
      " 26  thumbnail_sandwich        523 non-null    int64         \n",
      " 27  thumbnail_pizza           523 non-null    int64         \n",
      " 28  thumbnail_donut           523 non-null    int64         \n",
      " 29  thumbnail_cake            523 non-null    int64         \n",
      " 30  thumbnail_potted_plant    523 non-null    int64         \n",
      " 31  thumbnail_tv              523 non-null    int64         \n",
      " 32  thumbnail_laptop          523 non-null    int64         \n",
      " 33  thumbnail_remote          523 non-null    int64         \n",
      " 34  thumbnail_cell_phone      523 non-null    int64         \n",
      " 35  thumbnail_book            523 non-null    int64         \n",
      " 36  thumbnail_clock           523 non-null    int64         \n",
      " 37  thumbnail_vase            523 non-null    int64         \n",
      " 38  thumbnail_teddy_bear      523 non-null    int64         \n",
      " 39  brightness                523 non-null    float64       \n",
      " 40  contrast                  523 non-null    float64       \n",
      " 41  saturation                523 non-null    float64       \n",
      "dtypes: datetime64[ns](1), float64(9), int64(28), object(4)\n",
      "memory usage: 171.7+ KB\n"
     ]
    },
    {
     "name": "stderr",
     "output_type": "stream",
     "text": [
      "\n"
     ]
    }
   ],
   "source": [
    "df = thumbnails_stats_parallel(df) \n",
    "df = df.drop(['video_default_thumbnail'], axis=1)\n",
    "df.info()"
   ]
  },
  {
   "cell_type": "code",
   "execution_count": 14,
   "id": "9e915be4",
   "metadata": {},
   "outputs": [],
   "source": [
    "def detect_and_translate(title):\n",
    "    try:\n",
    "        lang = detect(title)\n",
    "        translated = GoogleTranslator(source=lang, target='en').translate(title)\n",
    "    except:\n",
    "        lang = 'unknown'\n",
    "        translated = title\n",
    "    return lang, translated"
   ]
  },
  {
   "cell_type": "code",
   "execution_count": 15,
   "id": "f6efc17a",
   "metadata": {},
   "outputs": [],
   "source": [
    "def clean_title(title):\n",
    "    title = emoji.replace_emoji(title, replace='')\n",
    "    title = re.sub(r'[^\\w\\s]', '', title)\n",
    "    return title"
   ]
  },
  {
   "cell_type": "code",
   "execution_count": 16,
   "id": "c4407cab",
   "metadata": {},
   "outputs": [],
   "source": [
    "def process_titles_parallel(df):\n",
    "    titles = df['video_title'].fillna('').astype(str).tolist()\n",
    "    \n",
    "    with ThreadPoolExecutor() as executor:\n",
    "        clean_titles = list(tqdm(executor.map(clean_title, titles), total=len(titles), desc=\"Cleaning titles\"))\n",
    "\n",
    "    with ThreadPoolExecutor() as executor:\n",
    "        results = list(tqdm(executor.map(detect_and_translate, clean_titles), total=len(clean_titles), desc=\"Processing video title\"))\n",
    "\n",
    "    languages, translations = zip(*results)\n",
    "    \n",
    "    df['video_title_language'] = languages\n",
    "    df['video_title_translated'] = translations\n",
    "    return df"
   ]
  },
  {
   "cell_type": "code",
   "execution_count": 17,
   "id": "6377460d",
   "metadata": {},
   "outputs": [
    {
     "name": "stderr",
     "output_type": "stream",
     "text": [
      "Cleaning titles: 100%|██████████| 523/523 [00:00<00:00, 174359.83it/s]\n",
      "Processing video title: 100%|██████████| 523/523 [00:05<00:00, 88.40it/s] "
     ]
    },
    {
     "name": "stdout",
     "output_type": "stream",
     "text": [
      "<class 'pandas.core.frame.DataFrame'>\n",
      "RangeIndex: 523 entries, 0 to 522\n",
      "Data columns (total 43 columns):\n",
      " #   Column                    Non-Null Count  Dtype         \n",
      "---  ------                    --------------  -----         \n",
      " 0   video_published_at        523 non-null    datetime64[ns]\n",
      " 1   video_category_id         523 non-null    object        \n",
      " 2   video_duration            523 non-null    object        \n",
      " 3   video_view_count          523 non-null    float64       \n",
      " 4   video_like_count          523 non-null    float64       \n",
      " 5   video_comment_count       523 non-null    float64       \n",
      " 6   channel_custom_url        523 non-null    object        \n",
      " 7   channel_view_count        523 non-null    float64       \n",
      " 8   channel_subscriber_count  523 non-null    float64       \n",
      " 9   days_until_trend          523 non-null    float64       \n",
      " 10  thumbnail_person          523 non-null    int64         \n",
      " 11  thumbnail_car             523 non-null    int64         \n",
      " 12  thumbnail_motorcycle      523 non-null    int64         \n",
      " 13  thumbnail_train           523 non-null    int64         \n",
      " 14  thumbnail_truck           523 non-null    int64         \n",
      " 15  thumbnail_traffic_light   523 non-null    int64         \n",
      " 16  thumbnail_dog             523 non-null    int64         \n",
      " 17  thumbnail_horse           523 non-null    int64         \n",
      " 18  thumbnail_umbrella        523 non-null    int64         \n",
      " 19  thumbnail_tie             523 non-null    int64         \n",
      " 20  thumbnail_suitcase        523 non-null    int64         \n",
      " 21  thumbnail_sports_ball     523 non-null    int64         \n",
      " 22  thumbnail_bottle          523 non-null    int64         \n",
      " 23  thumbnail_cup             523 non-null    int64         \n",
      " 24  thumbnail_banana          523 non-null    int64         \n",
      " 25  thumbnail_sandwich        523 non-null    int64         \n",
      " 26  thumbnail_pizza           523 non-null    int64         \n",
      " 27  thumbnail_donut           523 non-null    int64         \n",
      " 28  thumbnail_cake            523 non-null    int64         \n",
      " 29  thumbnail_potted_plant    523 non-null    int64         \n",
      " 30  thumbnail_tv              523 non-null    int64         \n",
      " 31  thumbnail_laptop          523 non-null    int64         \n",
      " 32  thumbnail_remote          523 non-null    int64         \n",
      " 33  thumbnail_cell_phone      523 non-null    int64         \n",
      " 34  thumbnail_book            523 non-null    int64         \n",
      " 35  thumbnail_clock           523 non-null    int64         \n",
      " 36  thumbnail_vase            523 non-null    int64         \n",
      " 37  thumbnail_teddy_bear      523 non-null    int64         \n",
      " 38  brightness                523 non-null    float64       \n",
      " 39  contrast                  523 non-null    float64       \n",
      " 40  saturation                523 non-null    float64       \n",
      " 41  video_title_language      523 non-null    object        \n",
      " 42  video_title_translated    523 non-null    object        \n",
      "dtypes: datetime64[ns](1), float64(9), int64(28), object(5)\n",
      "memory usage: 175.8+ KB\n"
     ]
    },
    {
     "name": "stderr",
     "output_type": "stream",
     "text": [
      "\n"
     ]
    }
   ],
   "source": [
    "df = process_titles_parallel(df)\n",
    "df = df.drop(['video_title'], axis=1)\n",
    "df.info()"
   ]
  },
  {
   "cell_type": "code",
   "execution_count": 18,
   "id": "b7a639cd",
   "metadata": {},
   "outputs": [],
   "source": [
    "df.to_csv(INTERIM_DATA_DIR / 'dataset.csv', index=False)"
   ]
  }
 ],
 "metadata": {
  "kernelspec": {
   "display_name": "venv",
   "language": "python",
   "name": "python3"
  },
  "language_info": {
   "codemirror_mode": {
    "name": "ipython",
    "version": 3
   },
   "file_extension": ".py",
   "mimetype": "text/x-python",
   "name": "python",
   "nbconvert_exporter": "python",
   "pygments_lexer": "ipython3",
   "version": "3.12.9"
  }
 },
 "nbformat": 4,
 "nbformat_minor": 5
}
