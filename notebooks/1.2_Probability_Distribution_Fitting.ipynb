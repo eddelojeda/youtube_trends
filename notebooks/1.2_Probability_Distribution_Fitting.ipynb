{
 "cells": [
  {
   "cell_type": "markdown",
   "id": "db10e97a",
   "metadata": {},
   "source": [
    "## 1.2. Probability Distribution Fitting for Days to Trend Feature"
   ]
  },
  {
   "cell_type": "markdown",
   "id": "f9b913e2",
   "metadata": {},
   "source": [
    "This notebook contains an exploration of the target variables in the datasets on  `data/processed/`.\n",
    "\n",
    "See [1.2 Probability Distribution Fitting](https://eddelojeda.github.io/youtube_trends/1.2_Probability_Distribution_Fitting.html) to interact with the dynamic plots in this notebook."
   ]
  },
  {
   "cell_type": "code",
   "execution_count": 1,
   "id": "fc38ed9b",
   "metadata": {},
   "outputs": [
    {
     "name": "stderr",
     "output_type": "stream",
     "text": [
      "\u001b[32m2025-05-26 04:22:43.071\u001b[0m | \u001b[1mINFO    \u001b[0m | \u001b[36myoutube_trends.config\u001b[0m:\u001b[36m<module>\u001b[0m:\u001b[36m11\u001b[0m - \u001b[1mPROJ_ROOT path is: C:\\Users\\eddel\\OneDrive\\Documents\\MCD\\AAA\\youtube_trends\\venv\\src\\youtube-trends\u001b[0m\n"
     ]
    }
   ],
   "source": [
    "import os\n",
    "import joblib\n",
    "import warnings\n",
    "import numpy as np\n",
    "import pandas as pd\n",
    "import plotly.io as pio\n",
    "import plotly.express as px\n",
    "import plotly.graph_objects as go\n",
    "from sklearn.model_selection import train_test_split\n",
    "from youtube_trends.config import PROCESSED_DATA_DIR, MODELS_DIR\n",
    "from sklearn.metrics import mean_absolute_error, mean_squared_error, r2_score\n",
    "from scipy.stats import poisson, nbinom, geom, norm, entropy, binom, zipf, logser, expon, gamma, lognorm\n",
    "\n",
    "pio.renderers.default = 'notebook_connected'\n",
    "warnings.filterwarnings('ignore')"
   ]
  },
  {
   "cell_type": "markdown",
   "id": "75755b49",
   "metadata": {},
   "source": [
    "#### Preparing training, validation, and testing datasets"
   ]
  },
  {
   "cell_type": "markdown",
   "id": "275f5ca2",
   "metadata": {},
   "source": [
    "Based on what was observed in the initial exploration of the data regarding the frequency distribution of the days it takes for a video to become a trend, and due to the nature of the data, which when recorded day by day, do not allow the latest data in the dataset to have a correct or reliable record of the value of this variable, we will proceed to adjust the distribution of the data considering only the data in `df_train` for reliability, `df_val` and `df_test` will be used only for visualization purposes."
   ]
  },
  {
   "cell_type": "code",
   "execution_count": 2,
   "id": "2df3b287",
   "metadata": {},
   "outputs": [],
   "source": [
    "df_train = pd.read_csv(PROCESSED_DATA_DIR / 'train_dataset.csv', low_memory=False)\n",
    "df_val = pd.read_csv(PROCESSED_DATA_DIR / 'val_dataset.csv', low_memory=False)\n",
    "df_test = pd.read_csv(PROCESSED_DATA_DIR / 'test_dataset.csv', low_memory=False)"
   ]
  },
  {
   "cell_type": "code",
   "execution_count": 3,
   "id": "81ded5bb",
   "metadata": {},
   "outputs": [
    {
     "name": "stdout",
     "output_type": "stream",
     "text": [
      "(46337, 200)\n"
     ]
    }
   ],
   "source": [
    "print(df_train.shape)"
   ]
  },
  {
   "cell_type": "markdown",
   "id": "3855a6a2",
   "metadata": {},
   "source": [
    "Feature selection."
   ]
  },
  {
   "cell_type": "code",
   "execution_count": 4,
   "id": "cff53297",
   "metadata": {},
   "outputs": [],
   "source": [
    "y = df_train['days_to_trend'].values\n",
    "y_train, y_val = train_test_split(y, test_size=0.2, random_state=42)"
   ]
  },
  {
   "cell_type": "markdown",
   "id": "a459220f",
   "metadata": {},
   "source": [
    "Kullback-Leibler divergence function."
   ]
  },
  {
   "cell_type": "code",
   "execution_count": 5,
   "id": "19ae5fbf",
   "metadata": {},
   "outputs": [],
   "source": [
    "def kl_divergence(p, q):\n",
    "    p = np.asarray(p, dtype=np.float64)\n",
    "    q = np.asarray(q, dtype=np.float64)\n",
    "    p += 1e-10\n",
    "    q += 1e-10\n",
    "    return entropy(p, q)"
   ]
  },
  {
   "cell_type": "code",
   "execution_count": 6,
   "id": "afbfad15",
   "metadata": {},
   "outputs": [],
   "source": [
    "def get_hist(data):\n",
    "    values, counts = np.unique(data, return_counts=True)\n",
    "    prob = counts / counts.sum()\n",
    "    return values, prob"
   ]
  },
  {
   "cell_type": "code",
   "execution_count": 7,
   "id": "34852eb1",
   "metadata": {},
   "outputs": [],
   "source": [
    "x_train, p_train = get_hist(y_train)\n",
    "mean_train = np.mean(y_train)\n",
    "var_train = np.var(y_train)\n",
    "results = {}"
   ]
  },
  {
   "cell_type": "markdown",
   "id": "d20861c2",
   "metadata": {},
   "source": [
    "Poisson distribution."
   ]
  },
  {
   "cell_type": "code",
   "execution_count": 8,
   "id": "fd38becd",
   "metadata": {},
   "outputs": [],
   "source": [
    "lambda_poisson = mean_train\n",
    "poisson_probs = poisson.pmf(x_train, mu=lambda_poisson)\n",
    "results['Poisson'] = kl_divergence(p_train, poisson_probs)"
   ]
  },
  {
   "cell_type": "markdown",
   "id": "6c630a26",
   "metadata": {},
   "source": [
    "Geometric distribution."
   ]
  },
  {
   "cell_type": "code",
   "execution_count": 9,
   "id": "f53c1c84",
   "metadata": {},
   "outputs": [],
   "source": [
    "p_geom = 1 / (1 + mean_train)\n",
    "geom_probs = geom.pmf(x_train, p=p_geom)\n",
    "results['Geometric'] = kl_divergence(p_train, geom_probs)"
   ]
  },
  {
   "cell_type": "markdown",
   "id": "e8fde87b",
   "metadata": {},
   "source": [
    "Negative binomial distribution."
   ]
  },
  {
   "cell_type": "code",
   "execution_count": 10,
   "id": "d2f67006",
   "metadata": {},
   "outputs": [],
   "source": [
    "r = mean_train**2 / (var_train - mean_train) if var_train > mean_train else 1\n",
    "p_nbinom = r / (r + mean_train)\n",
    "nbinom_probs = nbinom.pmf(x_train, n=r, p=p_nbinom)\n",
    "results['Negative Binomial'] = kl_divergence(p_train, nbinom_probs)"
   ]
  },
  {
   "cell_type": "markdown",
   "id": "d823b373",
   "metadata": {},
   "source": [
    "Discretized Normal"
   ]
  },
  {
   "cell_type": "code",
   "execution_count": 11,
   "id": "c934c785",
   "metadata": {},
   "outputs": [],
   "source": [
    "mu_norm, sigma_norm = mean_train, np.std(y_train)\n",
    "normal_probs = norm.pdf(x_train, loc=mu_norm, scale=sigma_norm)\n",
    "normal_probs /= normal_probs.sum()\n",
    "results['Discretized Normal'] = kl_divergence(p_train, normal_probs)"
   ]
  },
  {
   "cell_type": "markdown",
   "id": "5a1fd6cc",
   "metadata": {},
   "source": [
    "Binomial distribution."
   ]
  },
  {
   "cell_type": "code",
   "execution_count": 12,
   "id": "cdf744d0",
   "metadata": {},
   "outputs": [],
   "source": [
    "n_binom = int(np.max(y_train))\n",
    "p_binom = mean_train / n_binom\n",
    "binom_probs = binom.pmf(x_train, n=n_binom, p=p_binom)\n",
    "results['Binomial'] = kl_divergence(p_train, binom_probs)"
   ]
  },
  {
   "cell_type": "markdown",
   "id": "1306d556",
   "metadata": {},
   "source": [
    "Results."
   ]
  },
  {
   "cell_type": "markdown",
   "id": "a949fb2e",
   "metadata": {},
   "source": [
    "Zipf Law."
   ]
  },
  {
   "cell_type": "code",
   "execution_count": 13,
   "id": "3f99122b",
   "metadata": {},
   "outputs": [],
   "source": [
    "x_zipf = x_train[x_train >= 1]\n",
    "p_zipf = p_train[x_train >= 1]\n",
    "a_zipf = 2.0\n",
    "zipf_probs = zipf.pmf(x_zipf, a=a_zipf)\n",
    "zipf_probs /= zipf_probs.sum()\n",
    "results['Zipf'] = kl_divergence(p_zipf, zipf_probs)"
   ]
  },
  {
   "cell_type": "markdown",
   "id": "be9f82c6",
   "metadata": {},
   "source": [
    "Log-Series."
   ]
  },
  {
   "cell_type": "code",
   "execution_count": 14,
   "id": "28108dbe",
   "metadata": {},
   "outputs": [],
   "source": [
    "x_logser = x_train[x_train >= 1]\n",
    "p_logser = p_train[x_train >= 1]\n",
    "p_ls = 0.9\n",
    "logser_probs = logser.pmf(x_logser, p=p_ls)\n",
    "logser_probs /= logser_probs.sum()\n",
    "results['Log-Series'] = kl_divergence(p_logser, logser_probs)"
   ]
  },
  {
   "cell_type": "markdown",
   "id": "3d3c502d",
   "metadata": {},
   "source": [
    "Discretized Log-Normal."
   ]
  },
  {
   "cell_type": "code",
   "execution_count": 15,
   "id": "3ad9025d",
   "metadata": {},
   "outputs": [],
   "source": [
    "shape_ln = np.std(np.log1p(y_train))\n",
    "scale_ln = np.exp(np.mean(np.log1p(y_train)))\n",
    "lognorm_probs = lognorm.pdf(x_train, s=shape_ln, scale=scale_ln)\n",
    "lognorm_probs /= lognorm_probs.sum()\n",
    "results['Discretized Log-Normal'] = kl_divergence(p_train, lognorm_probs)"
   ]
  },
  {
   "cell_type": "markdown",
   "id": "76ac63eb",
   "metadata": {},
   "source": [
    "Visualization of each adjusted distribution."
   ]
  },
  {
   "cell_type": "code",
   "execution_count": 16,
   "id": "eec0e5c0",
   "metadata": {},
   "outputs": [],
   "source": [
    "def plot_distribution_fit(name, empirical_x, empirical_p, fitted_p):\n",
    "    kl_score = kl_divergence(empirical_p, fitted_p)\n",
    "    \n",
    "    fig = go.Figure()\n",
    "    fig.add_trace(go.Bar(\n",
    "        x=empirical_x,\n",
    "        y=empirical_p,\n",
    "        name='Empirical',\n",
    "        opacity=0.6\n",
    "    ))\n",
    "    fig.add_trace(go.Scatter(\n",
    "        x=empirical_x,\n",
    "        y=fitted_p,\n",
    "        mode='lines+markers',\n",
    "        name=f'{name} (fitted)',\n",
    "        line=dict(color='orange')\n",
    "    ))\n",
    "    fig.update_layout(\n",
    "        title=f\"Ajuste de {name} sobre df_train | KL Divergence = {kl_score:.4f}\",\n",
    "        xaxis_title=\"days_to_trend\",\n",
    "        yaxis_title=\"Probabilidad\",\n",
    "        legend=dict(x=0.99, y=0.99),\n",
    "        template=\"plotly_white\"\n",
    "    )\n",
    "    fig.show()"
   ]
  },
  {
   "cell_type": "code",
   "execution_count": 17,
   "id": "f665fede",
   "metadata": {},
   "outputs": [],
   "source": [
    "x_train, p_train = get_hist(y_train)\n",
    "x_train = x_train.astype(int)\n",
    "p_train += 1e-10"
   ]
  },
  {
   "cell_type": "code",
   "execution_count": 18,
   "id": "d252569f",
   "metadata": {},
   "outputs": [
    {
     "data": {
      "text/html": [
       "        <script type=\"text/javascript\">\n",
       "        window.PlotlyConfig = {MathJaxConfig: 'local'};\n",
       "        if (window.MathJax && window.MathJax.Hub && window.MathJax.Hub.Config) {window.MathJax.Hub.Config({SVG: {font: \"STIX-Web\"}});}\n",
       "        </script>\n",
       "        <script type=\"module\">import \"https://cdn.plot.ly/plotly-3.0.1.min\"</script>\n",
       "        "
      ]
     },
     "metadata": {},
     "output_type": "display_data"
    },
    {
     "data": {
      "text/html": [
       "<div>            <script src=\"https://cdnjs.cloudflare.com/ajax/libs/mathjax/2.7.5/MathJax.js?config=TeX-AMS-MML_SVG\"></script><script type=\"text/javascript\">if (window.MathJax && window.MathJax.Hub && window.MathJax.Hub.Config) {window.MathJax.Hub.Config({SVG: {font: \"STIX-Web\"}});}</script>                <script type=\"text/javascript\">window.PlotlyConfig = {MathJaxConfig: 'local'};</script>\n",
       "        <script charset=\"utf-8\" src=\"https://cdn.plot.ly/plotly-3.0.1.min.js\"></script>                <div id=\"d887bd2e-cc75-41fa-935d-0abec1294fbf\" class=\"plotly-graph-div\" style=\"height:525px; width:100%;\"></div>            <script type=\"text/javascript\">                window.PLOTLYENV=window.PLOTLYENV || {};                                if (document.getElementById(\"d887bd2e-cc75-41fa-935d-0abec1294fbf\")) {                    Plotly.newPlot(                        \"d887bd2e-cc75-41fa-935d-0abec1294fbf\",                        [{\"name\":\"Empirical\",\"opacity\":0.6,\"x\":{\"dtype\":\"i1\",\"bdata\":\"AAECAwQFBgcICQoLDA0ODxAREhMUFRYXGBkaGxwd\"},\"y\":{\"dtype\":\"f8\",\"bdata\":\"4t2entSxsj\\u002ffDLvpaE2zP2rcx64glLM\\u002fZKMMLNr9sj+z\\u002faMgHs6yP5ZU6178RbI\\u002fp9E1tfFtsD95P8iApfSrP0ox5tAQdqg\\u002fCcm9F7c1pj\\u002fl5knTThelP36FwYbAh6M\\u002fUryyV9bUoT+hOU6ZSguhP1RZ828bcZ4\\u002fTs9MbsbZmj8nYv0OUyOZP\\u002f6v2i41oZU\\u002feYKV01QjlD9tVidoKMORPzaFZTRAf44\\u002faE5lz+T4iD8eRarFafCEP58cVMEc1H4\\u002fEaylF\\u002f6LdT+TLto49JxtP2N+IYtCHGQ\\u002fVIHPaqpXYj99JPBhf1pQPxpcy\\u002fEhN0U\\u002f\"},\"type\":\"bar\"},{\"line\":{\"color\":\"orange\"},\"mode\":\"lines+markers\",\"name\":\"Poisson (fitted)\",\"x\":{\"dtype\":\"i1\",\"bdata\":\"AAECAwQFBgcICQoLDA0ODxAREhMUFRYXGBkaGxwd\"},\"y\":{\"dtype\":\"f8\",\"bdata\":\"p2LCGu4YOD9twWPQLdJnP4LMCOg9jIc\\u002fhzQv23kJnz8sm2d8Wq6uP2BpK7hrQ7g\\u002fDBPC5On6vz8fEdeIlRDCP6BN9BOM28E\\u002f1EnvCf1hvz\\u002fI2DgMe9G4P3+uP32417E\\u002frFVbpHKEpz\\u002fLG6qTzZycP+UlMWqZKZA\\u002f1XO959IKgT81J1b8ydhwP0prBJYWWV8\\u002fFEtvc5qLSz+7Ts6aF+42PyrLxJM4IiI\\u002fy7ANO8BQCz8DWfTNWKPzPnootVF+Ats+Tkq8nhXNwT6XhjCiWIemPgu2dcylbYs+Ra\\u002fmgvkacD6vnvNbYVlSPkmSMonOozQ+\"},\"type\":\"scatter\"}],                        {\"template\":{\"data\":{\"barpolar\":[{\"marker\":{\"line\":{\"color\":\"white\",\"width\":0.5},\"pattern\":{\"fillmode\":\"overlay\",\"size\":10,\"solidity\":0.2}},\"type\":\"barpolar\"}],\"bar\":[{\"error_x\":{\"color\":\"#2a3f5f\"},\"error_y\":{\"color\":\"#2a3f5f\"},\"marker\":{\"line\":{\"color\":\"white\",\"width\":0.5},\"pattern\":{\"fillmode\":\"overlay\",\"size\":10,\"solidity\":0.2}},\"type\":\"bar\"}],\"carpet\":[{\"aaxis\":{\"endlinecolor\":\"#2a3f5f\",\"gridcolor\":\"#C8D4E3\",\"linecolor\":\"#C8D4E3\",\"minorgridcolor\":\"#C8D4E3\",\"startlinecolor\":\"#2a3f5f\"},\"baxis\":{\"endlinecolor\":\"#2a3f5f\",\"gridcolor\":\"#C8D4E3\",\"linecolor\":\"#C8D4E3\",\"minorgridcolor\":\"#C8D4E3\",\"startlinecolor\":\"#2a3f5f\"},\"type\":\"carpet\"}],\"choropleth\":[{\"colorbar\":{\"outlinewidth\":0,\"ticks\":\"\"},\"type\":\"choropleth\"}],\"contourcarpet\":[{\"colorbar\":{\"outlinewidth\":0,\"ticks\":\"\"},\"type\":\"contourcarpet\"}],\"contour\":[{\"colorbar\":{\"outlinewidth\":0,\"ticks\":\"\"},\"colorscale\":[[0.0,\"#0d0887\"],[0.1111111111111111,\"#46039f\"],[0.2222222222222222,\"#7201a8\"],[0.3333333333333333,\"#9c179e\"],[0.4444444444444444,\"#bd3786\"],[0.5555555555555556,\"#d8576b\"],[0.6666666666666666,\"#ed7953\"],[0.7777777777777778,\"#fb9f3a\"],[0.8888888888888888,\"#fdca26\"],[1.0,\"#f0f921\"]],\"type\":\"contour\"}],\"heatmap\":[{\"colorbar\":{\"outlinewidth\":0,\"ticks\":\"\"},\"colorscale\":[[0.0,\"#0d0887\"],[0.1111111111111111,\"#46039f\"],[0.2222222222222222,\"#7201a8\"],[0.3333333333333333,\"#9c179e\"],[0.4444444444444444,\"#bd3786\"],[0.5555555555555556,\"#d8576b\"],[0.6666666666666666,\"#ed7953\"],[0.7777777777777778,\"#fb9f3a\"],[0.8888888888888888,\"#fdca26\"],[1.0,\"#f0f921\"]],\"type\":\"heatmap\"}],\"histogram2dcontour\":[{\"colorbar\":{\"outlinewidth\":0,\"ticks\":\"\"},\"colorscale\":[[0.0,\"#0d0887\"],[0.1111111111111111,\"#46039f\"],[0.2222222222222222,\"#7201a8\"],[0.3333333333333333,\"#9c179e\"],[0.4444444444444444,\"#bd3786\"],[0.5555555555555556,\"#d8576b\"],[0.6666666666666666,\"#ed7953\"],[0.7777777777777778,\"#fb9f3a\"],[0.8888888888888888,\"#fdca26\"],[1.0,\"#f0f921\"]],\"type\":\"histogram2dcontour\"}],\"histogram2d\":[{\"colorbar\":{\"outlinewidth\":0,\"ticks\":\"\"},\"colorscale\":[[0.0,\"#0d0887\"],[0.1111111111111111,\"#46039f\"],[0.2222222222222222,\"#7201a8\"],[0.3333333333333333,\"#9c179e\"],[0.4444444444444444,\"#bd3786\"],[0.5555555555555556,\"#d8576b\"],[0.6666666666666666,\"#ed7953\"],[0.7777777777777778,\"#fb9f3a\"],[0.8888888888888888,\"#fdca26\"],[1.0,\"#f0f921\"]],\"type\":\"histogram2d\"}],\"histogram\":[{\"marker\":{\"pattern\":{\"fillmode\":\"overlay\",\"size\":10,\"solidity\":0.2}},\"type\":\"histogram\"}],\"mesh3d\":[{\"colorbar\":{\"outlinewidth\":0,\"ticks\":\"\"},\"type\":\"mesh3d\"}],\"parcoords\":[{\"line\":{\"colorbar\":{\"outlinewidth\":0,\"ticks\":\"\"}},\"type\":\"parcoords\"}],\"pie\":[{\"automargin\":true,\"type\":\"pie\"}],\"scatter3d\":[{\"line\":{\"colorbar\":{\"outlinewidth\":0,\"ticks\":\"\"}},\"marker\":{\"colorbar\":{\"outlinewidth\":0,\"ticks\":\"\"}},\"type\":\"scatter3d\"}],\"scattercarpet\":[{\"marker\":{\"colorbar\":{\"outlinewidth\":0,\"ticks\":\"\"}},\"type\":\"scattercarpet\"}],\"scattergeo\":[{\"marker\":{\"colorbar\":{\"outlinewidth\":0,\"ticks\":\"\"}},\"type\":\"scattergeo\"}],\"scattergl\":[{\"marker\":{\"colorbar\":{\"outlinewidth\":0,\"ticks\":\"\"}},\"type\":\"scattergl\"}],\"scattermapbox\":[{\"marker\":{\"colorbar\":{\"outlinewidth\":0,\"ticks\":\"\"}},\"type\":\"scattermapbox\"}],\"scattermap\":[{\"marker\":{\"colorbar\":{\"outlinewidth\":0,\"ticks\":\"\"}},\"type\":\"scattermap\"}],\"scatterpolargl\":[{\"marker\":{\"colorbar\":{\"outlinewidth\":0,\"ticks\":\"\"}},\"type\":\"scatterpolargl\"}],\"scatterpolar\":[{\"marker\":{\"colorbar\":{\"outlinewidth\":0,\"ticks\":\"\"}},\"type\":\"scatterpolar\"}],\"scatter\":[{\"fillpattern\":{\"fillmode\":\"overlay\",\"size\":10,\"solidity\":0.2},\"type\":\"scatter\"}],\"scatterternary\":[{\"marker\":{\"colorbar\":{\"outlinewidth\":0,\"ticks\":\"\"}},\"type\":\"scatterternary\"}],\"surface\":[{\"colorbar\":{\"outlinewidth\":0,\"ticks\":\"\"},\"colorscale\":[[0.0,\"#0d0887\"],[0.1111111111111111,\"#46039f\"],[0.2222222222222222,\"#7201a8\"],[0.3333333333333333,\"#9c179e\"],[0.4444444444444444,\"#bd3786\"],[0.5555555555555556,\"#d8576b\"],[0.6666666666666666,\"#ed7953\"],[0.7777777777777778,\"#fb9f3a\"],[0.8888888888888888,\"#fdca26\"],[1.0,\"#f0f921\"]],\"type\":\"surface\"}],\"table\":[{\"cells\":{\"fill\":{\"color\":\"#EBF0F8\"},\"line\":{\"color\":\"white\"}},\"header\":{\"fill\":{\"color\":\"#C8D4E3\"},\"line\":{\"color\":\"white\"}},\"type\":\"table\"}]},\"layout\":{\"annotationdefaults\":{\"arrowcolor\":\"#2a3f5f\",\"arrowhead\":0,\"arrowwidth\":1},\"autotypenumbers\":\"strict\",\"coloraxis\":{\"colorbar\":{\"outlinewidth\":0,\"ticks\":\"\"}},\"colorscale\":{\"diverging\":[[0,\"#8e0152\"],[0.1,\"#c51b7d\"],[0.2,\"#de77ae\"],[0.3,\"#f1b6da\"],[0.4,\"#fde0ef\"],[0.5,\"#f7f7f7\"],[0.6,\"#e6f5d0\"],[0.7,\"#b8e186\"],[0.8,\"#7fbc41\"],[0.9,\"#4d9221\"],[1,\"#276419\"]],\"sequential\":[[0.0,\"#0d0887\"],[0.1111111111111111,\"#46039f\"],[0.2222222222222222,\"#7201a8\"],[0.3333333333333333,\"#9c179e\"],[0.4444444444444444,\"#bd3786\"],[0.5555555555555556,\"#d8576b\"],[0.6666666666666666,\"#ed7953\"],[0.7777777777777778,\"#fb9f3a\"],[0.8888888888888888,\"#fdca26\"],[1.0,\"#f0f921\"]],\"sequentialminus\":[[0.0,\"#0d0887\"],[0.1111111111111111,\"#46039f\"],[0.2222222222222222,\"#7201a8\"],[0.3333333333333333,\"#9c179e\"],[0.4444444444444444,\"#bd3786\"],[0.5555555555555556,\"#d8576b\"],[0.6666666666666666,\"#ed7953\"],[0.7777777777777778,\"#fb9f3a\"],[0.8888888888888888,\"#fdca26\"],[1.0,\"#f0f921\"]]},\"colorway\":[\"#636efa\",\"#EF553B\",\"#00cc96\",\"#ab63fa\",\"#FFA15A\",\"#19d3f3\",\"#FF6692\",\"#B6E880\",\"#FF97FF\",\"#FECB52\"],\"font\":{\"color\":\"#2a3f5f\"},\"geo\":{\"bgcolor\":\"white\",\"lakecolor\":\"white\",\"landcolor\":\"white\",\"showlakes\":true,\"showland\":true,\"subunitcolor\":\"#C8D4E3\"},\"hoverlabel\":{\"align\":\"left\"},\"hovermode\":\"closest\",\"mapbox\":{\"style\":\"light\"},\"paper_bgcolor\":\"white\",\"plot_bgcolor\":\"white\",\"polar\":{\"angularaxis\":{\"gridcolor\":\"#EBF0F8\",\"linecolor\":\"#EBF0F8\",\"ticks\":\"\"},\"bgcolor\":\"white\",\"radialaxis\":{\"gridcolor\":\"#EBF0F8\",\"linecolor\":\"#EBF0F8\",\"ticks\":\"\"}},\"scene\":{\"xaxis\":{\"backgroundcolor\":\"white\",\"gridcolor\":\"#DFE8F3\",\"gridwidth\":2,\"linecolor\":\"#EBF0F8\",\"showbackground\":true,\"ticks\":\"\",\"zerolinecolor\":\"#EBF0F8\"},\"yaxis\":{\"backgroundcolor\":\"white\",\"gridcolor\":\"#DFE8F3\",\"gridwidth\":2,\"linecolor\":\"#EBF0F8\",\"showbackground\":true,\"ticks\":\"\",\"zerolinecolor\":\"#EBF0F8\"},\"zaxis\":{\"backgroundcolor\":\"white\",\"gridcolor\":\"#DFE8F3\",\"gridwidth\":2,\"linecolor\":\"#EBF0F8\",\"showbackground\":true,\"ticks\":\"\",\"zerolinecolor\":\"#EBF0F8\"}},\"shapedefaults\":{\"line\":{\"color\":\"#2a3f5f\"}},\"ternary\":{\"aaxis\":{\"gridcolor\":\"#DFE8F3\",\"linecolor\":\"#A2B1C6\",\"ticks\":\"\"},\"baxis\":{\"gridcolor\":\"#DFE8F3\",\"linecolor\":\"#A2B1C6\",\"ticks\":\"\"},\"bgcolor\":\"white\",\"caxis\":{\"gridcolor\":\"#DFE8F3\",\"linecolor\":\"#A2B1C6\",\"ticks\":\"\"}},\"title\":{\"x\":0.05},\"xaxis\":{\"automargin\":true,\"gridcolor\":\"#EBF0F8\",\"linecolor\":\"#EBF0F8\",\"ticks\":\"\",\"title\":{\"standoff\":15},\"zerolinecolor\":\"#EBF0F8\",\"zerolinewidth\":2},\"yaxis\":{\"automargin\":true,\"gridcolor\":\"#EBF0F8\",\"linecolor\":\"#EBF0F8\",\"ticks\":\"\",\"title\":{\"standoff\":15},\"zerolinecolor\":\"#EBF0F8\",\"zerolinewidth\":2}}},\"legend\":{\"x\":0.99,\"y\":0.99},\"title\":{\"text\":\"Ajuste de Poisson sobre df_train | KL Divergence = 1.2494\"},\"xaxis\":{\"title\":{\"text\":\"days_to_trend\"}},\"yaxis\":{\"title\":{\"text\":\"Probabilidad\"}}},                        {\"responsive\": true}                    ).then(function(){\n",
       "                            \n",
       "var gd = document.getElementById('d887bd2e-cc75-41fa-935d-0abec1294fbf');\n",
       "var x = new MutationObserver(function (mutations, observer) {{\n",
       "        var display = window.getComputedStyle(gd).display;\n",
       "        if (!display || display === 'none') {{\n",
       "            console.log([gd, 'removed!']);\n",
       "            Plotly.purge(gd);\n",
       "            observer.disconnect();\n",
       "        }}\n",
       "}});\n",
       "\n",
       "// Listen for the removal of the full notebook cells\n",
       "var notebookContainer = gd.closest('#notebook-container');\n",
       "if (notebookContainer) {{\n",
       "    x.observe(notebookContainer, {childList: true});\n",
       "}}\n",
       "\n",
       "// Listen for the clearing of the current output cell\n",
       "var outputEl = gd.closest('.output');\n",
       "if (outputEl) {{\n",
       "    x.observe(outputEl, {childList: true});\n",
       "}}\n",
       "\n",
       "                        })                };            </script>        </div>"
      ]
     },
     "metadata": {},
     "output_type": "display_data"
    },
    {
     "data": {
      "text/html": [
       "<div>            <script src=\"https://cdnjs.cloudflare.com/ajax/libs/mathjax/2.7.5/MathJax.js?config=TeX-AMS-MML_SVG\"></script><script type=\"text/javascript\">if (window.MathJax && window.MathJax.Hub && window.MathJax.Hub.Config) {window.MathJax.Hub.Config({SVG: {font: \"STIX-Web\"}});}</script>                <script type=\"text/javascript\">window.PlotlyConfig = {MathJaxConfig: 'local'};</script>\n",
       "        <script charset=\"utf-8\" src=\"https://cdn.plot.ly/plotly-3.0.1.min.js\"></script>                <div id=\"84aa90de-2380-480f-b285-3b338baf50a6\" class=\"plotly-graph-div\" style=\"height:525px; width:100%;\"></div>            <script type=\"text/javascript\">                window.PLOTLYENV=window.PLOTLYENV || {};                                if (document.getElementById(\"84aa90de-2380-480f-b285-3b338baf50a6\")) {                    Plotly.newPlot(                        \"84aa90de-2380-480f-b285-3b338baf50a6\",                        [{\"name\":\"Empirical\",\"opacity\":0.6,\"x\":{\"dtype\":\"i1\",\"bdata\":\"AAECAwQFBgcICQoLDA0ODxAREhMUFRYXGBkaGxwd\"},\"y\":{\"dtype\":\"f8\",\"bdata\":\"YdEMn9Sxsj9eACnqaE2zP+nPNa8glLM\\u002f45Z6LNr9sj8y8REhHs6yPxVIWV\\u002f8RbI\\u002fJsWjtfFtsD94JqSBpfSrP0kYwtEQdqg\\u002fCLCZGLc1pj\\u002fkzSXUThelP31snYfAh6M\\u002fUaOOWNbUoT+gICqaSguhP1Inq3EbcZ4\\u002fTJ0EcMbZmj8lMLUQUyOZP\\u002fx9kjA1oZU\\u002fd1BN1VQjlD9rJN9pKMORPzEh1TdAf44\\u002fY+rU0uT4iD8Z4RnJafCEP5VUM8gc1H4\\u002fB+SEHv6LdT+AnphG9JxtP1Du35hCHGQ\\u002fQfGNeKpXYj9XBG19f1pQP84bxSgiN0U\\u002f\"},\"type\":\"bar\"},{\"line\":{\"color\":\"orange\"},\"mode\":\"lines+markers\",\"name\":\"Geometric (fitted)\",\"x\":{\"dtype\":\"i1\",\"bdata\":\"AAECAwQFBgcICQoLDA0ODxAREhMUFRYXGBkaGxwd\"},\"y\":{\"dtype\":\"f8\",\"bdata\":\"Wy+x493v6z3\\u002fVDTRNq29P7Z6OaRiWLo\\u002fYr9CjEpjtz+FhsVeL8O0P9uek8aGbrI\\u002flVvJmNhcsD+XNgQcQA2tPxDD+d9gyqk\\u002frCPRsDnlpj9m+2hRRVOkP+qiTdksC6I\\u002f2eaFxKUEoD\\u002fzGlilp3CcP9Q5r49cP5k\\u002fRzJNXNBplj8SATyDtuWTP3qnkXPqqZE\\u002ftJJYtJxcjz+J\\u002fWJGW9eLP97pRpZFt4g\\u002fN\\u002fPMQADxhT9SmH9BdnqDP\\u002f7Ao0+0SoE\\u002fa1gUsJCzfj+MXRM7SUF7P+0nbS4MMng\\u002fkS5lXrt6dT87OMseeBFzP8j6bmV\\u002f7XA\\u002f\"},\"type\":\"scatter\"}],                        {\"template\":{\"data\":{\"barpolar\":[{\"marker\":{\"line\":{\"color\":\"white\",\"width\":0.5},\"pattern\":{\"fillmode\":\"overlay\",\"size\":10,\"solidity\":0.2}},\"type\":\"barpolar\"}],\"bar\":[{\"error_x\":{\"color\":\"#2a3f5f\"},\"error_y\":{\"color\":\"#2a3f5f\"},\"marker\":{\"line\":{\"color\":\"white\",\"width\":0.5},\"pattern\":{\"fillmode\":\"overlay\",\"size\":10,\"solidity\":0.2}},\"type\":\"bar\"}],\"carpet\":[{\"aaxis\":{\"endlinecolor\":\"#2a3f5f\",\"gridcolor\":\"#C8D4E3\",\"linecolor\":\"#C8D4E3\",\"minorgridcolor\":\"#C8D4E3\",\"startlinecolor\":\"#2a3f5f\"},\"baxis\":{\"endlinecolor\":\"#2a3f5f\",\"gridcolor\":\"#C8D4E3\",\"linecolor\":\"#C8D4E3\",\"minorgridcolor\":\"#C8D4E3\",\"startlinecolor\":\"#2a3f5f\"},\"type\":\"carpet\"}],\"choropleth\":[{\"colorbar\":{\"outlinewidth\":0,\"ticks\":\"\"},\"type\":\"choropleth\"}],\"contourcarpet\":[{\"colorbar\":{\"outlinewidth\":0,\"ticks\":\"\"},\"type\":\"contourcarpet\"}],\"contour\":[{\"colorbar\":{\"outlinewidth\":0,\"ticks\":\"\"},\"colorscale\":[[0.0,\"#0d0887\"],[0.1111111111111111,\"#46039f\"],[0.2222222222222222,\"#7201a8\"],[0.3333333333333333,\"#9c179e\"],[0.4444444444444444,\"#bd3786\"],[0.5555555555555556,\"#d8576b\"],[0.6666666666666666,\"#ed7953\"],[0.7777777777777778,\"#fb9f3a\"],[0.8888888888888888,\"#fdca26\"],[1.0,\"#f0f921\"]],\"type\":\"contour\"}],\"heatmap\":[{\"colorbar\":{\"outlinewidth\":0,\"ticks\":\"\"},\"colorscale\":[[0.0,\"#0d0887\"],[0.1111111111111111,\"#46039f\"],[0.2222222222222222,\"#7201a8\"],[0.3333333333333333,\"#9c179e\"],[0.4444444444444444,\"#bd3786\"],[0.5555555555555556,\"#d8576b\"],[0.6666666666666666,\"#ed7953\"],[0.7777777777777778,\"#fb9f3a\"],[0.8888888888888888,\"#fdca26\"],[1.0,\"#f0f921\"]],\"type\":\"heatmap\"}],\"histogram2dcontour\":[{\"colorbar\":{\"outlinewidth\":0,\"ticks\":\"\"},\"colorscale\":[[0.0,\"#0d0887\"],[0.1111111111111111,\"#46039f\"],[0.2222222222222222,\"#7201a8\"],[0.3333333333333333,\"#9c179e\"],[0.4444444444444444,\"#bd3786\"],[0.5555555555555556,\"#d8576b\"],[0.6666666666666666,\"#ed7953\"],[0.7777777777777778,\"#fb9f3a\"],[0.8888888888888888,\"#fdca26\"],[1.0,\"#f0f921\"]],\"type\":\"histogram2dcontour\"}],\"histogram2d\":[{\"colorbar\":{\"outlinewidth\":0,\"ticks\":\"\"},\"colorscale\":[[0.0,\"#0d0887\"],[0.1111111111111111,\"#46039f\"],[0.2222222222222222,\"#7201a8\"],[0.3333333333333333,\"#9c179e\"],[0.4444444444444444,\"#bd3786\"],[0.5555555555555556,\"#d8576b\"],[0.6666666666666666,\"#ed7953\"],[0.7777777777777778,\"#fb9f3a\"],[0.8888888888888888,\"#fdca26\"],[1.0,\"#f0f921\"]],\"type\":\"histogram2d\"}],\"histogram\":[{\"marker\":{\"pattern\":{\"fillmode\":\"overlay\",\"size\":10,\"solidity\":0.2}},\"type\":\"histogram\"}],\"mesh3d\":[{\"colorbar\":{\"outlinewidth\":0,\"ticks\":\"\"},\"type\":\"mesh3d\"}],\"parcoords\":[{\"line\":{\"colorbar\":{\"outlinewidth\":0,\"ticks\":\"\"}},\"type\":\"parcoords\"}],\"pie\":[{\"automargin\":true,\"type\":\"pie\"}],\"scatter3d\":[{\"line\":{\"colorbar\":{\"outlinewidth\":0,\"ticks\":\"\"}},\"marker\":{\"colorbar\":{\"outlinewidth\":0,\"ticks\":\"\"}},\"type\":\"scatter3d\"}],\"scattercarpet\":[{\"marker\":{\"colorbar\":{\"outlinewidth\":0,\"ticks\":\"\"}},\"type\":\"scattercarpet\"}],\"scattergeo\":[{\"marker\":{\"colorbar\":{\"outlinewidth\":0,\"ticks\":\"\"}},\"type\":\"scattergeo\"}],\"scattergl\":[{\"marker\":{\"colorbar\":{\"outlinewidth\":0,\"ticks\":\"\"}},\"type\":\"scattergl\"}],\"scattermapbox\":[{\"marker\":{\"colorbar\":{\"outlinewidth\":0,\"ticks\":\"\"}},\"type\":\"scattermapbox\"}],\"scattermap\":[{\"marker\":{\"colorbar\":{\"outlinewidth\":0,\"ticks\":\"\"}},\"type\":\"scattermap\"}],\"scatterpolargl\":[{\"marker\":{\"colorbar\":{\"outlinewidth\":0,\"ticks\":\"\"}},\"type\":\"scatterpolargl\"}],\"scatterpolar\":[{\"marker\":{\"colorbar\":{\"outlinewidth\":0,\"ticks\":\"\"}},\"type\":\"scatterpolar\"}],\"scatter\":[{\"fillpattern\":{\"fillmode\":\"overlay\",\"size\":10,\"solidity\":0.2},\"type\":\"scatter\"}],\"scatterternary\":[{\"marker\":{\"colorbar\":{\"outlinewidth\":0,\"ticks\":\"\"}},\"type\":\"scatterternary\"}],\"surface\":[{\"colorbar\":{\"outlinewidth\":0,\"ticks\":\"\"},\"colorscale\":[[0.0,\"#0d0887\"],[0.1111111111111111,\"#46039f\"],[0.2222222222222222,\"#7201a8\"],[0.3333333333333333,\"#9c179e\"],[0.4444444444444444,\"#bd3786\"],[0.5555555555555556,\"#d8576b\"],[0.6666666666666666,\"#ed7953\"],[0.7777777777777778,\"#fb9f3a\"],[0.8888888888888888,\"#fdca26\"],[1.0,\"#f0f921\"]],\"type\":\"surface\"}],\"table\":[{\"cells\":{\"fill\":{\"color\":\"#EBF0F8\"},\"line\":{\"color\":\"white\"}},\"header\":{\"fill\":{\"color\":\"#C8D4E3\"},\"line\":{\"color\":\"white\"}},\"type\":\"table\"}]},\"layout\":{\"annotationdefaults\":{\"arrowcolor\":\"#2a3f5f\",\"arrowhead\":0,\"arrowwidth\":1},\"autotypenumbers\":\"strict\",\"coloraxis\":{\"colorbar\":{\"outlinewidth\":0,\"ticks\":\"\"}},\"colorscale\":{\"diverging\":[[0,\"#8e0152\"],[0.1,\"#c51b7d\"],[0.2,\"#de77ae\"],[0.3,\"#f1b6da\"],[0.4,\"#fde0ef\"],[0.5,\"#f7f7f7\"],[0.6,\"#e6f5d0\"],[0.7,\"#b8e186\"],[0.8,\"#7fbc41\"],[0.9,\"#4d9221\"],[1,\"#276419\"]],\"sequential\":[[0.0,\"#0d0887\"],[0.1111111111111111,\"#46039f\"],[0.2222222222222222,\"#7201a8\"],[0.3333333333333333,\"#9c179e\"],[0.4444444444444444,\"#bd3786\"],[0.5555555555555556,\"#d8576b\"],[0.6666666666666666,\"#ed7953\"],[0.7777777777777778,\"#fb9f3a\"],[0.8888888888888888,\"#fdca26\"],[1.0,\"#f0f921\"]],\"sequentialminus\":[[0.0,\"#0d0887\"],[0.1111111111111111,\"#46039f\"],[0.2222222222222222,\"#7201a8\"],[0.3333333333333333,\"#9c179e\"],[0.4444444444444444,\"#bd3786\"],[0.5555555555555556,\"#d8576b\"],[0.6666666666666666,\"#ed7953\"],[0.7777777777777778,\"#fb9f3a\"],[0.8888888888888888,\"#fdca26\"],[1.0,\"#f0f921\"]]},\"colorway\":[\"#636efa\",\"#EF553B\",\"#00cc96\",\"#ab63fa\",\"#FFA15A\",\"#19d3f3\",\"#FF6692\",\"#B6E880\",\"#FF97FF\",\"#FECB52\"],\"font\":{\"color\":\"#2a3f5f\"},\"geo\":{\"bgcolor\":\"white\",\"lakecolor\":\"white\",\"landcolor\":\"white\",\"showlakes\":true,\"showland\":true,\"subunitcolor\":\"#C8D4E3\"},\"hoverlabel\":{\"align\":\"left\"},\"hovermode\":\"closest\",\"mapbox\":{\"style\":\"light\"},\"paper_bgcolor\":\"white\",\"plot_bgcolor\":\"white\",\"polar\":{\"angularaxis\":{\"gridcolor\":\"#EBF0F8\",\"linecolor\":\"#EBF0F8\",\"ticks\":\"\"},\"bgcolor\":\"white\",\"radialaxis\":{\"gridcolor\":\"#EBF0F8\",\"linecolor\":\"#EBF0F8\",\"ticks\":\"\"}},\"scene\":{\"xaxis\":{\"backgroundcolor\":\"white\",\"gridcolor\":\"#DFE8F3\",\"gridwidth\":2,\"linecolor\":\"#EBF0F8\",\"showbackground\":true,\"ticks\":\"\",\"zerolinecolor\":\"#EBF0F8\"},\"yaxis\":{\"backgroundcolor\":\"white\",\"gridcolor\":\"#DFE8F3\",\"gridwidth\":2,\"linecolor\":\"#EBF0F8\",\"showbackground\":true,\"ticks\":\"\",\"zerolinecolor\":\"#EBF0F8\"},\"zaxis\":{\"backgroundcolor\":\"white\",\"gridcolor\":\"#DFE8F3\",\"gridwidth\":2,\"linecolor\":\"#EBF0F8\",\"showbackground\":true,\"ticks\":\"\",\"zerolinecolor\":\"#EBF0F8\"}},\"shapedefaults\":{\"line\":{\"color\":\"#2a3f5f\"}},\"ternary\":{\"aaxis\":{\"gridcolor\":\"#DFE8F3\",\"linecolor\":\"#A2B1C6\",\"ticks\":\"\"},\"baxis\":{\"gridcolor\":\"#DFE8F3\",\"linecolor\":\"#A2B1C6\",\"ticks\":\"\"},\"bgcolor\":\"white\",\"caxis\":{\"gridcolor\":\"#DFE8F3\",\"linecolor\":\"#A2B1C6\",\"ticks\":\"\"}},\"title\":{\"x\":0.05},\"xaxis\":{\"automargin\":true,\"gridcolor\":\"#EBF0F8\",\"linecolor\":\"#EBF0F8\",\"ticks\":\"\",\"title\":{\"standoff\":15},\"zerolinecolor\":\"#EBF0F8\",\"zerolinewidth\":2},\"yaxis\":{\"automargin\":true,\"gridcolor\":\"#EBF0F8\",\"linecolor\":\"#EBF0F8\",\"ticks\":\"\",\"title\":{\"standoff\":15},\"zerolinecolor\":\"#EBF0F8\",\"zerolinewidth\":2}}},\"legend\":{\"x\":0.99,\"y\":0.99},\"title\":{\"text\":\"Ajuste de Geometric sobre df_train | KL Divergence = 1.3919\"},\"xaxis\":{\"title\":{\"text\":\"days_to_trend\"}},\"yaxis\":{\"title\":{\"text\":\"Probabilidad\"}}},                        {\"responsive\": true}                    ).then(function(){\n",
       "                            \n",
       "var gd = document.getElementById('84aa90de-2380-480f-b285-3b338baf50a6');\n",
       "var x = new MutationObserver(function (mutations, observer) {{\n",
       "        var display = window.getComputedStyle(gd).display;\n",
       "        if (!display || display === 'none') {{\n",
       "            console.log([gd, 'removed!']);\n",
       "            Plotly.purge(gd);\n",
       "            observer.disconnect();\n",
       "        }}\n",
       "}});\n",
       "\n",
       "// Listen for the removal of the full notebook cells\n",
       "var notebookContainer = gd.closest('#notebook-container');\n",
       "if (notebookContainer) {{\n",
       "    x.observe(notebookContainer, {childList: true});\n",
       "}}\n",
       "\n",
       "// Listen for the clearing of the current output cell\n",
       "var outputEl = gd.closest('.output');\n",
       "if (outputEl) {{\n",
       "    x.observe(outputEl, {childList: true});\n",
       "}}\n",
       "\n",
       "                        })                };            </script>        </div>"
      ]
     },
     "metadata": {},
     "output_type": "display_data"
    },
    {
     "data": {
      "text/html": [
       "<div>            <script src=\"https://cdnjs.cloudflare.com/ajax/libs/mathjax/2.7.5/MathJax.js?config=TeX-AMS-MML_SVG\"></script><script type=\"text/javascript\">if (window.MathJax && window.MathJax.Hub && window.MathJax.Hub.Config) {window.MathJax.Hub.Config({SVG: {font: \"STIX-Web\"}});}</script>                <script type=\"text/javascript\">window.PlotlyConfig = {MathJaxConfig: 'local'};</script>\n",
       "        <script charset=\"utf-8\" src=\"https://cdn.plot.ly/plotly-3.0.1.min.js\"></script>                <div id=\"28ece5d3-b7b3-4a6d-b734-cc8ee396458d\" class=\"plotly-graph-div\" style=\"height:525px; width:100%;\"></div>            <script type=\"text/javascript\">                window.PLOTLYENV=window.PLOTLYENV || {};                                if (document.getElementById(\"28ece5d3-b7b3-4a6d-b734-cc8ee396458d\")) {                    Plotly.newPlot(                        \"28ece5d3-b7b3-4a6d-b734-cc8ee396458d\",                        [{\"name\":\"Empirical\",\"opacity\":0.6,\"x\":{\"dtype\":\"i1\",\"bdata\":\"AAECAwQFBgcICQoLDA0ODxAREhMUFRYXGBkaGxwd\"},\"y\":{\"dtype\":\"f8\",\"bdata\":\"4MR6n9Sxsj\\u002fd85bqaE2zP2jDo68glLM\\u002fYoroLNr9sj+x5H8hHs6yP5Q7x1\\u002f8RbI\\u002fpbgRtvFtsD93DYCCpfSrP0j\\u002fndIQdqg\\u002fB5d1Gbc1pj\\u002fjtAHVThelP3xTeYjAh6M\\u002fUIpqWdbUoT+fBwabSguhP1D1YnMbcZ4\\u002fSmu8ccbZmj8j\\u002fmwSUyOZP\\u002fpLSjI1oZU\\u002fdR4F11QjlD9p8pZrKMORPyy9RDtAf44\\u002fXoZE1uT4iD8UfYnMafCEP4uMEs8c1H4\\u002f\\u002fRtkJf6LdT9tDldU9JxtPz1enqZCHGQ\\u002fLmFMhqpXYj8x5OmYf1pQP4Lbvl8iN0U\\u002f\"},\"type\":\"bar\"},{\"line\":{\"color\":\"orange\"},\"mode\":\"lines+markers\",\"name\":\"Negative Binomial (fitted)\",\"x\":{\"dtype\":\"i1\",\"bdata\":\"AAECAwQFBgcICQoLDA0ODxAREhMUFRYXGBkaGxwd\"},\"y\":{\"dtype\":\"f8\",\"bdata\":\"h1h04pkwpT\\u002fhxi2HxNmwP8RTVPuDIbQ\\u002f3quelNlktT+uPYcyM1O1P2kg1g6LabQ\\u002f83g3eAIAsz\\u002feKIKl0VOxPyhVHNc+Ha8\\u002fS4p6VeOXqz9BRKzcZjqoP+X3SNFYGaU\\u002fNhmENlw\\u002foj8HaAy1p2CfP9Vs9f1a15o\\u002fJ78mFQzclj+l\\u002fx3TpGSTPwcGwb1bZZA\\u002fHXFXJ5mjiz9qhgekYjuHP0ijoruteoM\\u002fjL56xsJLgD\\u002fYcvylvDV7PwInTXOSrHY\\u002f7lBKVqXccj\\u002fzVORo3VRvP5h6LXX2+2k\\u002f1e4S8y+FZT\\u002fstnuJ98xhP6X8McrGaV0\\u002f\"},\"type\":\"scatter\"}],                        {\"template\":{\"data\":{\"barpolar\":[{\"marker\":{\"line\":{\"color\":\"white\",\"width\":0.5},\"pattern\":{\"fillmode\":\"overlay\",\"size\":10,\"solidity\":0.2}},\"type\":\"barpolar\"}],\"bar\":[{\"error_x\":{\"color\":\"#2a3f5f\"},\"error_y\":{\"color\":\"#2a3f5f\"},\"marker\":{\"line\":{\"color\":\"white\",\"width\":0.5},\"pattern\":{\"fillmode\":\"overlay\",\"size\":10,\"solidity\":0.2}},\"type\":\"bar\"}],\"carpet\":[{\"aaxis\":{\"endlinecolor\":\"#2a3f5f\",\"gridcolor\":\"#C8D4E3\",\"linecolor\":\"#C8D4E3\",\"minorgridcolor\":\"#C8D4E3\",\"startlinecolor\":\"#2a3f5f\"},\"baxis\":{\"endlinecolor\":\"#2a3f5f\",\"gridcolor\":\"#C8D4E3\",\"linecolor\":\"#C8D4E3\",\"minorgridcolor\":\"#C8D4E3\",\"startlinecolor\":\"#2a3f5f\"},\"type\":\"carpet\"}],\"choropleth\":[{\"colorbar\":{\"outlinewidth\":0,\"ticks\":\"\"},\"type\":\"choropleth\"}],\"contourcarpet\":[{\"colorbar\":{\"outlinewidth\":0,\"ticks\":\"\"},\"type\":\"contourcarpet\"}],\"contour\":[{\"colorbar\":{\"outlinewidth\":0,\"ticks\":\"\"},\"colorscale\":[[0.0,\"#0d0887\"],[0.1111111111111111,\"#46039f\"],[0.2222222222222222,\"#7201a8\"],[0.3333333333333333,\"#9c179e\"],[0.4444444444444444,\"#bd3786\"],[0.5555555555555556,\"#d8576b\"],[0.6666666666666666,\"#ed7953\"],[0.7777777777777778,\"#fb9f3a\"],[0.8888888888888888,\"#fdca26\"],[1.0,\"#f0f921\"]],\"type\":\"contour\"}],\"heatmap\":[{\"colorbar\":{\"outlinewidth\":0,\"ticks\":\"\"},\"colorscale\":[[0.0,\"#0d0887\"],[0.1111111111111111,\"#46039f\"],[0.2222222222222222,\"#7201a8\"],[0.3333333333333333,\"#9c179e\"],[0.4444444444444444,\"#bd3786\"],[0.5555555555555556,\"#d8576b\"],[0.6666666666666666,\"#ed7953\"],[0.7777777777777778,\"#fb9f3a\"],[0.8888888888888888,\"#fdca26\"],[1.0,\"#f0f921\"]],\"type\":\"heatmap\"}],\"histogram2dcontour\":[{\"colorbar\":{\"outlinewidth\":0,\"ticks\":\"\"},\"colorscale\":[[0.0,\"#0d0887\"],[0.1111111111111111,\"#46039f\"],[0.2222222222222222,\"#7201a8\"],[0.3333333333333333,\"#9c179e\"],[0.4444444444444444,\"#bd3786\"],[0.5555555555555556,\"#d8576b\"],[0.6666666666666666,\"#ed7953\"],[0.7777777777777778,\"#fb9f3a\"],[0.8888888888888888,\"#fdca26\"],[1.0,\"#f0f921\"]],\"type\":\"histogram2dcontour\"}],\"histogram2d\":[{\"colorbar\":{\"outlinewidth\":0,\"ticks\":\"\"},\"colorscale\":[[0.0,\"#0d0887\"],[0.1111111111111111,\"#46039f\"],[0.2222222222222222,\"#7201a8\"],[0.3333333333333333,\"#9c179e\"],[0.4444444444444444,\"#bd3786\"],[0.5555555555555556,\"#d8576b\"],[0.6666666666666666,\"#ed7953\"],[0.7777777777777778,\"#fb9f3a\"],[0.8888888888888888,\"#fdca26\"],[1.0,\"#f0f921\"]],\"type\":\"histogram2d\"}],\"histogram\":[{\"marker\":{\"pattern\":{\"fillmode\":\"overlay\",\"size\":10,\"solidity\":0.2}},\"type\":\"histogram\"}],\"mesh3d\":[{\"colorbar\":{\"outlinewidth\":0,\"ticks\":\"\"},\"type\":\"mesh3d\"}],\"parcoords\":[{\"line\":{\"colorbar\":{\"outlinewidth\":0,\"ticks\":\"\"}},\"type\":\"parcoords\"}],\"pie\":[{\"automargin\":true,\"type\":\"pie\"}],\"scatter3d\":[{\"line\":{\"colorbar\":{\"outlinewidth\":0,\"ticks\":\"\"}},\"marker\":{\"colorbar\":{\"outlinewidth\":0,\"ticks\":\"\"}},\"type\":\"scatter3d\"}],\"scattercarpet\":[{\"marker\":{\"colorbar\":{\"outlinewidth\":0,\"ticks\":\"\"}},\"type\":\"scattercarpet\"}],\"scattergeo\":[{\"marker\":{\"colorbar\":{\"outlinewidth\":0,\"ticks\":\"\"}},\"type\":\"scattergeo\"}],\"scattergl\":[{\"marker\":{\"colorbar\":{\"outlinewidth\":0,\"ticks\":\"\"}},\"type\":\"scattergl\"}],\"scattermapbox\":[{\"marker\":{\"colorbar\":{\"outlinewidth\":0,\"ticks\":\"\"}},\"type\":\"scattermapbox\"}],\"scattermap\":[{\"marker\":{\"colorbar\":{\"outlinewidth\":0,\"ticks\":\"\"}},\"type\":\"scattermap\"}],\"scatterpolargl\":[{\"marker\":{\"colorbar\":{\"outlinewidth\":0,\"ticks\":\"\"}},\"type\":\"scatterpolargl\"}],\"scatterpolar\":[{\"marker\":{\"colorbar\":{\"outlinewidth\":0,\"ticks\":\"\"}},\"type\":\"scatterpolar\"}],\"scatter\":[{\"fillpattern\":{\"fillmode\":\"overlay\",\"size\":10,\"solidity\":0.2},\"type\":\"scatter\"}],\"scatterternary\":[{\"marker\":{\"colorbar\":{\"outlinewidth\":0,\"ticks\":\"\"}},\"type\":\"scatterternary\"}],\"surface\":[{\"colorbar\":{\"outlinewidth\":0,\"ticks\":\"\"},\"colorscale\":[[0.0,\"#0d0887\"],[0.1111111111111111,\"#46039f\"],[0.2222222222222222,\"#7201a8\"],[0.3333333333333333,\"#9c179e\"],[0.4444444444444444,\"#bd3786\"],[0.5555555555555556,\"#d8576b\"],[0.6666666666666666,\"#ed7953\"],[0.7777777777777778,\"#fb9f3a\"],[0.8888888888888888,\"#fdca26\"],[1.0,\"#f0f921\"]],\"type\":\"surface\"}],\"table\":[{\"cells\":{\"fill\":{\"color\":\"#EBF0F8\"},\"line\":{\"color\":\"white\"}},\"header\":{\"fill\":{\"color\":\"#C8D4E3\"},\"line\":{\"color\":\"white\"}},\"type\":\"table\"}]},\"layout\":{\"annotationdefaults\":{\"arrowcolor\":\"#2a3f5f\",\"arrowhead\":0,\"arrowwidth\":1},\"autotypenumbers\":\"strict\",\"coloraxis\":{\"colorbar\":{\"outlinewidth\":0,\"ticks\":\"\"}},\"colorscale\":{\"diverging\":[[0,\"#8e0152\"],[0.1,\"#c51b7d\"],[0.2,\"#de77ae\"],[0.3,\"#f1b6da\"],[0.4,\"#fde0ef\"],[0.5,\"#f7f7f7\"],[0.6,\"#e6f5d0\"],[0.7,\"#b8e186\"],[0.8,\"#7fbc41\"],[0.9,\"#4d9221\"],[1,\"#276419\"]],\"sequential\":[[0.0,\"#0d0887\"],[0.1111111111111111,\"#46039f\"],[0.2222222222222222,\"#7201a8\"],[0.3333333333333333,\"#9c179e\"],[0.4444444444444444,\"#bd3786\"],[0.5555555555555556,\"#d8576b\"],[0.6666666666666666,\"#ed7953\"],[0.7777777777777778,\"#fb9f3a\"],[0.8888888888888888,\"#fdca26\"],[1.0,\"#f0f921\"]],\"sequentialminus\":[[0.0,\"#0d0887\"],[0.1111111111111111,\"#46039f\"],[0.2222222222222222,\"#7201a8\"],[0.3333333333333333,\"#9c179e\"],[0.4444444444444444,\"#bd3786\"],[0.5555555555555556,\"#d8576b\"],[0.6666666666666666,\"#ed7953\"],[0.7777777777777778,\"#fb9f3a\"],[0.8888888888888888,\"#fdca26\"],[1.0,\"#f0f921\"]]},\"colorway\":[\"#636efa\",\"#EF553B\",\"#00cc96\",\"#ab63fa\",\"#FFA15A\",\"#19d3f3\",\"#FF6692\",\"#B6E880\",\"#FF97FF\",\"#FECB52\"],\"font\":{\"color\":\"#2a3f5f\"},\"geo\":{\"bgcolor\":\"white\",\"lakecolor\":\"white\",\"landcolor\":\"white\",\"showlakes\":true,\"showland\":true,\"subunitcolor\":\"#C8D4E3\"},\"hoverlabel\":{\"align\":\"left\"},\"hovermode\":\"closest\",\"mapbox\":{\"style\":\"light\"},\"paper_bgcolor\":\"white\",\"plot_bgcolor\":\"white\",\"polar\":{\"angularaxis\":{\"gridcolor\":\"#EBF0F8\",\"linecolor\":\"#EBF0F8\",\"ticks\":\"\"},\"bgcolor\":\"white\",\"radialaxis\":{\"gridcolor\":\"#EBF0F8\",\"linecolor\":\"#EBF0F8\",\"ticks\":\"\"}},\"scene\":{\"xaxis\":{\"backgroundcolor\":\"white\",\"gridcolor\":\"#DFE8F3\",\"gridwidth\":2,\"linecolor\":\"#EBF0F8\",\"showbackground\":true,\"ticks\":\"\",\"zerolinecolor\":\"#EBF0F8\"},\"yaxis\":{\"backgroundcolor\":\"white\",\"gridcolor\":\"#DFE8F3\",\"gridwidth\":2,\"linecolor\":\"#EBF0F8\",\"showbackground\":true,\"ticks\":\"\",\"zerolinecolor\":\"#EBF0F8\"},\"zaxis\":{\"backgroundcolor\":\"white\",\"gridcolor\":\"#DFE8F3\",\"gridwidth\":2,\"linecolor\":\"#EBF0F8\",\"showbackground\":true,\"ticks\":\"\",\"zerolinecolor\":\"#EBF0F8\"}},\"shapedefaults\":{\"line\":{\"color\":\"#2a3f5f\"}},\"ternary\":{\"aaxis\":{\"gridcolor\":\"#DFE8F3\",\"linecolor\":\"#A2B1C6\",\"ticks\":\"\"},\"baxis\":{\"gridcolor\":\"#DFE8F3\",\"linecolor\":\"#A2B1C6\",\"ticks\":\"\"},\"bgcolor\":\"white\",\"caxis\":{\"gridcolor\":\"#DFE8F3\",\"linecolor\":\"#A2B1C6\",\"ticks\":\"\"}},\"title\":{\"x\":0.05},\"xaxis\":{\"automargin\":true,\"gridcolor\":\"#EBF0F8\",\"linecolor\":\"#EBF0F8\",\"ticks\":\"\",\"title\":{\"standoff\":15},\"zerolinecolor\":\"#EBF0F8\",\"zerolinewidth\":2},\"yaxis\":{\"automargin\":true,\"gridcolor\":\"#EBF0F8\",\"linecolor\":\"#EBF0F8\",\"ticks\":\"\",\"title\":{\"standoff\":15},\"zerolinecolor\":\"#EBF0F8\",\"zerolinewidth\":2}}},\"legend\":{\"x\":0.99,\"y\":0.99},\"title\":{\"text\":\"Ajuste de Negative Binomial sobre df_train | KL Divergence = 0.0266\"},\"xaxis\":{\"title\":{\"text\":\"days_to_trend\"}},\"yaxis\":{\"title\":{\"text\":\"Probabilidad\"}}},                        {\"responsive\": true}                    ).then(function(){\n",
       "                            \n",
       "var gd = document.getElementById('28ece5d3-b7b3-4a6d-b734-cc8ee396458d');\n",
       "var x = new MutationObserver(function (mutations, observer) {{\n",
       "        var display = window.getComputedStyle(gd).display;\n",
       "        if (!display || display === 'none') {{\n",
       "            console.log([gd, 'removed!']);\n",
       "            Plotly.purge(gd);\n",
       "            observer.disconnect();\n",
       "        }}\n",
       "}});\n",
       "\n",
       "// Listen for the removal of the full notebook cells\n",
       "var notebookContainer = gd.closest('#notebook-container');\n",
       "if (notebookContainer) {{\n",
       "    x.observe(notebookContainer, {childList: true});\n",
       "}}\n",
       "\n",
       "// Listen for the clearing of the current output cell\n",
       "var outputEl = gd.closest('.output');\n",
       "if (outputEl) {{\n",
       "    x.observe(outputEl, {childList: true});\n",
       "}}\n",
       "\n",
       "                        })                };            </script>        </div>"
      ]
     },
     "metadata": {},
     "output_type": "display_data"
    },
    {
     "data": {
      "text/html": [
       "<div>            <script src=\"https://cdnjs.cloudflare.com/ajax/libs/mathjax/2.7.5/MathJax.js?config=TeX-AMS-MML_SVG\"></script><script type=\"text/javascript\">if (window.MathJax && window.MathJax.Hub && window.MathJax.Hub.Config) {window.MathJax.Hub.Config({SVG: {font: \"STIX-Web\"}});}</script>                <script type=\"text/javascript\">window.PlotlyConfig = {MathJaxConfig: 'local'};</script>\n",
       "        <script charset=\"utf-8\" src=\"https://cdn.plot.ly/plotly-3.0.1.min.js\"></script>                <div id=\"6bd4cd24-a223-4511-8a45-645902f3c363\" class=\"plotly-graph-div\" style=\"height:525px; width:100%;\"></div>            <script type=\"text/javascript\">                window.PLOTLYENV=window.PLOTLYENV || {};                                if (document.getElementById(\"6bd4cd24-a223-4511-8a45-645902f3c363\")) {                    Plotly.newPlot(                        \"6bd4cd24-a223-4511-8a45-645902f3c363\",                        [{\"name\":\"Empirical\",\"opacity\":0.6,\"x\":{\"dtype\":\"i1\",\"bdata\":\"AAECAwQFBgcICQoLDA0ODxAREhMUFRYXGBkaGxwd\"},\"y\":{\"dtype\":\"f8\",\"bdata\":\"X7jon9Sxsj9c5wTraE2zP+e2EbAglLM\\u002f4X1WLdr9sj8w2O0hHs6yPxMvNWD8RbI\\u002fJKx\\u002ftvFtsD929FuDpfSrP0fmedMQdqg\\u002fBn5RGrc1pj\\u002fim93VThelP3s6VYnAh6M\\u002fT3FGWtbUoT+e7uGbSguhP07DGnUbcZ4\\u002fSDl0c8bZmj8hzCQUUyOZP\\u002fgZAjQ1oZU\\u002fc+y82FQjlD9nwE5tKMORPydZtD5Af44\\u002fWSK02eT4iD8PGfnPafCEP4HE8dUc1H4\\u002f81NDLP6LdT9afhVi9JxtPyrOXLRCHGQ\\u002fG9EKlKpXYj8LxGa0f1pQPzabuJYiN0U\\u002f\"},\"type\":\"bar\"},{\"line\":{\"color\":\"orange\"},\"mode\":\"lines+markers\",\"name\":\"Discretized Normal (fitted)\",\"x\":{\"dtype\":\"i1\",\"bdata\":\"AAECAwQFBgcICQoLDA0ODxAREhMUFRYXGBkaGxwd\"},\"y\":{\"dtype\":\"f8\",\"bdata\":\"6U\\u002f\\u002ftEMpoD+Q5JOs+IKjP2Uy6dgQ96Y\\u002f8fvLw+NZqj8Sn6TMJ3qtPyp+5G+yErA\\u002fXy2IbpIWsT8+vrCpE7axP4KsKThl5bE\\u002fvlDM2\\u002fegsT89VkhM7+2wP0EOo8X9sq8\\u002ffc\\u002f2mZvurD+vZbbjUL6pP5nFMmS+VKY\\u002fVn6LcHLioj8kgGQKUyOfP\\u002fO21XzHBpk\\u002fANDttwKckz9ZFm\\u002f9SfWNPxv6VARAT4Y\\u002fWF28\\u002fVEygD8KRsRaN+12P1q8LABno28\\u002fTMWuEC5IZT9XsYwqjOlbP1hZaW0z2FE\\u002f+ZjRSE0+Rj+D9JYexAc7P527xAvoAjA\\u002f\"},\"type\":\"scatter\"}],                        {\"template\":{\"data\":{\"barpolar\":[{\"marker\":{\"line\":{\"color\":\"white\",\"width\":0.5},\"pattern\":{\"fillmode\":\"overlay\",\"size\":10,\"solidity\":0.2}},\"type\":\"barpolar\"}],\"bar\":[{\"error_x\":{\"color\":\"#2a3f5f\"},\"error_y\":{\"color\":\"#2a3f5f\"},\"marker\":{\"line\":{\"color\":\"white\",\"width\":0.5},\"pattern\":{\"fillmode\":\"overlay\",\"size\":10,\"solidity\":0.2}},\"type\":\"bar\"}],\"carpet\":[{\"aaxis\":{\"endlinecolor\":\"#2a3f5f\",\"gridcolor\":\"#C8D4E3\",\"linecolor\":\"#C8D4E3\",\"minorgridcolor\":\"#C8D4E3\",\"startlinecolor\":\"#2a3f5f\"},\"baxis\":{\"endlinecolor\":\"#2a3f5f\",\"gridcolor\":\"#C8D4E3\",\"linecolor\":\"#C8D4E3\",\"minorgridcolor\":\"#C8D4E3\",\"startlinecolor\":\"#2a3f5f\"},\"type\":\"carpet\"}],\"choropleth\":[{\"colorbar\":{\"outlinewidth\":0,\"ticks\":\"\"},\"type\":\"choropleth\"}],\"contourcarpet\":[{\"colorbar\":{\"outlinewidth\":0,\"ticks\":\"\"},\"type\":\"contourcarpet\"}],\"contour\":[{\"colorbar\":{\"outlinewidth\":0,\"ticks\":\"\"},\"colorscale\":[[0.0,\"#0d0887\"],[0.1111111111111111,\"#46039f\"],[0.2222222222222222,\"#7201a8\"],[0.3333333333333333,\"#9c179e\"],[0.4444444444444444,\"#bd3786\"],[0.5555555555555556,\"#d8576b\"],[0.6666666666666666,\"#ed7953\"],[0.7777777777777778,\"#fb9f3a\"],[0.8888888888888888,\"#fdca26\"],[1.0,\"#f0f921\"]],\"type\":\"contour\"}],\"heatmap\":[{\"colorbar\":{\"outlinewidth\":0,\"ticks\":\"\"},\"colorscale\":[[0.0,\"#0d0887\"],[0.1111111111111111,\"#46039f\"],[0.2222222222222222,\"#7201a8\"],[0.3333333333333333,\"#9c179e\"],[0.4444444444444444,\"#bd3786\"],[0.5555555555555556,\"#d8576b\"],[0.6666666666666666,\"#ed7953\"],[0.7777777777777778,\"#fb9f3a\"],[0.8888888888888888,\"#fdca26\"],[1.0,\"#f0f921\"]],\"type\":\"heatmap\"}],\"histogram2dcontour\":[{\"colorbar\":{\"outlinewidth\":0,\"ticks\":\"\"},\"colorscale\":[[0.0,\"#0d0887\"],[0.1111111111111111,\"#46039f\"],[0.2222222222222222,\"#7201a8\"],[0.3333333333333333,\"#9c179e\"],[0.4444444444444444,\"#bd3786\"],[0.5555555555555556,\"#d8576b\"],[0.6666666666666666,\"#ed7953\"],[0.7777777777777778,\"#fb9f3a\"],[0.8888888888888888,\"#fdca26\"],[1.0,\"#f0f921\"]],\"type\":\"histogram2dcontour\"}],\"histogram2d\":[{\"colorbar\":{\"outlinewidth\":0,\"ticks\":\"\"},\"colorscale\":[[0.0,\"#0d0887\"],[0.1111111111111111,\"#46039f\"],[0.2222222222222222,\"#7201a8\"],[0.3333333333333333,\"#9c179e\"],[0.4444444444444444,\"#bd3786\"],[0.5555555555555556,\"#d8576b\"],[0.6666666666666666,\"#ed7953\"],[0.7777777777777778,\"#fb9f3a\"],[0.8888888888888888,\"#fdca26\"],[1.0,\"#f0f921\"]],\"type\":\"histogram2d\"}],\"histogram\":[{\"marker\":{\"pattern\":{\"fillmode\":\"overlay\",\"size\":10,\"solidity\":0.2}},\"type\":\"histogram\"}],\"mesh3d\":[{\"colorbar\":{\"outlinewidth\":0,\"ticks\":\"\"},\"type\":\"mesh3d\"}],\"parcoords\":[{\"line\":{\"colorbar\":{\"outlinewidth\":0,\"ticks\":\"\"}},\"type\":\"parcoords\"}],\"pie\":[{\"automargin\":true,\"type\":\"pie\"}],\"scatter3d\":[{\"line\":{\"colorbar\":{\"outlinewidth\":0,\"ticks\":\"\"}},\"marker\":{\"colorbar\":{\"outlinewidth\":0,\"ticks\":\"\"}},\"type\":\"scatter3d\"}],\"scattercarpet\":[{\"marker\":{\"colorbar\":{\"outlinewidth\":0,\"ticks\":\"\"}},\"type\":\"scattercarpet\"}],\"scattergeo\":[{\"marker\":{\"colorbar\":{\"outlinewidth\":0,\"ticks\":\"\"}},\"type\":\"scattergeo\"}],\"scattergl\":[{\"marker\":{\"colorbar\":{\"outlinewidth\":0,\"ticks\":\"\"}},\"type\":\"scattergl\"}],\"scattermapbox\":[{\"marker\":{\"colorbar\":{\"outlinewidth\":0,\"ticks\":\"\"}},\"type\":\"scattermapbox\"}],\"scattermap\":[{\"marker\":{\"colorbar\":{\"outlinewidth\":0,\"ticks\":\"\"}},\"type\":\"scattermap\"}],\"scatterpolargl\":[{\"marker\":{\"colorbar\":{\"outlinewidth\":0,\"ticks\":\"\"}},\"type\":\"scatterpolargl\"}],\"scatterpolar\":[{\"marker\":{\"colorbar\":{\"outlinewidth\":0,\"ticks\":\"\"}},\"type\":\"scatterpolar\"}],\"scatter\":[{\"fillpattern\":{\"fillmode\":\"overlay\",\"size\":10,\"solidity\":0.2},\"type\":\"scatter\"}],\"scatterternary\":[{\"marker\":{\"colorbar\":{\"outlinewidth\":0,\"ticks\":\"\"}},\"type\":\"scatterternary\"}],\"surface\":[{\"colorbar\":{\"outlinewidth\":0,\"ticks\":\"\"},\"colorscale\":[[0.0,\"#0d0887\"],[0.1111111111111111,\"#46039f\"],[0.2222222222222222,\"#7201a8\"],[0.3333333333333333,\"#9c179e\"],[0.4444444444444444,\"#bd3786\"],[0.5555555555555556,\"#d8576b\"],[0.6666666666666666,\"#ed7953\"],[0.7777777777777778,\"#fb9f3a\"],[0.8888888888888888,\"#fdca26\"],[1.0,\"#f0f921\"]],\"type\":\"surface\"}],\"table\":[{\"cells\":{\"fill\":{\"color\":\"#EBF0F8\"},\"line\":{\"color\":\"white\"}},\"header\":{\"fill\":{\"color\":\"#C8D4E3\"},\"line\":{\"color\":\"white\"}},\"type\":\"table\"}]},\"layout\":{\"annotationdefaults\":{\"arrowcolor\":\"#2a3f5f\",\"arrowhead\":0,\"arrowwidth\":1},\"autotypenumbers\":\"strict\",\"coloraxis\":{\"colorbar\":{\"outlinewidth\":0,\"ticks\":\"\"}},\"colorscale\":{\"diverging\":[[0,\"#8e0152\"],[0.1,\"#c51b7d\"],[0.2,\"#de77ae\"],[0.3,\"#f1b6da\"],[0.4,\"#fde0ef\"],[0.5,\"#f7f7f7\"],[0.6,\"#e6f5d0\"],[0.7,\"#b8e186\"],[0.8,\"#7fbc41\"],[0.9,\"#4d9221\"],[1,\"#276419\"]],\"sequential\":[[0.0,\"#0d0887\"],[0.1111111111111111,\"#46039f\"],[0.2222222222222222,\"#7201a8\"],[0.3333333333333333,\"#9c179e\"],[0.4444444444444444,\"#bd3786\"],[0.5555555555555556,\"#d8576b\"],[0.6666666666666666,\"#ed7953\"],[0.7777777777777778,\"#fb9f3a\"],[0.8888888888888888,\"#fdca26\"],[1.0,\"#f0f921\"]],\"sequentialminus\":[[0.0,\"#0d0887\"],[0.1111111111111111,\"#46039f\"],[0.2222222222222222,\"#7201a8\"],[0.3333333333333333,\"#9c179e\"],[0.4444444444444444,\"#bd3786\"],[0.5555555555555556,\"#d8576b\"],[0.6666666666666666,\"#ed7953\"],[0.7777777777777778,\"#fb9f3a\"],[0.8888888888888888,\"#fdca26\"],[1.0,\"#f0f921\"]]},\"colorway\":[\"#636efa\",\"#EF553B\",\"#00cc96\",\"#ab63fa\",\"#FFA15A\",\"#19d3f3\",\"#FF6692\",\"#B6E880\",\"#FF97FF\",\"#FECB52\"],\"font\":{\"color\":\"#2a3f5f\"},\"geo\":{\"bgcolor\":\"white\",\"lakecolor\":\"white\",\"landcolor\":\"white\",\"showlakes\":true,\"showland\":true,\"subunitcolor\":\"#C8D4E3\"},\"hoverlabel\":{\"align\":\"left\"},\"hovermode\":\"closest\",\"mapbox\":{\"style\":\"light\"},\"paper_bgcolor\":\"white\",\"plot_bgcolor\":\"white\",\"polar\":{\"angularaxis\":{\"gridcolor\":\"#EBF0F8\",\"linecolor\":\"#EBF0F8\",\"ticks\":\"\"},\"bgcolor\":\"white\",\"radialaxis\":{\"gridcolor\":\"#EBF0F8\",\"linecolor\":\"#EBF0F8\",\"ticks\":\"\"}},\"scene\":{\"xaxis\":{\"backgroundcolor\":\"white\",\"gridcolor\":\"#DFE8F3\",\"gridwidth\":2,\"linecolor\":\"#EBF0F8\",\"showbackground\":true,\"ticks\":\"\",\"zerolinecolor\":\"#EBF0F8\"},\"yaxis\":{\"backgroundcolor\":\"white\",\"gridcolor\":\"#DFE8F3\",\"gridwidth\":2,\"linecolor\":\"#EBF0F8\",\"showbackground\":true,\"ticks\":\"\",\"zerolinecolor\":\"#EBF0F8\"},\"zaxis\":{\"backgroundcolor\":\"white\",\"gridcolor\":\"#DFE8F3\",\"gridwidth\":2,\"linecolor\":\"#EBF0F8\",\"showbackground\":true,\"ticks\":\"\",\"zerolinecolor\":\"#EBF0F8\"}},\"shapedefaults\":{\"line\":{\"color\":\"#2a3f5f\"}},\"ternary\":{\"aaxis\":{\"gridcolor\":\"#DFE8F3\",\"linecolor\":\"#A2B1C6\",\"ticks\":\"\"},\"baxis\":{\"gridcolor\":\"#DFE8F3\",\"linecolor\":\"#A2B1C6\",\"ticks\":\"\"},\"bgcolor\":\"white\",\"caxis\":{\"gridcolor\":\"#DFE8F3\",\"linecolor\":\"#A2B1C6\",\"ticks\":\"\"}},\"title\":{\"x\":0.05},\"xaxis\":{\"automargin\":true,\"gridcolor\":\"#EBF0F8\",\"linecolor\":\"#EBF0F8\",\"ticks\":\"\",\"title\":{\"standoff\":15},\"zerolinecolor\":\"#EBF0F8\",\"zerolinewidth\":2},\"yaxis\":{\"automargin\":true,\"gridcolor\":\"#EBF0F8\",\"linecolor\":\"#EBF0F8\",\"ticks\":\"\",\"title\":{\"standoff\":15},\"zerolinecolor\":\"#EBF0F8\",\"zerolinewidth\":2}}},\"legend\":{\"x\":0.99,\"y\":0.99},\"title\":{\"text\":\"Ajuste de Discretized Normal sobre df_train | KL Divergence = 0.0940\"},\"xaxis\":{\"title\":{\"text\":\"days_to_trend\"}},\"yaxis\":{\"title\":{\"text\":\"Probabilidad\"}}},                        {\"responsive\": true}                    ).then(function(){\n",
       "                            \n",
       "var gd = document.getElementById('6bd4cd24-a223-4511-8a45-645902f3c363');\n",
       "var x = new MutationObserver(function (mutations, observer) {{\n",
       "        var display = window.getComputedStyle(gd).display;\n",
       "        if (!display || display === 'none') {{\n",
       "            console.log([gd, 'removed!']);\n",
       "            Plotly.purge(gd);\n",
       "            observer.disconnect();\n",
       "        }}\n",
       "}});\n",
       "\n",
       "// Listen for the removal of the full notebook cells\n",
       "var notebookContainer = gd.closest('#notebook-container');\n",
       "if (notebookContainer) {{\n",
       "    x.observe(notebookContainer, {childList: true});\n",
       "}}\n",
       "\n",
       "// Listen for the clearing of the current output cell\n",
       "var outputEl = gd.closest('.output');\n",
       "if (outputEl) {{\n",
       "    x.observe(outputEl, {childList: true});\n",
       "}}\n",
       "\n",
       "                        })                };            </script>        </div>"
      ]
     },
     "metadata": {},
     "output_type": "display_data"
    },
    {
     "data": {
      "text/html": [
       "<div>            <script src=\"https://cdnjs.cloudflare.com/ajax/libs/mathjax/2.7.5/MathJax.js?config=TeX-AMS-MML_SVG\"></script><script type=\"text/javascript\">if (window.MathJax && window.MathJax.Hub && window.MathJax.Hub.Config) {window.MathJax.Hub.Config({SVG: {font: \"STIX-Web\"}});}</script>                <script type=\"text/javascript\">window.PlotlyConfig = {MathJaxConfig: 'local'};</script>\n",
       "        <script charset=\"utf-8\" src=\"https://cdn.plot.ly/plotly-3.0.1.min.js\"></script>                <div id=\"f6aa0b5b-2da9-45bb-9ec1-2a225f3ddf06\" class=\"plotly-graph-div\" style=\"height:525px; width:100%;\"></div>            <script type=\"text/javascript\">                window.PLOTLYENV=window.PLOTLYENV || {};                                if (document.getElementById(\"f6aa0b5b-2da9-45bb-9ec1-2a225f3ddf06\")) {                    Plotly.newPlot(                        \"f6aa0b5b-2da9-45bb-9ec1-2a225f3ddf06\",                        [{\"name\":\"Empirical\",\"opacity\":0.6,\"x\":{\"dtype\":\"i1\",\"bdata\":\"AAECAwQFBgcICQoLDA0ODxAREhMUFRYXGBkaGxwd\"},\"y\":{\"dtype\":\"f8\",\"bdata\":\"3qtWoNSxsj\\u002fb2nLraE2zP2aqf7AglLM\\u002fYHHELdr9sj+vy1siHs6yP5Iio2D8RbI\\u002fo5\\u002fttvFtsD912zeEpfSrP0bNVdQQdqg\\u002fBWUtG7c1pj\\u002fhgrnWThelP3ohMYrAh6M\\u002fTlgiW9bUoT+d1b2cSguhP0yR0nYbcZ4\\u002fRgcsdcbZmj8fmtwVUyOZP\\u002fbnuTU1oZU\\u002fcbp02lQjlD9ljgZvKMORPyL1I0JAf44\\u002fVL4j3eT4iD8KtWjTafCEP3f80Nwc1H4\\u002f6YsiM\\u002f6LdT9H7tNv9JxtPxc+G8JCHGQ\\u002fCEHJoapXYj\\u002flo+PPf1pQP+pass0iN0U\\u002f\"},\"type\":\"bar\"},{\"line\":{\"color\":\"orange\"},\"mode\":\"lines+markers\",\"name\":\"Binomial (fitted)\",\"x\":{\"dtype\":\"i1\",\"bdata\":\"AAECAwQFBgcICQoLDA0ODxAREhMUFRYXGBkaGxwd\"},\"y\":{\"dtype\":\"f8\",\"bdata\":\"1EhkJ\\u002fSZGT\\u002f0U+KM+2VRP5AQc7n\\u002f1HY\\u002fXKxspv9Ckz+zAg8+x3inP+fWHoRoALY\\u002f3P\\u002fHtLB\\u002fwD9EhPZTblPEPx69dXpB9cQ\\u002fOhQmD+pVwj\\u002fDyqlG2H+7P1FnbhA8z7E\\u002f5fbaHmQIpD8ATgjrCKWTP6a6QAv51YA\\u002f7O4DUQRAaT8vTdSiZJFQP\\u002fdz759rADM\\u002fImXboLj\\u002fEj\\u002fT88YeL3\\u002fwPkA1uI8zvsg+eU31bKvRnz4\\u002fXHCPUGZxPgbgcVDLQ0A+RkEPthifDj4s9PAxSU7xPcl+docS5us9SMfcy0GB6z0SOGPl\\u002fXzrPSblmjzgfOs9\"},\"type\":\"scatter\"}],                        {\"template\":{\"data\":{\"barpolar\":[{\"marker\":{\"line\":{\"color\":\"white\",\"width\":0.5},\"pattern\":{\"fillmode\":\"overlay\",\"size\":10,\"solidity\":0.2}},\"type\":\"barpolar\"}],\"bar\":[{\"error_x\":{\"color\":\"#2a3f5f\"},\"error_y\":{\"color\":\"#2a3f5f\"},\"marker\":{\"line\":{\"color\":\"white\",\"width\":0.5},\"pattern\":{\"fillmode\":\"overlay\",\"size\":10,\"solidity\":0.2}},\"type\":\"bar\"}],\"carpet\":[{\"aaxis\":{\"endlinecolor\":\"#2a3f5f\",\"gridcolor\":\"#C8D4E3\",\"linecolor\":\"#C8D4E3\",\"minorgridcolor\":\"#C8D4E3\",\"startlinecolor\":\"#2a3f5f\"},\"baxis\":{\"endlinecolor\":\"#2a3f5f\",\"gridcolor\":\"#C8D4E3\",\"linecolor\":\"#C8D4E3\",\"minorgridcolor\":\"#C8D4E3\",\"startlinecolor\":\"#2a3f5f\"},\"type\":\"carpet\"}],\"choropleth\":[{\"colorbar\":{\"outlinewidth\":0,\"ticks\":\"\"},\"type\":\"choropleth\"}],\"contourcarpet\":[{\"colorbar\":{\"outlinewidth\":0,\"ticks\":\"\"},\"type\":\"contourcarpet\"}],\"contour\":[{\"colorbar\":{\"outlinewidth\":0,\"ticks\":\"\"},\"colorscale\":[[0.0,\"#0d0887\"],[0.1111111111111111,\"#46039f\"],[0.2222222222222222,\"#7201a8\"],[0.3333333333333333,\"#9c179e\"],[0.4444444444444444,\"#bd3786\"],[0.5555555555555556,\"#d8576b\"],[0.6666666666666666,\"#ed7953\"],[0.7777777777777778,\"#fb9f3a\"],[0.8888888888888888,\"#fdca26\"],[1.0,\"#f0f921\"]],\"type\":\"contour\"}],\"heatmap\":[{\"colorbar\":{\"outlinewidth\":0,\"ticks\":\"\"},\"colorscale\":[[0.0,\"#0d0887\"],[0.1111111111111111,\"#46039f\"],[0.2222222222222222,\"#7201a8\"],[0.3333333333333333,\"#9c179e\"],[0.4444444444444444,\"#bd3786\"],[0.5555555555555556,\"#d8576b\"],[0.6666666666666666,\"#ed7953\"],[0.7777777777777778,\"#fb9f3a\"],[0.8888888888888888,\"#fdca26\"],[1.0,\"#f0f921\"]],\"type\":\"heatmap\"}],\"histogram2dcontour\":[{\"colorbar\":{\"outlinewidth\":0,\"ticks\":\"\"},\"colorscale\":[[0.0,\"#0d0887\"],[0.1111111111111111,\"#46039f\"],[0.2222222222222222,\"#7201a8\"],[0.3333333333333333,\"#9c179e\"],[0.4444444444444444,\"#bd3786\"],[0.5555555555555556,\"#d8576b\"],[0.6666666666666666,\"#ed7953\"],[0.7777777777777778,\"#fb9f3a\"],[0.8888888888888888,\"#fdca26\"],[1.0,\"#f0f921\"]],\"type\":\"histogram2dcontour\"}],\"histogram2d\":[{\"colorbar\":{\"outlinewidth\":0,\"ticks\":\"\"},\"colorscale\":[[0.0,\"#0d0887\"],[0.1111111111111111,\"#46039f\"],[0.2222222222222222,\"#7201a8\"],[0.3333333333333333,\"#9c179e\"],[0.4444444444444444,\"#bd3786\"],[0.5555555555555556,\"#d8576b\"],[0.6666666666666666,\"#ed7953\"],[0.7777777777777778,\"#fb9f3a\"],[0.8888888888888888,\"#fdca26\"],[1.0,\"#f0f921\"]],\"type\":\"histogram2d\"}],\"histogram\":[{\"marker\":{\"pattern\":{\"fillmode\":\"overlay\",\"size\":10,\"solidity\":0.2}},\"type\":\"histogram\"}],\"mesh3d\":[{\"colorbar\":{\"outlinewidth\":0,\"ticks\":\"\"},\"type\":\"mesh3d\"}],\"parcoords\":[{\"line\":{\"colorbar\":{\"outlinewidth\":0,\"ticks\":\"\"}},\"type\":\"parcoords\"}],\"pie\":[{\"automargin\":true,\"type\":\"pie\"}],\"scatter3d\":[{\"line\":{\"colorbar\":{\"outlinewidth\":0,\"ticks\":\"\"}},\"marker\":{\"colorbar\":{\"outlinewidth\":0,\"ticks\":\"\"}},\"type\":\"scatter3d\"}],\"scattercarpet\":[{\"marker\":{\"colorbar\":{\"outlinewidth\":0,\"ticks\":\"\"}},\"type\":\"scattercarpet\"}],\"scattergeo\":[{\"marker\":{\"colorbar\":{\"outlinewidth\":0,\"ticks\":\"\"}},\"type\":\"scattergeo\"}],\"scattergl\":[{\"marker\":{\"colorbar\":{\"outlinewidth\":0,\"ticks\":\"\"}},\"type\":\"scattergl\"}],\"scattermapbox\":[{\"marker\":{\"colorbar\":{\"outlinewidth\":0,\"ticks\":\"\"}},\"type\":\"scattermapbox\"}],\"scattermap\":[{\"marker\":{\"colorbar\":{\"outlinewidth\":0,\"ticks\":\"\"}},\"type\":\"scattermap\"}],\"scatterpolargl\":[{\"marker\":{\"colorbar\":{\"outlinewidth\":0,\"ticks\":\"\"}},\"type\":\"scatterpolargl\"}],\"scatterpolar\":[{\"marker\":{\"colorbar\":{\"outlinewidth\":0,\"ticks\":\"\"}},\"type\":\"scatterpolar\"}],\"scatter\":[{\"fillpattern\":{\"fillmode\":\"overlay\",\"size\":10,\"solidity\":0.2},\"type\":\"scatter\"}],\"scatterternary\":[{\"marker\":{\"colorbar\":{\"outlinewidth\":0,\"ticks\":\"\"}},\"type\":\"scatterternary\"}],\"surface\":[{\"colorbar\":{\"outlinewidth\":0,\"ticks\":\"\"},\"colorscale\":[[0.0,\"#0d0887\"],[0.1111111111111111,\"#46039f\"],[0.2222222222222222,\"#7201a8\"],[0.3333333333333333,\"#9c179e\"],[0.4444444444444444,\"#bd3786\"],[0.5555555555555556,\"#d8576b\"],[0.6666666666666666,\"#ed7953\"],[0.7777777777777778,\"#fb9f3a\"],[0.8888888888888888,\"#fdca26\"],[1.0,\"#f0f921\"]],\"type\":\"surface\"}],\"table\":[{\"cells\":{\"fill\":{\"color\":\"#EBF0F8\"},\"line\":{\"color\":\"white\"}},\"header\":{\"fill\":{\"color\":\"#C8D4E3\"},\"line\":{\"color\":\"white\"}},\"type\":\"table\"}]},\"layout\":{\"annotationdefaults\":{\"arrowcolor\":\"#2a3f5f\",\"arrowhead\":0,\"arrowwidth\":1},\"autotypenumbers\":\"strict\",\"coloraxis\":{\"colorbar\":{\"outlinewidth\":0,\"ticks\":\"\"}},\"colorscale\":{\"diverging\":[[0,\"#8e0152\"],[0.1,\"#c51b7d\"],[0.2,\"#de77ae\"],[0.3,\"#f1b6da\"],[0.4,\"#fde0ef\"],[0.5,\"#f7f7f7\"],[0.6,\"#e6f5d0\"],[0.7,\"#b8e186\"],[0.8,\"#7fbc41\"],[0.9,\"#4d9221\"],[1,\"#276419\"]],\"sequential\":[[0.0,\"#0d0887\"],[0.1111111111111111,\"#46039f\"],[0.2222222222222222,\"#7201a8\"],[0.3333333333333333,\"#9c179e\"],[0.4444444444444444,\"#bd3786\"],[0.5555555555555556,\"#d8576b\"],[0.6666666666666666,\"#ed7953\"],[0.7777777777777778,\"#fb9f3a\"],[0.8888888888888888,\"#fdca26\"],[1.0,\"#f0f921\"]],\"sequentialminus\":[[0.0,\"#0d0887\"],[0.1111111111111111,\"#46039f\"],[0.2222222222222222,\"#7201a8\"],[0.3333333333333333,\"#9c179e\"],[0.4444444444444444,\"#bd3786\"],[0.5555555555555556,\"#d8576b\"],[0.6666666666666666,\"#ed7953\"],[0.7777777777777778,\"#fb9f3a\"],[0.8888888888888888,\"#fdca26\"],[1.0,\"#f0f921\"]]},\"colorway\":[\"#636efa\",\"#EF553B\",\"#00cc96\",\"#ab63fa\",\"#FFA15A\",\"#19d3f3\",\"#FF6692\",\"#B6E880\",\"#FF97FF\",\"#FECB52\"],\"font\":{\"color\":\"#2a3f5f\"},\"geo\":{\"bgcolor\":\"white\",\"lakecolor\":\"white\",\"landcolor\":\"white\",\"showlakes\":true,\"showland\":true,\"subunitcolor\":\"#C8D4E3\"},\"hoverlabel\":{\"align\":\"left\"},\"hovermode\":\"closest\",\"mapbox\":{\"style\":\"light\"},\"paper_bgcolor\":\"white\",\"plot_bgcolor\":\"white\",\"polar\":{\"angularaxis\":{\"gridcolor\":\"#EBF0F8\",\"linecolor\":\"#EBF0F8\",\"ticks\":\"\"},\"bgcolor\":\"white\",\"radialaxis\":{\"gridcolor\":\"#EBF0F8\",\"linecolor\":\"#EBF0F8\",\"ticks\":\"\"}},\"scene\":{\"xaxis\":{\"backgroundcolor\":\"white\",\"gridcolor\":\"#DFE8F3\",\"gridwidth\":2,\"linecolor\":\"#EBF0F8\",\"showbackground\":true,\"ticks\":\"\",\"zerolinecolor\":\"#EBF0F8\"},\"yaxis\":{\"backgroundcolor\":\"white\",\"gridcolor\":\"#DFE8F3\",\"gridwidth\":2,\"linecolor\":\"#EBF0F8\",\"showbackground\":true,\"ticks\":\"\",\"zerolinecolor\":\"#EBF0F8\"},\"zaxis\":{\"backgroundcolor\":\"white\",\"gridcolor\":\"#DFE8F3\",\"gridwidth\":2,\"linecolor\":\"#EBF0F8\",\"showbackground\":true,\"ticks\":\"\",\"zerolinecolor\":\"#EBF0F8\"}},\"shapedefaults\":{\"line\":{\"color\":\"#2a3f5f\"}},\"ternary\":{\"aaxis\":{\"gridcolor\":\"#DFE8F3\",\"linecolor\":\"#A2B1C6\",\"ticks\":\"\"},\"baxis\":{\"gridcolor\":\"#DFE8F3\",\"linecolor\":\"#A2B1C6\",\"ticks\":\"\"},\"bgcolor\":\"white\",\"caxis\":{\"gridcolor\":\"#DFE8F3\",\"linecolor\":\"#A2B1C6\",\"ticks\":\"\"}},\"title\":{\"x\":0.05},\"xaxis\":{\"automargin\":true,\"gridcolor\":\"#EBF0F8\",\"linecolor\":\"#EBF0F8\",\"ticks\":\"\",\"title\":{\"standoff\":15},\"zerolinecolor\":\"#EBF0F8\",\"zerolinewidth\":2},\"yaxis\":{\"automargin\":true,\"gridcolor\":\"#EBF0F8\",\"linecolor\":\"#EBF0F8\",\"ticks\":\"\",\"title\":{\"standoff\":15},\"zerolinecolor\":\"#EBF0F8\",\"zerolinewidth\":2}}},\"legend\":{\"x\":0.99,\"y\":0.99},\"title\":{\"text\":\"Ajuste de Binomial sobre df_train | KL Divergence = 2.0814\"},\"xaxis\":{\"title\":{\"text\":\"days_to_trend\"}},\"yaxis\":{\"title\":{\"text\":\"Probabilidad\"}}},                        {\"responsive\": true}                    ).then(function(){\n",
       "                            \n",
       "var gd = document.getElementById('f6aa0b5b-2da9-45bb-9ec1-2a225f3ddf06');\n",
       "var x = new MutationObserver(function (mutations, observer) {{\n",
       "        var display = window.getComputedStyle(gd).display;\n",
       "        if (!display || display === 'none') {{\n",
       "            console.log([gd, 'removed!']);\n",
       "            Plotly.purge(gd);\n",
       "            observer.disconnect();\n",
       "        }}\n",
       "}});\n",
       "\n",
       "// Listen for the removal of the full notebook cells\n",
       "var notebookContainer = gd.closest('#notebook-container');\n",
       "if (notebookContainer) {{\n",
       "    x.observe(notebookContainer, {childList: true});\n",
       "}}\n",
       "\n",
       "// Listen for the clearing of the current output cell\n",
       "var outputEl = gd.closest('.output');\n",
       "if (outputEl) {{\n",
       "    x.observe(outputEl, {childList: true});\n",
       "}}\n",
       "\n",
       "                        })                };            </script>        </div>"
      ]
     },
     "metadata": {},
     "output_type": "display_data"
    },
    {
     "data": {
      "text/html": [
       "<div>            <script src=\"https://cdnjs.cloudflare.com/ajax/libs/mathjax/2.7.5/MathJax.js?config=TeX-AMS-MML_SVG\"></script><script type=\"text/javascript\">if (window.MathJax && window.MathJax.Hub && window.MathJax.Hub.Config) {window.MathJax.Hub.Config({SVG: {font: \"STIX-Web\"}});}</script>                <script type=\"text/javascript\">window.PlotlyConfig = {MathJaxConfig: 'local'};</script>\n",
       "        <script charset=\"utf-8\" src=\"https://cdn.plot.ly/plotly-3.0.1.min.js\"></script>                <div id=\"30ef1875-4e9b-43d8-873e-c16c3bac25cd\" class=\"plotly-graph-div\" style=\"height:525px; width:100%;\"></div>            <script type=\"text/javascript\">                window.PLOTLYENV=window.PLOTLYENV || {};                                if (document.getElementById(\"30ef1875-4e9b-43d8-873e-c16c3bac25cd\")) {                    Plotly.newPlot(                        \"30ef1875-4e9b-43d8-873e-c16c3bac25cd\",                        [{\"name\":\"Empirical\",\"opacity\":0.6,\"x\":{\"dtype\":\"i1\",\"bdata\":\"AQIDBAUGBwgJCgsMDQ4PEBESExQVFhcYGRobHB0=\"},\"y\":{\"dtype\":\"f8\",\"bdata\":\"Ws7g62hNsz\\u002flne2wIJSzP99kMi7a\\u002fbI\\u002fLr\\u002fJIh7Osj8RFhFh\\u002fEWyPyKTW7fxbbA\\u002fdMIThaX0qz9FtDHVEHaoPwRMCRy3NaY\\u002f4GmV104XpT95CA2LwIejP00\\u002f\\u002flvW1KE\\u002fnLyZnUoLoT9KX4p4G3GeP0TV43bG2Zo\\u002fHWiUF1MjmT\\u002f0tXE3NaGVP2+ILNxUI5Q\\u002fY1y+cCjDkT8dkZNFQH+OP09ak+Dk+Ig\\u002fBVHY1mnwhD9tNLDjHNR+P9\\u002fDATr+i3U\\u002fNF6SffScbT8ErtnPQhxkP\\u002fWwh6+qV2I\\u002fv4Ng639aUD+eGqwEIzdFPw==\"},\"type\":\"bar\"},{\"line\":{\"color\":\"orange\"},\"mode\":\"lines+markers\",\"name\":\"Zipf (fitted)\",\"x\":{\"dtype\":\"i1\",\"bdata\":\"AQIDBAUGBwgJCgsMDQ4PEBESExQVFhcYGRobHB0=\"},\"y\":{\"dtype\":\"f8\",\"bdata\":\"juihzurc4z8uX\\u002fTO6tzDP1\\u002fxNirtp7E\\u002frDk+0Orcoz+nyaCvsWyZP12myiztp5E\\u002fCKAWTobxiT+jo2XV6tyDPyf0CslsY38\\u002fl53vubFseT8KQWoQFgN1P016GTftp3E\\u002fk1sHz5gWbj\\u002frR7RihvFpP8ddGpiBmWY\\u002fh0sD6urcYz\\u002ffh2t1SZhhP+5DRvJsY18\\u002f+h6jpdkrXD9e7SrjsWxZPxlVgASUD1c\\u002f0ZClORYDVT+8h5Q0gjlTPxTKVGDtp1E\\u002f97MtpZBFUD8f+30hmRZOP5qf\\u002fveZ5ks\\u002fd+cqtYbxST8JQ8AfYy9IPw==\"},\"type\":\"scatter\"}],                        {\"template\":{\"data\":{\"barpolar\":[{\"marker\":{\"line\":{\"color\":\"white\",\"width\":0.5},\"pattern\":{\"fillmode\":\"overlay\",\"size\":10,\"solidity\":0.2}},\"type\":\"barpolar\"}],\"bar\":[{\"error_x\":{\"color\":\"#2a3f5f\"},\"error_y\":{\"color\":\"#2a3f5f\"},\"marker\":{\"line\":{\"color\":\"white\",\"width\":0.5},\"pattern\":{\"fillmode\":\"overlay\",\"size\":10,\"solidity\":0.2}},\"type\":\"bar\"}],\"carpet\":[{\"aaxis\":{\"endlinecolor\":\"#2a3f5f\",\"gridcolor\":\"#C8D4E3\",\"linecolor\":\"#C8D4E3\",\"minorgridcolor\":\"#C8D4E3\",\"startlinecolor\":\"#2a3f5f\"},\"baxis\":{\"endlinecolor\":\"#2a3f5f\",\"gridcolor\":\"#C8D4E3\",\"linecolor\":\"#C8D4E3\",\"minorgridcolor\":\"#C8D4E3\",\"startlinecolor\":\"#2a3f5f\"},\"type\":\"carpet\"}],\"choropleth\":[{\"colorbar\":{\"outlinewidth\":0,\"ticks\":\"\"},\"type\":\"choropleth\"}],\"contourcarpet\":[{\"colorbar\":{\"outlinewidth\":0,\"ticks\":\"\"},\"type\":\"contourcarpet\"}],\"contour\":[{\"colorbar\":{\"outlinewidth\":0,\"ticks\":\"\"},\"colorscale\":[[0.0,\"#0d0887\"],[0.1111111111111111,\"#46039f\"],[0.2222222222222222,\"#7201a8\"],[0.3333333333333333,\"#9c179e\"],[0.4444444444444444,\"#bd3786\"],[0.5555555555555556,\"#d8576b\"],[0.6666666666666666,\"#ed7953\"],[0.7777777777777778,\"#fb9f3a\"],[0.8888888888888888,\"#fdca26\"],[1.0,\"#f0f921\"]],\"type\":\"contour\"}],\"heatmap\":[{\"colorbar\":{\"outlinewidth\":0,\"ticks\":\"\"},\"colorscale\":[[0.0,\"#0d0887\"],[0.1111111111111111,\"#46039f\"],[0.2222222222222222,\"#7201a8\"],[0.3333333333333333,\"#9c179e\"],[0.4444444444444444,\"#bd3786\"],[0.5555555555555556,\"#d8576b\"],[0.6666666666666666,\"#ed7953\"],[0.7777777777777778,\"#fb9f3a\"],[0.8888888888888888,\"#fdca26\"],[1.0,\"#f0f921\"]],\"type\":\"heatmap\"}],\"histogram2dcontour\":[{\"colorbar\":{\"outlinewidth\":0,\"ticks\":\"\"},\"colorscale\":[[0.0,\"#0d0887\"],[0.1111111111111111,\"#46039f\"],[0.2222222222222222,\"#7201a8\"],[0.3333333333333333,\"#9c179e\"],[0.4444444444444444,\"#bd3786\"],[0.5555555555555556,\"#d8576b\"],[0.6666666666666666,\"#ed7953\"],[0.7777777777777778,\"#fb9f3a\"],[0.8888888888888888,\"#fdca26\"],[1.0,\"#f0f921\"]],\"type\":\"histogram2dcontour\"}],\"histogram2d\":[{\"colorbar\":{\"outlinewidth\":0,\"ticks\":\"\"},\"colorscale\":[[0.0,\"#0d0887\"],[0.1111111111111111,\"#46039f\"],[0.2222222222222222,\"#7201a8\"],[0.3333333333333333,\"#9c179e\"],[0.4444444444444444,\"#bd3786\"],[0.5555555555555556,\"#d8576b\"],[0.6666666666666666,\"#ed7953\"],[0.7777777777777778,\"#fb9f3a\"],[0.8888888888888888,\"#fdca26\"],[1.0,\"#f0f921\"]],\"type\":\"histogram2d\"}],\"histogram\":[{\"marker\":{\"pattern\":{\"fillmode\":\"overlay\",\"size\":10,\"solidity\":0.2}},\"type\":\"histogram\"}],\"mesh3d\":[{\"colorbar\":{\"outlinewidth\":0,\"ticks\":\"\"},\"type\":\"mesh3d\"}],\"parcoords\":[{\"line\":{\"colorbar\":{\"outlinewidth\":0,\"ticks\":\"\"}},\"type\":\"parcoords\"}],\"pie\":[{\"automargin\":true,\"type\":\"pie\"}],\"scatter3d\":[{\"line\":{\"colorbar\":{\"outlinewidth\":0,\"ticks\":\"\"}},\"marker\":{\"colorbar\":{\"outlinewidth\":0,\"ticks\":\"\"}},\"type\":\"scatter3d\"}],\"scattercarpet\":[{\"marker\":{\"colorbar\":{\"outlinewidth\":0,\"ticks\":\"\"}},\"type\":\"scattercarpet\"}],\"scattergeo\":[{\"marker\":{\"colorbar\":{\"outlinewidth\":0,\"ticks\":\"\"}},\"type\":\"scattergeo\"}],\"scattergl\":[{\"marker\":{\"colorbar\":{\"outlinewidth\":0,\"ticks\":\"\"}},\"type\":\"scattergl\"}],\"scattermapbox\":[{\"marker\":{\"colorbar\":{\"outlinewidth\":0,\"ticks\":\"\"}},\"type\":\"scattermapbox\"}],\"scattermap\":[{\"marker\":{\"colorbar\":{\"outlinewidth\":0,\"ticks\":\"\"}},\"type\":\"scattermap\"}],\"scatterpolargl\":[{\"marker\":{\"colorbar\":{\"outlinewidth\":0,\"ticks\":\"\"}},\"type\":\"scatterpolargl\"}],\"scatterpolar\":[{\"marker\":{\"colorbar\":{\"outlinewidth\":0,\"ticks\":\"\"}},\"type\":\"scatterpolar\"}],\"scatter\":[{\"fillpattern\":{\"fillmode\":\"overlay\",\"size\":10,\"solidity\":0.2},\"type\":\"scatter\"}],\"scatterternary\":[{\"marker\":{\"colorbar\":{\"outlinewidth\":0,\"ticks\":\"\"}},\"type\":\"scatterternary\"}],\"surface\":[{\"colorbar\":{\"outlinewidth\":0,\"ticks\":\"\"},\"colorscale\":[[0.0,\"#0d0887\"],[0.1111111111111111,\"#46039f\"],[0.2222222222222222,\"#7201a8\"],[0.3333333333333333,\"#9c179e\"],[0.4444444444444444,\"#bd3786\"],[0.5555555555555556,\"#d8576b\"],[0.6666666666666666,\"#ed7953\"],[0.7777777777777778,\"#fb9f3a\"],[0.8888888888888888,\"#fdca26\"],[1.0,\"#f0f921\"]],\"type\":\"surface\"}],\"table\":[{\"cells\":{\"fill\":{\"color\":\"#EBF0F8\"},\"line\":{\"color\":\"white\"}},\"header\":{\"fill\":{\"color\":\"#C8D4E3\"},\"line\":{\"color\":\"white\"}},\"type\":\"table\"}]},\"layout\":{\"annotationdefaults\":{\"arrowcolor\":\"#2a3f5f\",\"arrowhead\":0,\"arrowwidth\":1},\"autotypenumbers\":\"strict\",\"coloraxis\":{\"colorbar\":{\"outlinewidth\":0,\"ticks\":\"\"}},\"colorscale\":{\"diverging\":[[0,\"#8e0152\"],[0.1,\"#c51b7d\"],[0.2,\"#de77ae\"],[0.3,\"#f1b6da\"],[0.4,\"#fde0ef\"],[0.5,\"#f7f7f7\"],[0.6,\"#e6f5d0\"],[0.7,\"#b8e186\"],[0.8,\"#7fbc41\"],[0.9,\"#4d9221\"],[1,\"#276419\"]],\"sequential\":[[0.0,\"#0d0887\"],[0.1111111111111111,\"#46039f\"],[0.2222222222222222,\"#7201a8\"],[0.3333333333333333,\"#9c179e\"],[0.4444444444444444,\"#bd3786\"],[0.5555555555555556,\"#d8576b\"],[0.6666666666666666,\"#ed7953\"],[0.7777777777777778,\"#fb9f3a\"],[0.8888888888888888,\"#fdca26\"],[1.0,\"#f0f921\"]],\"sequentialminus\":[[0.0,\"#0d0887\"],[0.1111111111111111,\"#46039f\"],[0.2222222222222222,\"#7201a8\"],[0.3333333333333333,\"#9c179e\"],[0.4444444444444444,\"#bd3786\"],[0.5555555555555556,\"#d8576b\"],[0.6666666666666666,\"#ed7953\"],[0.7777777777777778,\"#fb9f3a\"],[0.8888888888888888,\"#fdca26\"],[1.0,\"#f0f921\"]]},\"colorway\":[\"#636efa\",\"#EF553B\",\"#00cc96\",\"#ab63fa\",\"#FFA15A\",\"#19d3f3\",\"#FF6692\",\"#B6E880\",\"#FF97FF\",\"#FECB52\"],\"font\":{\"color\":\"#2a3f5f\"},\"geo\":{\"bgcolor\":\"white\",\"lakecolor\":\"white\",\"landcolor\":\"white\",\"showlakes\":true,\"showland\":true,\"subunitcolor\":\"#C8D4E3\"},\"hoverlabel\":{\"align\":\"left\"},\"hovermode\":\"closest\",\"mapbox\":{\"style\":\"light\"},\"paper_bgcolor\":\"white\",\"plot_bgcolor\":\"white\",\"polar\":{\"angularaxis\":{\"gridcolor\":\"#EBF0F8\",\"linecolor\":\"#EBF0F8\",\"ticks\":\"\"},\"bgcolor\":\"white\",\"radialaxis\":{\"gridcolor\":\"#EBF0F8\",\"linecolor\":\"#EBF0F8\",\"ticks\":\"\"}},\"scene\":{\"xaxis\":{\"backgroundcolor\":\"white\",\"gridcolor\":\"#DFE8F3\",\"gridwidth\":2,\"linecolor\":\"#EBF0F8\",\"showbackground\":true,\"ticks\":\"\",\"zerolinecolor\":\"#EBF0F8\"},\"yaxis\":{\"backgroundcolor\":\"white\",\"gridcolor\":\"#DFE8F3\",\"gridwidth\":2,\"linecolor\":\"#EBF0F8\",\"showbackground\":true,\"ticks\":\"\",\"zerolinecolor\":\"#EBF0F8\"},\"zaxis\":{\"backgroundcolor\":\"white\",\"gridcolor\":\"#DFE8F3\",\"gridwidth\":2,\"linecolor\":\"#EBF0F8\",\"showbackground\":true,\"ticks\":\"\",\"zerolinecolor\":\"#EBF0F8\"}},\"shapedefaults\":{\"line\":{\"color\":\"#2a3f5f\"}},\"ternary\":{\"aaxis\":{\"gridcolor\":\"#DFE8F3\",\"linecolor\":\"#A2B1C6\",\"ticks\":\"\"},\"baxis\":{\"gridcolor\":\"#DFE8F3\",\"linecolor\":\"#A2B1C6\",\"ticks\":\"\"},\"bgcolor\":\"white\",\"caxis\":{\"gridcolor\":\"#DFE8F3\",\"linecolor\":\"#A2B1C6\",\"ticks\":\"\"}},\"title\":{\"x\":0.05},\"xaxis\":{\"automargin\":true,\"gridcolor\":\"#EBF0F8\",\"linecolor\":\"#EBF0F8\",\"ticks\":\"\",\"title\":{\"standoff\":15},\"zerolinecolor\":\"#EBF0F8\",\"zerolinewidth\":2},\"yaxis\":{\"automargin\":true,\"gridcolor\":\"#EBF0F8\",\"linecolor\":\"#EBF0F8\",\"ticks\":\"\",\"title\":{\"standoff\":15},\"zerolinecolor\":\"#EBF0F8\",\"zerolinewidth\":2}}},\"legend\":{\"x\":0.99,\"y\":0.99},\"title\":{\"text\":\"Ajuste de Zipf sobre df_train | KL Divergence = 1.1118\"},\"xaxis\":{\"title\":{\"text\":\"days_to_trend\"}},\"yaxis\":{\"title\":{\"text\":\"Probabilidad\"}}},                        {\"responsive\": true}                    ).then(function(){\n",
       "                            \n",
       "var gd = document.getElementById('30ef1875-4e9b-43d8-873e-c16c3bac25cd');\n",
       "var x = new MutationObserver(function (mutations, observer) {{\n",
       "        var display = window.getComputedStyle(gd).display;\n",
       "        if (!display || display === 'none') {{\n",
       "            console.log([gd, 'removed!']);\n",
       "            Plotly.purge(gd);\n",
       "            observer.disconnect();\n",
       "        }}\n",
       "}});\n",
       "\n",
       "// Listen for the removal of the full notebook cells\n",
       "var notebookContainer = gd.closest('#notebook-container');\n",
       "if (notebookContainer) {{\n",
       "    x.observe(notebookContainer, {childList: true});\n",
       "}}\n",
       "\n",
       "// Listen for the clearing of the current output cell\n",
       "var outputEl = gd.closest('.output');\n",
       "if (outputEl) {{\n",
       "    x.observe(outputEl, {childList: true});\n",
       "}}\n",
       "\n",
       "                        })                };            </script>        </div>"
      ]
     },
     "metadata": {},
     "output_type": "display_data"
    },
    {
     "data": {
      "text/html": [
       "<div>            <script src=\"https://cdnjs.cloudflare.com/ajax/libs/mathjax/2.7.5/MathJax.js?config=TeX-AMS-MML_SVG\"></script><script type=\"text/javascript\">if (window.MathJax && window.MathJax.Hub && window.MathJax.Hub.Config) {window.MathJax.Hub.Config({SVG: {font: \"STIX-Web\"}});}</script>                <script type=\"text/javascript\">window.PlotlyConfig = {MathJaxConfig: 'local'};</script>\n",
       "        <script charset=\"utf-8\" src=\"https://cdn.plot.ly/plotly-3.0.1.min.js\"></script>                <div id=\"56d0d299-8b48-4cbe-9d5c-9bf853d8918f\" class=\"plotly-graph-div\" style=\"height:525px; width:100%;\"></div>            <script type=\"text/javascript\">                window.PLOTLYENV=window.PLOTLYENV || {};                                if (document.getElementById(\"56d0d299-8b48-4cbe-9d5c-9bf853d8918f\")) {                    Plotly.newPlot(                        \"56d0d299-8b48-4cbe-9d5c-9bf853d8918f\",                        [{\"name\":\"Empirical\",\"opacity\":0.6,\"x\":{\"dtype\":\"i1\",\"bdata\":\"AQIDBAUGBwgJCgsMDQ4PEBESExQVFhcYGRobHB0=\"},\"y\":{\"dtype\":\"f8\",\"bdata\":\"Ws7g62hNsz\\u002flne2wIJSzP99kMi7a\\u002fbI\\u002fLr\\u002fJIh7Osj8RFhFh\\u002fEWyPyKTW7fxbbA\\u002fdMIThaX0qz9FtDHVEHaoPwRMCRy3NaY\\u002f4GmV104XpT95CA2LwIejP00\\u002f\\u002flvW1KE\\u002fnLyZnUoLoT9KX4p4G3GeP0TV43bG2Zo\\u002fHWiUF1MjmT\\u002f0tXE3NaGVP2+ILNxUI5Q\\u002fY1y+cCjDkT8dkZNFQH+OP09ak+Dk+Ig\\u002fBVHY1mnwhD9tNLDjHNR+P9\\u002fDATr+i3U\\u002fNF6SffScbT8ErtnPQhxkP\\u002fWwh6+qV2I\\u002fv4Ng639aUD+eGqwEIzdFPw==\"},\"type\":\"bar\"},{\"line\":{\"color\":\"orange\"},\"mode\":\"lines+markers\",\"name\":\"Log-Series (fitted)\",\"x\":{\"dtype\":\"i1\",\"bdata\":\"AQIDBAUGBwgJCgsMDQ4PEBESExQVFhcYGRobHB0=\"},\"y\":{\"dtype\":\"f8\",\"bdata\":\"qdT1z7Qj2T9ShWa7IqDGP\\u002fqVbBSQJrs\\u002ftPZDQaFTsj83fvFy8mOqPysSo9b1yqM\\u002fFabEjZiJnj8ix8VWWwyYP0+LtN8VPZM\\u002fVwPUcKMqjz8Wx74X+n+JPz9BMbuUCYU\\u002f+ivwyyx6gT+I6qORQzZ9P+nW7+K9iXg\\u002f0R6gOTi0dD\\u002fv38ILmYlxPw9rhP5Q0G0\\u002f+9\\u002f51I1raT80yh5x9btlP5VfdYkboWI\\u002f6s\\u002fj1RgBYD+9d8PiIY5bP6EhvnQwxFc\\u002fKg7pWb2IVD+HiFwLGsVRPxl1WiIczU4\\u002fUg0AMCa7Sj\\u002fNHxf8dTpHPw==\"},\"type\":\"scatter\"}],                        {\"template\":{\"data\":{\"barpolar\":[{\"marker\":{\"line\":{\"color\":\"white\",\"width\":0.5},\"pattern\":{\"fillmode\":\"overlay\",\"size\":10,\"solidity\":0.2}},\"type\":\"barpolar\"}],\"bar\":[{\"error_x\":{\"color\":\"#2a3f5f\"},\"error_y\":{\"color\":\"#2a3f5f\"},\"marker\":{\"line\":{\"color\":\"white\",\"width\":0.5},\"pattern\":{\"fillmode\":\"overlay\",\"size\":10,\"solidity\":0.2}},\"type\":\"bar\"}],\"carpet\":[{\"aaxis\":{\"endlinecolor\":\"#2a3f5f\",\"gridcolor\":\"#C8D4E3\",\"linecolor\":\"#C8D4E3\",\"minorgridcolor\":\"#C8D4E3\",\"startlinecolor\":\"#2a3f5f\"},\"baxis\":{\"endlinecolor\":\"#2a3f5f\",\"gridcolor\":\"#C8D4E3\",\"linecolor\":\"#C8D4E3\",\"minorgridcolor\":\"#C8D4E3\",\"startlinecolor\":\"#2a3f5f\"},\"type\":\"carpet\"}],\"choropleth\":[{\"colorbar\":{\"outlinewidth\":0,\"ticks\":\"\"},\"type\":\"choropleth\"}],\"contourcarpet\":[{\"colorbar\":{\"outlinewidth\":0,\"ticks\":\"\"},\"type\":\"contourcarpet\"}],\"contour\":[{\"colorbar\":{\"outlinewidth\":0,\"ticks\":\"\"},\"colorscale\":[[0.0,\"#0d0887\"],[0.1111111111111111,\"#46039f\"],[0.2222222222222222,\"#7201a8\"],[0.3333333333333333,\"#9c179e\"],[0.4444444444444444,\"#bd3786\"],[0.5555555555555556,\"#d8576b\"],[0.6666666666666666,\"#ed7953\"],[0.7777777777777778,\"#fb9f3a\"],[0.8888888888888888,\"#fdca26\"],[1.0,\"#f0f921\"]],\"type\":\"contour\"}],\"heatmap\":[{\"colorbar\":{\"outlinewidth\":0,\"ticks\":\"\"},\"colorscale\":[[0.0,\"#0d0887\"],[0.1111111111111111,\"#46039f\"],[0.2222222222222222,\"#7201a8\"],[0.3333333333333333,\"#9c179e\"],[0.4444444444444444,\"#bd3786\"],[0.5555555555555556,\"#d8576b\"],[0.6666666666666666,\"#ed7953\"],[0.7777777777777778,\"#fb9f3a\"],[0.8888888888888888,\"#fdca26\"],[1.0,\"#f0f921\"]],\"type\":\"heatmap\"}],\"histogram2dcontour\":[{\"colorbar\":{\"outlinewidth\":0,\"ticks\":\"\"},\"colorscale\":[[0.0,\"#0d0887\"],[0.1111111111111111,\"#46039f\"],[0.2222222222222222,\"#7201a8\"],[0.3333333333333333,\"#9c179e\"],[0.4444444444444444,\"#bd3786\"],[0.5555555555555556,\"#d8576b\"],[0.6666666666666666,\"#ed7953\"],[0.7777777777777778,\"#fb9f3a\"],[0.8888888888888888,\"#fdca26\"],[1.0,\"#f0f921\"]],\"type\":\"histogram2dcontour\"}],\"histogram2d\":[{\"colorbar\":{\"outlinewidth\":0,\"ticks\":\"\"},\"colorscale\":[[0.0,\"#0d0887\"],[0.1111111111111111,\"#46039f\"],[0.2222222222222222,\"#7201a8\"],[0.3333333333333333,\"#9c179e\"],[0.4444444444444444,\"#bd3786\"],[0.5555555555555556,\"#d8576b\"],[0.6666666666666666,\"#ed7953\"],[0.7777777777777778,\"#fb9f3a\"],[0.8888888888888888,\"#fdca26\"],[1.0,\"#f0f921\"]],\"type\":\"histogram2d\"}],\"histogram\":[{\"marker\":{\"pattern\":{\"fillmode\":\"overlay\",\"size\":10,\"solidity\":0.2}},\"type\":\"histogram\"}],\"mesh3d\":[{\"colorbar\":{\"outlinewidth\":0,\"ticks\":\"\"},\"type\":\"mesh3d\"}],\"parcoords\":[{\"line\":{\"colorbar\":{\"outlinewidth\":0,\"ticks\":\"\"}},\"type\":\"parcoords\"}],\"pie\":[{\"automargin\":true,\"type\":\"pie\"}],\"scatter3d\":[{\"line\":{\"colorbar\":{\"outlinewidth\":0,\"ticks\":\"\"}},\"marker\":{\"colorbar\":{\"outlinewidth\":0,\"ticks\":\"\"}},\"type\":\"scatter3d\"}],\"scattercarpet\":[{\"marker\":{\"colorbar\":{\"outlinewidth\":0,\"ticks\":\"\"}},\"type\":\"scattercarpet\"}],\"scattergeo\":[{\"marker\":{\"colorbar\":{\"outlinewidth\":0,\"ticks\":\"\"}},\"type\":\"scattergeo\"}],\"scattergl\":[{\"marker\":{\"colorbar\":{\"outlinewidth\":0,\"ticks\":\"\"}},\"type\":\"scattergl\"}],\"scattermapbox\":[{\"marker\":{\"colorbar\":{\"outlinewidth\":0,\"ticks\":\"\"}},\"type\":\"scattermapbox\"}],\"scattermap\":[{\"marker\":{\"colorbar\":{\"outlinewidth\":0,\"ticks\":\"\"}},\"type\":\"scattermap\"}],\"scatterpolargl\":[{\"marker\":{\"colorbar\":{\"outlinewidth\":0,\"ticks\":\"\"}},\"type\":\"scatterpolargl\"}],\"scatterpolar\":[{\"marker\":{\"colorbar\":{\"outlinewidth\":0,\"ticks\":\"\"}},\"type\":\"scatterpolar\"}],\"scatter\":[{\"fillpattern\":{\"fillmode\":\"overlay\",\"size\":10,\"solidity\":0.2},\"type\":\"scatter\"}],\"scatterternary\":[{\"marker\":{\"colorbar\":{\"outlinewidth\":0,\"ticks\":\"\"}},\"type\":\"scatterternary\"}],\"surface\":[{\"colorbar\":{\"outlinewidth\":0,\"ticks\":\"\"},\"colorscale\":[[0.0,\"#0d0887\"],[0.1111111111111111,\"#46039f\"],[0.2222222222222222,\"#7201a8\"],[0.3333333333333333,\"#9c179e\"],[0.4444444444444444,\"#bd3786\"],[0.5555555555555556,\"#d8576b\"],[0.6666666666666666,\"#ed7953\"],[0.7777777777777778,\"#fb9f3a\"],[0.8888888888888888,\"#fdca26\"],[1.0,\"#f0f921\"]],\"type\":\"surface\"}],\"table\":[{\"cells\":{\"fill\":{\"color\":\"#EBF0F8\"},\"line\":{\"color\":\"white\"}},\"header\":{\"fill\":{\"color\":\"#C8D4E3\"},\"line\":{\"color\":\"white\"}},\"type\":\"table\"}]},\"layout\":{\"annotationdefaults\":{\"arrowcolor\":\"#2a3f5f\",\"arrowhead\":0,\"arrowwidth\":1},\"autotypenumbers\":\"strict\",\"coloraxis\":{\"colorbar\":{\"outlinewidth\":0,\"ticks\":\"\"}},\"colorscale\":{\"diverging\":[[0,\"#8e0152\"],[0.1,\"#c51b7d\"],[0.2,\"#de77ae\"],[0.3,\"#f1b6da\"],[0.4,\"#fde0ef\"],[0.5,\"#f7f7f7\"],[0.6,\"#e6f5d0\"],[0.7,\"#b8e186\"],[0.8,\"#7fbc41\"],[0.9,\"#4d9221\"],[1,\"#276419\"]],\"sequential\":[[0.0,\"#0d0887\"],[0.1111111111111111,\"#46039f\"],[0.2222222222222222,\"#7201a8\"],[0.3333333333333333,\"#9c179e\"],[0.4444444444444444,\"#bd3786\"],[0.5555555555555556,\"#d8576b\"],[0.6666666666666666,\"#ed7953\"],[0.7777777777777778,\"#fb9f3a\"],[0.8888888888888888,\"#fdca26\"],[1.0,\"#f0f921\"]],\"sequentialminus\":[[0.0,\"#0d0887\"],[0.1111111111111111,\"#46039f\"],[0.2222222222222222,\"#7201a8\"],[0.3333333333333333,\"#9c179e\"],[0.4444444444444444,\"#bd3786\"],[0.5555555555555556,\"#d8576b\"],[0.6666666666666666,\"#ed7953\"],[0.7777777777777778,\"#fb9f3a\"],[0.8888888888888888,\"#fdca26\"],[1.0,\"#f0f921\"]]},\"colorway\":[\"#636efa\",\"#EF553B\",\"#00cc96\",\"#ab63fa\",\"#FFA15A\",\"#19d3f3\",\"#FF6692\",\"#B6E880\",\"#FF97FF\",\"#FECB52\"],\"font\":{\"color\":\"#2a3f5f\"},\"geo\":{\"bgcolor\":\"white\",\"lakecolor\":\"white\",\"landcolor\":\"white\",\"showlakes\":true,\"showland\":true,\"subunitcolor\":\"#C8D4E3\"},\"hoverlabel\":{\"align\":\"left\"},\"hovermode\":\"closest\",\"mapbox\":{\"style\":\"light\"},\"paper_bgcolor\":\"white\",\"plot_bgcolor\":\"white\",\"polar\":{\"angularaxis\":{\"gridcolor\":\"#EBF0F8\",\"linecolor\":\"#EBF0F8\",\"ticks\":\"\"},\"bgcolor\":\"white\",\"radialaxis\":{\"gridcolor\":\"#EBF0F8\",\"linecolor\":\"#EBF0F8\",\"ticks\":\"\"}},\"scene\":{\"xaxis\":{\"backgroundcolor\":\"white\",\"gridcolor\":\"#DFE8F3\",\"gridwidth\":2,\"linecolor\":\"#EBF0F8\",\"showbackground\":true,\"ticks\":\"\",\"zerolinecolor\":\"#EBF0F8\"},\"yaxis\":{\"backgroundcolor\":\"white\",\"gridcolor\":\"#DFE8F3\",\"gridwidth\":2,\"linecolor\":\"#EBF0F8\",\"showbackground\":true,\"ticks\":\"\",\"zerolinecolor\":\"#EBF0F8\"},\"zaxis\":{\"backgroundcolor\":\"white\",\"gridcolor\":\"#DFE8F3\",\"gridwidth\":2,\"linecolor\":\"#EBF0F8\",\"showbackground\":true,\"ticks\":\"\",\"zerolinecolor\":\"#EBF0F8\"}},\"shapedefaults\":{\"line\":{\"color\":\"#2a3f5f\"}},\"ternary\":{\"aaxis\":{\"gridcolor\":\"#DFE8F3\",\"linecolor\":\"#A2B1C6\",\"ticks\":\"\"},\"baxis\":{\"gridcolor\":\"#DFE8F3\",\"linecolor\":\"#A2B1C6\",\"ticks\":\"\"},\"bgcolor\":\"white\",\"caxis\":{\"gridcolor\":\"#DFE8F3\",\"linecolor\":\"#A2B1C6\",\"ticks\":\"\"}},\"title\":{\"x\":0.05},\"xaxis\":{\"automargin\":true,\"gridcolor\":\"#EBF0F8\",\"linecolor\":\"#EBF0F8\",\"ticks\":\"\",\"title\":{\"standoff\":15},\"zerolinecolor\":\"#EBF0F8\",\"zerolinewidth\":2},\"yaxis\":{\"automargin\":true,\"gridcolor\":\"#EBF0F8\",\"linecolor\":\"#EBF0F8\",\"ticks\":\"\",\"title\":{\"standoff\":15},\"zerolinecolor\":\"#EBF0F8\",\"zerolinewidth\":2}}},\"legend\":{\"x\":0.99,\"y\":0.99},\"title\":{\"text\":\"Ajuste de Log-Series sobre df_train | KL Divergence = 0.5324\"},\"xaxis\":{\"title\":{\"text\":\"days_to_trend\"}},\"yaxis\":{\"title\":{\"text\":\"Probabilidad\"}}},                        {\"responsive\": true}                    ).then(function(){\n",
       "                            \n",
       "var gd = document.getElementById('56d0d299-8b48-4cbe-9d5c-9bf853d8918f');\n",
       "var x = new MutationObserver(function (mutations, observer) {{\n",
       "        var display = window.getComputedStyle(gd).display;\n",
       "        if (!display || display === 'none') {{\n",
       "            console.log([gd, 'removed!']);\n",
       "            Plotly.purge(gd);\n",
       "            observer.disconnect();\n",
       "        }}\n",
       "}});\n",
       "\n",
       "// Listen for the removal of the full notebook cells\n",
       "var notebookContainer = gd.closest('#notebook-container');\n",
       "if (notebookContainer) {{\n",
       "    x.observe(notebookContainer, {childList: true});\n",
       "}}\n",
       "\n",
       "// Listen for the clearing of the current output cell\n",
       "var outputEl = gd.closest('.output');\n",
       "if (outputEl) {{\n",
       "    x.observe(outputEl, {childList: true});\n",
       "}}\n",
       "\n",
       "                        })                };            </script>        </div>"
      ]
     },
     "metadata": {},
     "output_type": "display_data"
    },
    {
     "data": {
      "text/html": [
       "<div>            <script src=\"https://cdnjs.cloudflare.com/ajax/libs/mathjax/2.7.5/MathJax.js?config=TeX-AMS-MML_SVG\"></script><script type=\"text/javascript\">if (window.MathJax && window.MathJax.Hub && window.MathJax.Hub.Config) {window.MathJax.Hub.Config({SVG: {font: \"STIX-Web\"}});}</script>                <script type=\"text/javascript\">window.PlotlyConfig = {MathJaxConfig: 'local'};</script>\n",
       "        <script charset=\"utf-8\" src=\"https://cdn.plot.ly/plotly-3.0.1.min.js\"></script>                <div id=\"030f7046-c73d-42a6-a038-c085810ad99d\" class=\"plotly-graph-div\" style=\"height:525px; width:100%;\"></div>            <script type=\"text/javascript\">                window.PLOTLYENV=window.PLOTLYENV || {};                                if (document.getElementById(\"030f7046-c73d-42a6-a038-c085810ad99d\")) {                    Plotly.newPlot(                        \"030f7046-c73d-42a6-a038-c085810ad99d\",                        [{\"name\":\"Empirical\",\"opacity\":0.6,\"x\":{\"dtype\":\"i1\",\"bdata\":\"AAECAwQFBgcICQoLDA0ODxAREhMUFRYXGBkaGxwd\"},\"y\":{\"dtype\":\"f8\",\"bdata\":\"XZ\\u002fEoNSxsj9azuDraE2zP+Wd7bAglLM\\u002f32QyLtr9sj8uv8kiHs6yPxEWEWH8RbI\\u002fIpNbt\\u002fFtsD90whOFpfSrP0W0MdUQdqg\\u002fBEwJHLc1pj\\u002fgaZXXThelP3kIDYvAh6M\\u002fTT\\u002f+W9bUoT+cvJmdSguhP0pfingbcZ4\\u002fRNXjdsbZmj8daJQXUyOZP\\u002fS1cTc1oZU\\u002fb4gs3FQjlD9jXL5wKMORPx2Rk0VAf44\\u002fT1qT4OT4iD8FUdjWafCEP200sOMc1H4\\u002f38MBOv6LdT80XpJ99JxtPwSu2c9CHGQ\\u002f9bCHr6pXYj+\\u002fg2Drf1pQP54arAQjN0U\\u002f\"},\"type\":\"bar\"},{\"line\":{\"color\":\"orange\"},\"mode\":\"lines+markers\",\"name\":\"Discretized Log-Normal (fitted)\",\"x\":{\"dtype\":\"i1\",\"bdata\":\"AAECAwQFBgcICQoLDA0ODxAREhMUFRYXGBkaGxwd\"},\"y\":{\"dtype\":\"f8\",\"bdata\":\"BKcm2d986z1pLi4Rl1imP0+RF25strc\\u002fCztAZPg1uz81e97ueDO6P4RSgdpJjLc\\u002fiXLStiiGtD85GTEGzKOxP53j+bc2Ja4\\u002fzKAHC9q3qT+rqcMXVfWlP+UkJWmLyaI\\u002fI\\u002fm\\u002fbYseoD9wDGW0p7+bP\\u002fbzMv3i9pc\\u002fvAgpD1rElD+01hJJrg6SP5gEwTPPgY8\\u002fQ66UsoSTiz\\u002fbNaltFzaIP+ODQecoUoU\\u002fZqLXWnXUgj+sG8lZEa2AP0Q+bfyWnX0\\u002f5EenSlhdej8Ed4NtG4d3P7NehJaRC3U\\u002fS6kUpuDdcj9dOhsqNfNwPyeyK\\u002ffRhG4\\u002f\"},\"type\":\"scatter\"}],                        {\"template\":{\"data\":{\"barpolar\":[{\"marker\":{\"line\":{\"color\":\"white\",\"width\":0.5},\"pattern\":{\"fillmode\":\"overlay\",\"size\":10,\"solidity\":0.2}},\"type\":\"barpolar\"}],\"bar\":[{\"error_x\":{\"color\":\"#2a3f5f\"},\"error_y\":{\"color\":\"#2a3f5f\"},\"marker\":{\"line\":{\"color\":\"white\",\"width\":0.5},\"pattern\":{\"fillmode\":\"overlay\",\"size\":10,\"solidity\":0.2}},\"type\":\"bar\"}],\"carpet\":[{\"aaxis\":{\"endlinecolor\":\"#2a3f5f\",\"gridcolor\":\"#C8D4E3\",\"linecolor\":\"#C8D4E3\",\"minorgridcolor\":\"#C8D4E3\",\"startlinecolor\":\"#2a3f5f\"},\"baxis\":{\"endlinecolor\":\"#2a3f5f\",\"gridcolor\":\"#C8D4E3\",\"linecolor\":\"#C8D4E3\",\"minorgridcolor\":\"#C8D4E3\",\"startlinecolor\":\"#2a3f5f\"},\"type\":\"carpet\"}],\"choropleth\":[{\"colorbar\":{\"outlinewidth\":0,\"ticks\":\"\"},\"type\":\"choropleth\"}],\"contourcarpet\":[{\"colorbar\":{\"outlinewidth\":0,\"ticks\":\"\"},\"type\":\"contourcarpet\"}],\"contour\":[{\"colorbar\":{\"outlinewidth\":0,\"ticks\":\"\"},\"colorscale\":[[0.0,\"#0d0887\"],[0.1111111111111111,\"#46039f\"],[0.2222222222222222,\"#7201a8\"],[0.3333333333333333,\"#9c179e\"],[0.4444444444444444,\"#bd3786\"],[0.5555555555555556,\"#d8576b\"],[0.6666666666666666,\"#ed7953\"],[0.7777777777777778,\"#fb9f3a\"],[0.8888888888888888,\"#fdca26\"],[1.0,\"#f0f921\"]],\"type\":\"contour\"}],\"heatmap\":[{\"colorbar\":{\"outlinewidth\":0,\"ticks\":\"\"},\"colorscale\":[[0.0,\"#0d0887\"],[0.1111111111111111,\"#46039f\"],[0.2222222222222222,\"#7201a8\"],[0.3333333333333333,\"#9c179e\"],[0.4444444444444444,\"#bd3786\"],[0.5555555555555556,\"#d8576b\"],[0.6666666666666666,\"#ed7953\"],[0.7777777777777778,\"#fb9f3a\"],[0.8888888888888888,\"#fdca26\"],[1.0,\"#f0f921\"]],\"type\":\"heatmap\"}],\"histogram2dcontour\":[{\"colorbar\":{\"outlinewidth\":0,\"ticks\":\"\"},\"colorscale\":[[0.0,\"#0d0887\"],[0.1111111111111111,\"#46039f\"],[0.2222222222222222,\"#7201a8\"],[0.3333333333333333,\"#9c179e\"],[0.4444444444444444,\"#bd3786\"],[0.5555555555555556,\"#d8576b\"],[0.6666666666666666,\"#ed7953\"],[0.7777777777777778,\"#fb9f3a\"],[0.8888888888888888,\"#fdca26\"],[1.0,\"#f0f921\"]],\"type\":\"histogram2dcontour\"}],\"histogram2d\":[{\"colorbar\":{\"outlinewidth\":0,\"ticks\":\"\"},\"colorscale\":[[0.0,\"#0d0887\"],[0.1111111111111111,\"#46039f\"],[0.2222222222222222,\"#7201a8\"],[0.3333333333333333,\"#9c179e\"],[0.4444444444444444,\"#bd3786\"],[0.5555555555555556,\"#d8576b\"],[0.6666666666666666,\"#ed7953\"],[0.7777777777777778,\"#fb9f3a\"],[0.8888888888888888,\"#fdca26\"],[1.0,\"#f0f921\"]],\"type\":\"histogram2d\"}],\"histogram\":[{\"marker\":{\"pattern\":{\"fillmode\":\"overlay\",\"size\":10,\"solidity\":0.2}},\"type\":\"histogram\"}],\"mesh3d\":[{\"colorbar\":{\"outlinewidth\":0,\"ticks\":\"\"},\"type\":\"mesh3d\"}],\"parcoords\":[{\"line\":{\"colorbar\":{\"outlinewidth\":0,\"ticks\":\"\"}},\"type\":\"parcoords\"}],\"pie\":[{\"automargin\":true,\"type\":\"pie\"}],\"scatter3d\":[{\"line\":{\"colorbar\":{\"outlinewidth\":0,\"ticks\":\"\"}},\"marker\":{\"colorbar\":{\"outlinewidth\":0,\"ticks\":\"\"}},\"type\":\"scatter3d\"}],\"scattercarpet\":[{\"marker\":{\"colorbar\":{\"outlinewidth\":0,\"ticks\":\"\"}},\"type\":\"scattercarpet\"}],\"scattergeo\":[{\"marker\":{\"colorbar\":{\"outlinewidth\":0,\"ticks\":\"\"}},\"type\":\"scattergeo\"}],\"scattergl\":[{\"marker\":{\"colorbar\":{\"outlinewidth\":0,\"ticks\":\"\"}},\"type\":\"scattergl\"}],\"scattermapbox\":[{\"marker\":{\"colorbar\":{\"outlinewidth\":0,\"ticks\":\"\"}},\"type\":\"scattermapbox\"}],\"scattermap\":[{\"marker\":{\"colorbar\":{\"outlinewidth\":0,\"ticks\":\"\"}},\"type\":\"scattermap\"}],\"scatterpolargl\":[{\"marker\":{\"colorbar\":{\"outlinewidth\":0,\"ticks\":\"\"}},\"type\":\"scatterpolargl\"}],\"scatterpolar\":[{\"marker\":{\"colorbar\":{\"outlinewidth\":0,\"ticks\":\"\"}},\"type\":\"scatterpolar\"}],\"scatter\":[{\"fillpattern\":{\"fillmode\":\"overlay\",\"size\":10,\"solidity\":0.2},\"type\":\"scatter\"}],\"scatterternary\":[{\"marker\":{\"colorbar\":{\"outlinewidth\":0,\"ticks\":\"\"}},\"type\":\"scatterternary\"}],\"surface\":[{\"colorbar\":{\"outlinewidth\":0,\"ticks\":\"\"},\"colorscale\":[[0.0,\"#0d0887\"],[0.1111111111111111,\"#46039f\"],[0.2222222222222222,\"#7201a8\"],[0.3333333333333333,\"#9c179e\"],[0.4444444444444444,\"#bd3786\"],[0.5555555555555556,\"#d8576b\"],[0.6666666666666666,\"#ed7953\"],[0.7777777777777778,\"#fb9f3a\"],[0.8888888888888888,\"#fdca26\"],[1.0,\"#f0f921\"]],\"type\":\"surface\"}],\"table\":[{\"cells\":{\"fill\":{\"color\":\"#EBF0F8\"},\"line\":{\"color\":\"white\"}},\"header\":{\"fill\":{\"color\":\"#C8D4E3\"},\"line\":{\"color\":\"white\"}},\"type\":\"table\"}]},\"layout\":{\"annotationdefaults\":{\"arrowcolor\":\"#2a3f5f\",\"arrowhead\":0,\"arrowwidth\":1},\"autotypenumbers\":\"strict\",\"coloraxis\":{\"colorbar\":{\"outlinewidth\":0,\"ticks\":\"\"}},\"colorscale\":{\"diverging\":[[0,\"#8e0152\"],[0.1,\"#c51b7d\"],[0.2,\"#de77ae\"],[0.3,\"#f1b6da\"],[0.4,\"#fde0ef\"],[0.5,\"#f7f7f7\"],[0.6,\"#e6f5d0\"],[0.7,\"#b8e186\"],[0.8,\"#7fbc41\"],[0.9,\"#4d9221\"],[1,\"#276419\"]],\"sequential\":[[0.0,\"#0d0887\"],[0.1111111111111111,\"#46039f\"],[0.2222222222222222,\"#7201a8\"],[0.3333333333333333,\"#9c179e\"],[0.4444444444444444,\"#bd3786\"],[0.5555555555555556,\"#d8576b\"],[0.6666666666666666,\"#ed7953\"],[0.7777777777777778,\"#fb9f3a\"],[0.8888888888888888,\"#fdca26\"],[1.0,\"#f0f921\"]],\"sequentialminus\":[[0.0,\"#0d0887\"],[0.1111111111111111,\"#46039f\"],[0.2222222222222222,\"#7201a8\"],[0.3333333333333333,\"#9c179e\"],[0.4444444444444444,\"#bd3786\"],[0.5555555555555556,\"#d8576b\"],[0.6666666666666666,\"#ed7953\"],[0.7777777777777778,\"#fb9f3a\"],[0.8888888888888888,\"#fdca26\"],[1.0,\"#f0f921\"]]},\"colorway\":[\"#636efa\",\"#EF553B\",\"#00cc96\",\"#ab63fa\",\"#FFA15A\",\"#19d3f3\",\"#FF6692\",\"#B6E880\",\"#FF97FF\",\"#FECB52\"],\"font\":{\"color\":\"#2a3f5f\"},\"geo\":{\"bgcolor\":\"white\",\"lakecolor\":\"white\",\"landcolor\":\"white\",\"showlakes\":true,\"showland\":true,\"subunitcolor\":\"#C8D4E3\"},\"hoverlabel\":{\"align\":\"left\"},\"hovermode\":\"closest\",\"mapbox\":{\"style\":\"light\"},\"paper_bgcolor\":\"white\",\"plot_bgcolor\":\"white\",\"polar\":{\"angularaxis\":{\"gridcolor\":\"#EBF0F8\",\"linecolor\":\"#EBF0F8\",\"ticks\":\"\"},\"bgcolor\":\"white\",\"radialaxis\":{\"gridcolor\":\"#EBF0F8\",\"linecolor\":\"#EBF0F8\",\"ticks\":\"\"}},\"scene\":{\"xaxis\":{\"backgroundcolor\":\"white\",\"gridcolor\":\"#DFE8F3\",\"gridwidth\":2,\"linecolor\":\"#EBF0F8\",\"showbackground\":true,\"ticks\":\"\",\"zerolinecolor\":\"#EBF0F8\"},\"yaxis\":{\"backgroundcolor\":\"white\",\"gridcolor\":\"#DFE8F3\",\"gridwidth\":2,\"linecolor\":\"#EBF0F8\",\"showbackground\":true,\"ticks\":\"\",\"zerolinecolor\":\"#EBF0F8\"},\"zaxis\":{\"backgroundcolor\":\"white\",\"gridcolor\":\"#DFE8F3\",\"gridwidth\":2,\"linecolor\":\"#EBF0F8\",\"showbackground\":true,\"ticks\":\"\",\"zerolinecolor\":\"#EBF0F8\"}},\"shapedefaults\":{\"line\":{\"color\":\"#2a3f5f\"}},\"ternary\":{\"aaxis\":{\"gridcolor\":\"#DFE8F3\",\"linecolor\":\"#A2B1C6\",\"ticks\":\"\"},\"baxis\":{\"gridcolor\":\"#DFE8F3\",\"linecolor\":\"#A2B1C6\",\"ticks\":\"\"},\"bgcolor\":\"white\",\"caxis\":{\"gridcolor\":\"#DFE8F3\",\"linecolor\":\"#A2B1C6\",\"ticks\":\"\"}},\"title\":{\"x\":0.05},\"xaxis\":{\"automargin\":true,\"gridcolor\":\"#EBF0F8\",\"linecolor\":\"#EBF0F8\",\"ticks\":\"\",\"title\":{\"standoff\":15},\"zerolinecolor\":\"#EBF0F8\",\"zerolinewidth\":2},\"yaxis\":{\"automargin\":true,\"gridcolor\":\"#EBF0F8\",\"linecolor\":\"#EBF0F8\",\"ticks\":\"\",\"title\":{\"standoff\":15},\"zerolinecolor\":\"#EBF0F8\",\"zerolinewidth\":2}}},\"legend\":{\"x\":0.99,\"y\":0.99},\"title\":{\"text\":\"Ajuste de Discretized Log-Normal sobre df_train | KL Divergence = 1.4095\"},\"xaxis\":{\"title\":{\"text\":\"days_to_trend\"}},\"yaxis\":{\"title\":{\"text\":\"Probabilidad\"}}},                        {\"responsive\": true}                    ).then(function(){\n",
       "                            \n",
       "var gd = document.getElementById('030f7046-c73d-42a6-a038-c085810ad99d');\n",
       "var x = new MutationObserver(function (mutations, observer) {{\n",
       "        var display = window.getComputedStyle(gd).display;\n",
       "        if (!display || display === 'none') {{\n",
       "            console.log([gd, 'removed!']);\n",
       "            Plotly.purge(gd);\n",
       "            observer.disconnect();\n",
       "        }}\n",
       "}});\n",
       "\n",
       "// Listen for the removal of the full notebook cells\n",
       "var notebookContainer = gd.closest('#notebook-container');\n",
       "if (notebookContainer) {{\n",
       "    x.observe(notebookContainer, {childList: true});\n",
       "}}\n",
       "\n",
       "// Listen for the clearing of the current output cell\n",
       "var outputEl = gd.closest('.output');\n",
       "if (outputEl) {{\n",
       "    x.observe(outputEl, {childList: true});\n",
       "}}\n",
       "\n",
       "                        })                };            </script>        </div>"
      ]
     },
     "metadata": {},
     "output_type": "display_data"
    }
   ],
   "source": [
    "for dist_name in results.keys():\n",
    "    if dist_name == 'Poisson':\n",
    "        probs = poisson.pmf(x_train, mu=lambda_poisson)\n",
    "    elif dist_name == 'Geometric':\n",
    "        probs = geom.pmf(x_train, p=p_geom)\n",
    "    elif dist_name == 'Negative Binomial':\n",
    "        probs = nbinom.pmf(x_train, n=r, p=p_nbinom)\n",
    "    elif dist_name == 'Discretized Normal':\n",
    "        probs = norm.pdf(x_train, loc=mu_norm, scale=sigma_norm)\n",
    "        probs /= probs.sum()\n",
    "    elif dist_name == 'Binomial':\n",
    "        probs = binom.pmf(x_train, n=n_binom, p=p_binom)\n",
    "    elif dist_name == 'Zipf':\n",
    "        x_zipf_plot = x_train[x_train >= 1]\n",
    "        probs = zipf.pmf(x_zipf_plot, a=a_zipf)\n",
    "        probs /= probs.sum()\n",
    "        x_used = x_zipf_plot\n",
    "    elif dist_name == 'Log-Series':\n",
    "        x_logser_plot = x_train[x_train >= 1]\n",
    "        probs = logser.pmf(x_logser_plot, p=p_ls)\n",
    "        probs /= probs.sum()\n",
    "        x_used = x_logser_plot\n",
    "    elif dist_name == 'Discretized Exponential':\n",
    "        probs = expon.pdf(x_train, scale=1/lambda_exp)\n",
    "        probs /= probs.sum()\n",
    "    elif dist_name == 'Discretized Gamma':\n",
    "        probs = gamma.pdf(x_train, a=alpha_gamma, scale=1/beta_gamma)\n",
    "        probs /= probs.sum()\n",
    "    elif dist_name == 'Discretized Log-Normal':\n",
    "        probs = lognorm.pdf(x_train, s=shape_ln, scale=scale_ln)\n",
    "        probs /= probs.sum()\n",
    "    else:\n",
    "        continue\n",
    "    if dist_name in ['Zipf', 'Log-Series']:\n",
    "        x_plot = x_used\n",
    "        p_empirical = p_train[np.isin(x_train, x_plot)]\n",
    "    else:\n",
    "        x_plot = x_train\n",
    "        p_empirical = p_train\n",
    "\n",
    "    probs += 1e-10\n",
    "    probs /= probs.sum()\n",
    "    plot_distribution_fit(dist_name, x_plot, p_empirical, probs)"
   ]
  },
  {
   "cell_type": "code",
   "execution_count": 19,
   "id": "485cbdc7",
   "metadata": {},
   "outputs": [
    {
     "name": "stdout",
     "output_type": "stream",
     "text": [
      "Ranking by KL Divergence (lower is better):\n",
      "Negative Binomial: KL Divergence = 0.02657\n",
      "Discretized Normal: KL Divergence = 0.09399\n",
      "Log-Series: KL Divergence = 0.53236\n",
      "Zipf: KL Divergence = 1.11181\n",
      "Poisson: KL Divergence = 1.24942\n",
      "Geometric: KL Divergence = 1.44136\n",
      "Discretized Log-Normal: KL Divergence = 1.46012\n",
      "Binomial: KL Divergence = 2.08831\n"
     ]
    }
   ],
   "source": [
    "results_sorted = sorted(results.items(), key=lambda x: x[1])\n",
    "print(\"Ranking by KL Divergence (lower is better):\")\n",
    "for name, score in results_sorted:\n",
    "    print(f\"{name}: KL Divergence = {score:.5f}\")"
   ]
  },
  {
   "cell_type": "code",
   "execution_count": 20,
   "id": "97094920",
   "metadata": {},
   "outputs": [
    {
     "name": "stdout",
     "output_type": "stream",
     "text": [
      "\n",
      "Best distribution: Negative Binomial (KL Divergence = 0.02657)\n"
     ]
    }
   ],
   "source": [
    "best_name, best_kl = results_sorted[0]\n",
    "print(f\"\\nBest distribution: {best_name} (KL Divergence = {best_kl:.5f})\")\n",
    "\n",
    "match best_name:\n",
    "    case 'Poisson':\n",
    "        y_pred_val = poisson.rvs(mu=lambda_poisson, size=len(y_val))\n",
    "    case 'Geometric':\n",
    "        y_pred_val = geom.rvs(p=p_geom, size=len(y_val))\n",
    "    case 'Negative Binomial':\n",
    "        y_pred_val = nbinom.rvs(n=r, p=p_nbinom, size=len(y_val))\n",
    "    case 'Discretized Normal':\n",
    "        y_pred_val = np.round(norm.rvs(loc=mu_norm, scale=sigma_norm, size=len(y_val))).astype(int)\n",
    "    case 'Binomial':\n",
    "        y_pred_val = binom.rvs(n=n_binom, p=p_binom, size=len(y_val))\n",
    "    case 'Zipf':\n",
    "        y_pred_val = zipf.rvs(a=a_zipf, size=len(y_val))\n",
    "        y_pred_val = np.clip(y_pred_val, 0, np.max(y_train))\n",
    "    case 'Log-Series':\n",
    "        y_pred_val = logser.rvs(p=p_ls, size=len(y_val))\n",
    "    case 'Discretized Exponential':\n",
    "        y_pred_val = np.round(expon.rvs(scale=1/lambda_exp, size=len(y_val))).astype(int)\n",
    "    case 'Discretized Gamma':\n",
    "        y_pred_val = np.round(gamma.rvs(a=alpha_gamma, scale=1/beta_gamma, size=len(y_val))).astype(int)\n",
    "    case 'Discretized Log-Normal':\n",
    "        y_pred_val = np.round(lognorm.rvs(s=shape_ln, scale=scale_ln, size=len(y_val))).astype(int)\n"
   ]
  },
  {
   "cell_type": "code",
   "execution_count": 21,
   "id": "c6d05b9d",
   "metadata": {},
   "outputs": [
    {
     "name": "stdout",
     "output_type": "stream",
     "text": [
      "\n",
      "Evaluation in validation set:\n",
      "MAE = 6.749029\n",
      "RMSE = 8.823058\n"
     ]
    }
   ],
   "source": [
    "MAE = mean_absolute_error(y_val, y_pred_val)\n",
    "RMSE = np.sqrt(mean_squared_error(y_val, y_pred_val))\n",
    "print(f\"\\nEvaluation in validation set:\")\n",
    "print(f\"MAE = {MAE:.6f}\")\n",
    "print(f\"RMSE = {RMSE:.6f}\")"
   ]
  },
  {
   "cell_type": "code",
   "execution_count": 22,
   "id": "f512f5b6",
   "metadata": {},
   "outputs": [
    {
     "data": {
      "text/html": [
       "<div>            <script src=\"https://cdnjs.cloudflare.com/ajax/libs/mathjax/2.7.5/MathJax.js?config=TeX-AMS-MML_SVG\"></script><script type=\"text/javascript\">if (window.MathJax && window.MathJax.Hub && window.MathJax.Hub.Config) {window.MathJax.Hub.Config({SVG: {font: \"STIX-Web\"}});}</script>                <script type=\"text/javascript\">window.PlotlyConfig = {MathJaxConfig: 'local'};</script>\n",
       "        <script charset=\"utf-8\" src=\"https://cdn.plot.ly/plotly-3.0.1.min.js\"></script>                <div id=\"97e1d17e-fe75-4a94-ba11-08b849fcfefa\" class=\"plotly-graph-div\" style=\"height:525px; width:100%;\"></div>            <script type=\"text/javascript\">                window.PLOTLYENV=window.PLOTLYENV || {};                                if (document.getElementById(\"97e1d17e-fe75-4a94-ba11-08b849fcfefa\")) {                    Plotly.newPlot(                        \"97e1d17e-fe75-4a94-ba11-08b849fcfefa\",                        [{\"histnorm\":\"probability density\",\"name\":\"True value\",\"opacity\":0.5,\"x\":{\"dtype\":\"i1\",\"bdata\":\"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\"},\"xbins\":{\"end\":52,\"size\":1,\"start\":0},\"type\":\"histogram\"},{\"histnorm\":\"probability density\",\"marker\":{\"color\":\"orange\"},\"name\":\"Predicted\",\"opacity\":0.5,\"x\":{\"dtype\":\"i1\",\"bdata\":\"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\"},\"xbins\":{\"end\":52,\"size\":1,\"start\":0},\"type\":\"histogram\"}],                        {\"template\":{\"data\":{\"barpolar\":[{\"marker\":{\"line\":{\"color\":\"white\",\"width\":0.5},\"pattern\":{\"fillmode\":\"overlay\",\"size\":10,\"solidity\":0.2}},\"type\":\"barpolar\"}],\"bar\":[{\"error_x\":{\"color\":\"#2a3f5f\"},\"error_y\":{\"color\":\"#2a3f5f\"},\"marker\":{\"line\":{\"color\":\"white\",\"width\":0.5},\"pattern\":{\"fillmode\":\"overlay\",\"size\":10,\"solidity\":0.2}},\"type\":\"bar\"}],\"carpet\":[{\"aaxis\":{\"endlinecolor\":\"#2a3f5f\",\"gridcolor\":\"#C8D4E3\",\"linecolor\":\"#C8D4E3\",\"minorgridcolor\":\"#C8D4E3\",\"startlinecolor\":\"#2a3f5f\"},\"baxis\":{\"endlinecolor\":\"#2a3f5f\",\"gridcolor\":\"#C8D4E3\",\"linecolor\":\"#C8D4E3\",\"minorgridcolor\":\"#C8D4E3\",\"startlinecolor\":\"#2a3f5f\"},\"type\":\"carpet\"}],\"choropleth\":[{\"colorbar\":{\"outlinewidth\":0,\"ticks\":\"\"},\"type\":\"choropleth\"}],\"contourcarpet\":[{\"colorbar\":{\"outlinewidth\":0,\"ticks\":\"\"},\"type\":\"contourcarpet\"}],\"contour\":[{\"colorbar\":{\"outlinewidth\":0,\"ticks\":\"\"},\"colorscale\":[[0.0,\"#0d0887\"],[0.1111111111111111,\"#46039f\"],[0.2222222222222222,\"#7201a8\"],[0.3333333333333333,\"#9c179e\"],[0.4444444444444444,\"#bd3786\"],[0.5555555555555556,\"#d8576b\"],[0.6666666666666666,\"#ed7953\"],[0.7777777777777778,\"#fb9f3a\"],[0.8888888888888888,\"#fdca26\"],[1.0,\"#f0f921\"]],\"type\":\"contour\"}],\"heatmap\":[{\"colorbar\":{\"outlinewidth\":0,\"ticks\":\"\"},\"colorscale\":[[0.0,\"#0d0887\"],[0.1111111111111111,\"#46039f\"],[0.2222222222222222,\"#7201a8\"],[0.3333333333333333,\"#9c179e\"],[0.4444444444444444,\"#bd3786\"],[0.5555555555555556,\"#d8576b\"],[0.6666666666666666,\"#ed7953\"],[0.7777777777777778,\"#fb9f3a\"],[0.8888888888888888,\"#fdca26\"],[1.0,\"#f0f921\"]],\"type\":\"heatmap\"}],\"histogram2dcontour\":[{\"colorbar\":{\"outlinewidth\":0,\"ticks\":\"\"},\"colorscale\":[[0.0,\"#0d0887\"],[0.1111111111111111,\"#46039f\"],[0.2222222222222222,\"#7201a8\"],[0.3333333333333333,\"#9c179e\"],[0.4444444444444444,\"#bd3786\"],[0.5555555555555556,\"#d8576b\"],[0.6666666666666666,\"#ed7953\"],[0.7777777777777778,\"#fb9f3a\"],[0.8888888888888888,\"#fdca26\"],[1.0,\"#f0f921\"]],\"type\":\"histogram2dcontour\"}],\"histogram2d\":[{\"colorbar\":{\"outlinewidth\":0,\"ticks\":\"\"},\"colorscale\":[[0.0,\"#0d0887\"],[0.1111111111111111,\"#46039f\"],[0.2222222222222222,\"#7201a8\"],[0.3333333333333333,\"#9c179e\"],[0.4444444444444444,\"#bd3786\"],[0.5555555555555556,\"#d8576b\"],[0.6666666666666666,\"#ed7953\"],[0.7777777777777778,\"#fb9f3a\"],[0.8888888888888888,\"#fdca26\"],[1.0,\"#f0f921\"]],\"type\":\"histogram2d\"}],\"histogram\":[{\"marker\":{\"pattern\":{\"fillmode\":\"overlay\",\"size\":10,\"solidity\":0.2}},\"type\":\"histogram\"}],\"mesh3d\":[{\"colorbar\":{\"outlinewidth\":0,\"ticks\":\"\"},\"type\":\"mesh3d\"}],\"parcoords\":[{\"line\":{\"colorbar\":{\"outlinewidth\":0,\"ticks\":\"\"}},\"type\":\"parcoords\"}],\"pie\":[{\"automargin\":true,\"type\":\"pie\"}],\"scatter3d\":[{\"line\":{\"colorbar\":{\"outlinewidth\":0,\"ticks\":\"\"}},\"marker\":{\"colorbar\":{\"outlinewidth\":0,\"ticks\":\"\"}},\"type\":\"scatter3d\"}],\"scattercarpet\":[{\"marker\":{\"colorbar\":{\"outlinewidth\":0,\"ticks\":\"\"}},\"type\":\"scattercarpet\"}],\"scattergeo\":[{\"marker\":{\"colorbar\":{\"outlinewidth\":0,\"ticks\":\"\"}},\"type\":\"scattergeo\"}],\"scattergl\":[{\"marker\":{\"colorbar\":{\"outlinewidth\":0,\"ticks\":\"\"}},\"type\":\"scattergl\"}],\"scattermapbox\":[{\"marker\":{\"colorbar\":{\"outlinewidth\":0,\"ticks\":\"\"}},\"type\":\"scattermapbox\"}],\"scattermap\":[{\"marker\":{\"colorbar\":{\"outlinewidth\":0,\"ticks\":\"\"}},\"type\":\"scattermap\"}],\"scatterpolargl\":[{\"marker\":{\"colorbar\":{\"outlinewidth\":0,\"ticks\":\"\"}},\"type\":\"scatterpolargl\"}],\"scatterpolar\":[{\"marker\":{\"colorbar\":{\"outlinewidth\":0,\"ticks\":\"\"}},\"type\":\"scatterpolar\"}],\"scatter\":[{\"fillpattern\":{\"fillmode\":\"overlay\",\"size\":10,\"solidity\":0.2},\"type\":\"scatter\"}],\"scatterternary\":[{\"marker\":{\"colorbar\":{\"outlinewidth\":0,\"ticks\":\"\"}},\"type\":\"scatterternary\"}],\"surface\":[{\"colorbar\":{\"outlinewidth\":0,\"ticks\":\"\"},\"colorscale\":[[0.0,\"#0d0887\"],[0.1111111111111111,\"#46039f\"],[0.2222222222222222,\"#7201a8\"],[0.3333333333333333,\"#9c179e\"],[0.4444444444444444,\"#bd3786\"],[0.5555555555555556,\"#d8576b\"],[0.6666666666666666,\"#ed7953\"],[0.7777777777777778,\"#fb9f3a\"],[0.8888888888888888,\"#fdca26\"],[1.0,\"#f0f921\"]],\"type\":\"surface\"}],\"table\":[{\"cells\":{\"fill\":{\"color\":\"#EBF0F8\"},\"line\":{\"color\":\"white\"}},\"header\":{\"fill\":{\"color\":\"#C8D4E3\"},\"line\":{\"color\":\"white\"}},\"type\":\"table\"}]},\"layout\":{\"annotationdefaults\":{\"arrowcolor\":\"#2a3f5f\",\"arrowhead\":0,\"arrowwidth\":1},\"autotypenumbers\":\"strict\",\"coloraxis\":{\"colorbar\":{\"outlinewidth\":0,\"ticks\":\"\"}},\"colorscale\":{\"diverging\":[[0,\"#8e0152\"],[0.1,\"#c51b7d\"],[0.2,\"#de77ae\"],[0.3,\"#f1b6da\"],[0.4,\"#fde0ef\"],[0.5,\"#f7f7f7\"],[0.6,\"#e6f5d0\"],[0.7,\"#b8e186\"],[0.8,\"#7fbc41\"],[0.9,\"#4d9221\"],[1,\"#276419\"]],\"sequential\":[[0.0,\"#0d0887\"],[0.1111111111111111,\"#46039f\"],[0.2222222222222222,\"#7201a8\"],[0.3333333333333333,\"#9c179e\"],[0.4444444444444444,\"#bd3786\"],[0.5555555555555556,\"#d8576b\"],[0.6666666666666666,\"#ed7953\"],[0.7777777777777778,\"#fb9f3a\"],[0.8888888888888888,\"#fdca26\"],[1.0,\"#f0f921\"]],\"sequentialminus\":[[0.0,\"#0d0887\"],[0.1111111111111111,\"#46039f\"],[0.2222222222222222,\"#7201a8\"],[0.3333333333333333,\"#9c179e\"],[0.4444444444444444,\"#bd3786\"],[0.5555555555555556,\"#d8576b\"],[0.6666666666666666,\"#ed7953\"],[0.7777777777777778,\"#fb9f3a\"],[0.8888888888888888,\"#fdca26\"],[1.0,\"#f0f921\"]]},\"colorway\":[\"#636efa\",\"#EF553B\",\"#00cc96\",\"#ab63fa\",\"#FFA15A\",\"#19d3f3\",\"#FF6692\",\"#B6E880\",\"#FF97FF\",\"#FECB52\"],\"font\":{\"color\":\"#2a3f5f\"},\"geo\":{\"bgcolor\":\"white\",\"lakecolor\":\"white\",\"landcolor\":\"white\",\"showlakes\":true,\"showland\":true,\"subunitcolor\":\"#C8D4E3\"},\"hoverlabel\":{\"align\":\"left\"},\"hovermode\":\"closest\",\"mapbox\":{\"style\":\"light\"},\"paper_bgcolor\":\"white\",\"plot_bgcolor\":\"white\",\"polar\":{\"angularaxis\":{\"gridcolor\":\"#EBF0F8\",\"linecolor\":\"#EBF0F8\",\"ticks\":\"\"},\"bgcolor\":\"white\",\"radialaxis\":{\"gridcolor\":\"#EBF0F8\",\"linecolor\":\"#EBF0F8\",\"ticks\":\"\"}},\"scene\":{\"xaxis\":{\"backgroundcolor\":\"white\",\"gridcolor\":\"#DFE8F3\",\"gridwidth\":2,\"linecolor\":\"#EBF0F8\",\"showbackground\":true,\"ticks\":\"\",\"zerolinecolor\":\"#EBF0F8\"},\"yaxis\":{\"backgroundcolor\":\"white\",\"gridcolor\":\"#DFE8F3\",\"gridwidth\":2,\"linecolor\":\"#EBF0F8\",\"showbackground\":true,\"ticks\":\"\",\"zerolinecolor\":\"#EBF0F8\"},\"zaxis\":{\"backgroundcolor\":\"white\",\"gridcolor\":\"#DFE8F3\",\"gridwidth\":2,\"linecolor\":\"#EBF0F8\",\"showbackground\":true,\"ticks\":\"\",\"zerolinecolor\":\"#EBF0F8\"}},\"shapedefaults\":{\"line\":{\"color\":\"#2a3f5f\"}},\"ternary\":{\"aaxis\":{\"gridcolor\":\"#DFE8F3\",\"linecolor\":\"#A2B1C6\",\"ticks\":\"\"},\"baxis\":{\"gridcolor\":\"#DFE8F3\",\"linecolor\":\"#A2B1C6\",\"ticks\":\"\"},\"bgcolor\":\"white\",\"caxis\":{\"gridcolor\":\"#DFE8F3\",\"linecolor\":\"#A2B1C6\",\"ticks\":\"\"}},\"title\":{\"x\":0.05},\"xaxis\":{\"automargin\":true,\"gridcolor\":\"#EBF0F8\",\"linecolor\":\"#EBF0F8\",\"ticks\":\"\",\"title\":{\"standoff\":15},\"zerolinecolor\":\"#EBF0F8\",\"zerolinewidth\":2},\"yaxis\":{\"automargin\":true,\"gridcolor\":\"#EBF0F8\",\"linecolor\":\"#EBF0F8\",\"ticks\":\"\",\"title\":{\"standoff\":15},\"zerolinecolor\":\"#EBF0F8\",\"zerolinewidth\":2}}},\"title\":{\"text\":\"Actual vs. predicted distribution (Negative Binomial)\"},\"xaxis\":{\"title\":{\"text\":\"days_to_trend\"}},\"yaxis\":{\"title\":{\"text\":\"Density\"}},\"barmode\":\"overlay\",\"bargap\":0.1,\"legend\":{\"title\":{\"text\":\"\"}}},                        {\"responsive\": true}                    ).then(function(){\n",
       "                            \n",
       "var gd = document.getElementById('97e1d17e-fe75-4a94-ba11-08b849fcfefa');\n",
       "var x = new MutationObserver(function (mutations, observer) {{\n",
       "        var display = window.getComputedStyle(gd).display;\n",
       "        if (!display || display === 'none') {{\n",
       "            console.log([gd, 'removed!']);\n",
       "            Plotly.purge(gd);\n",
       "            observer.disconnect();\n",
       "        }}\n",
       "}});\n",
       "\n",
       "// Listen for the removal of the full notebook cells\n",
       "var notebookContainer = gd.closest('#notebook-container');\n",
       "if (notebookContainer) {{\n",
       "    x.observe(notebookContainer, {childList: true});\n",
       "}}\n",
       "\n",
       "// Listen for the clearing of the current output cell\n",
       "var outputEl = gd.closest('.output');\n",
       "if (outputEl) {{\n",
       "    x.observe(outputEl, {childList: true});\n",
       "}}\n",
       "\n",
       "                        })                };            </script>        </div>"
      ]
     },
     "metadata": {},
     "output_type": "display_data"
    }
   ],
   "source": [
    "bins = np.arange(0, max(y_val.max(), y_pred_val.max()) + 2) \n",
    "\n",
    "fig = go.Figure()\n",
    "\n",
    "fig.add_trace(go.Histogram(\n",
    "    x=y_val,\n",
    "    xbins=dict(start=bins.min(), end=bins.max(), size=1),\n",
    "    name='True value',\n",
    "    opacity=0.5,\n",
    "    histnorm='probability density',\n",
    "))\n",
    "\n",
    "fig.add_trace(go.Histogram(\n",
    "    x=y_pred_val,\n",
    "    xbins=dict(start=bins.min(), end=bins.max(), size=1),\n",
    "    name='Predicted',\n",
    "    opacity=0.5,\n",
    "    histnorm='probability density',\n",
    "    marker_color='orange'\n",
    "))\n",
    "\n",
    "fig.update_layout(\n",
    "    title=f\"Actual vs. predicted distribution ({best_name})\",\n",
    "    xaxis_title=\"days_to_trend\",\n",
    "    yaxis_title=\"Density\",\n",
    "    barmode='overlay',\n",
    "    bargap=0.1,\n",
    "    template='plotly_white',\n",
    "    legend=dict(title=''),\n",
    ")\n",
    "\n",
    "fig.show()"
   ]
  },
  {
   "cell_type": "code",
   "execution_count": 23,
   "id": "d7f5f836",
   "metadata": {},
   "outputs": [],
   "source": [
    "y_val = df_val['days_to_trend'].values\n",
    "match best_name:\n",
    "    case 'Poisson':\n",
    "        y_pred_val = poisson.rvs(mu=lambda_poisson, size=len(y_val))\n",
    "    case 'Geometric':\n",
    "        y_pred_val = geom.rvs(p=p_geom, size=len(y_val))\n",
    "    case 'Negative Binomial':\n",
    "        y_pred_val = nbinom.rvs(n=r, p=p_nbinom, size=len(y_val))\n",
    "    case 'Discretized Normal':\n",
    "        y_pred_val = np.round(norm.rvs(loc=mu_norm, scale=sigma_norm, size=len(y_val))).astype(int)\n",
    "    case 'Binomial':\n",
    "        y_pred_val = binom.rvs(n=n_binom, p=p_binom, size=len(y_val))\n",
    "    case 'Zipf':\n",
    "        y_pred_val = zipf.rvs(a=a_zipf, size=len(y_val))\n",
    "        y_pred_val = np.clip(y_pred_val, 0, np.max(y_train))\n",
    "    case 'Log-Series':\n",
    "        y_pred_val = logser.rvs(p=p_ls, size=len(y_val))\n",
    "    case 'Discretized Exponential':\n",
    "        y_pred_val = np.round(expon.rvs(scale=1/lambda_exp, size=len(y_val))).astype(int)\n",
    "    case 'Discretized Gamma':\n",
    "        y_pred_val = np.round(gamma.rvs(a=alpha_gamma, scale=1/beta_gamma, size=len(y_val))).astype(int)\n",
    "    case 'Discretized Log-Normal':\n",
    "        y_pred_val = np.round(lognorm.rvs(s=shape_ln, scale=scale_ln, size=len(y_val))).astype(int)"
   ]
  },
  {
   "cell_type": "code",
   "execution_count": 24,
   "id": "6abc0388",
   "metadata": {},
   "outputs": [
    {
     "data": {
      "text/html": [
       "<div>            <script src=\"https://cdnjs.cloudflare.com/ajax/libs/mathjax/2.7.5/MathJax.js?config=TeX-AMS-MML_SVG\"></script><script type=\"text/javascript\">if (window.MathJax && window.MathJax.Hub && window.MathJax.Hub.Config) {window.MathJax.Hub.Config({SVG: {font: \"STIX-Web\"}});}</script>                <script type=\"text/javascript\">window.PlotlyConfig = {MathJaxConfig: 'local'};</script>\n",
       "        <script charset=\"utf-8\" src=\"https://cdn.plot.ly/plotly-3.0.1.min.js\"></script>                <div id=\"97a09ec7-e36f-4768-be89-f9936985dbf3\" class=\"plotly-graph-div\" style=\"height:525px; width:100%;\"></div>            <script type=\"text/javascript\">                window.PLOTLYENV=window.PLOTLYENV || {};                                if (document.getElementById(\"97a09ec7-e36f-4768-be89-f9936985dbf3\")) {                    Plotly.newPlot(                        \"97a09ec7-e36f-4768-be89-f9936985dbf3\",                        [{\"histnorm\":\"probability density\",\"name\":\"Valor real\",\"opacity\":0.5,\"x\":{\"dtype\":\"i1\",\"bdata\":\"CAUFDQwJBAENAgoDCAcDCwENBwIACwQJCAYNBQYHAAMBBAUGAgIFBAYAAQMIBwQIDA0LBQoGCQwEBgUECwcHAwgNCgwJBQQKAQkFBgcACAAEAAEAAgMKAgMDAAEIBwYABAkCAwoFAwkADAkEBQEDCwIMAQUDBQICBwYLAAQEBgYHAQoHCgYHAAYFCAQEDQQLAQsCCAgDDQgCBwEACQILAwUHCw0FAgQMAQoGBwUNCwoDAAEABgQFAwIHAQUFAQIDBAYAAwECAAYBAAIDAAQBAgUEAgEDAwACAQQACAkFBwEBAAYEAAIAAgEAAAMGBAQFBwECBAIBAQECAAMCAQUEAAULAQEDBwMJAgoACAAMBQkHCwIHAgsMBgcEBAMICgoJBQYMBAoAAwEFAgAFCAwCCgkABwoDBAIEBgMHCwQGDAoACAICBQEBBgkBAQAECQgDAwgFBAEDBQULDAsDAgsEBAEMBQMGAwwAAgEHCgIMBAALCggBAwQFAgAEAAIEAAEAAwAAAgYBBAEFBwMBAAIABQEEAwECBQUEAQMCBAEAAAUBCwQDDAEIBQIHCQcAAAYCCgIHCQgLAQwKBAUDBgAAAAcGBQgLCQMKAgQBAAEBBgAEBQMCAAcEAQALBAkKDAgLBAgECgQJCAsIBAoMCwYDBQsMCwYEDAwHCgYIBQwLCQoHBwULBwUEBQcLCgoKAAkHBwIMBgEDCAMLBAYCAQgACgQFDAoACwoAAgwBBQcMAgYEBQcKBAMJCAYJAQoMBwYLCQwICwcJBQkICgcMAAgHAQsFCQoMAgYEBgsHAAMJAQIMCggFBAgEBgoLBwIMBQMJBwAICwECBQYKCQQDDAIAAwEBAAwCCgcICQsDAAYBBAUGBAsDAgcFCQwBCggBBwMCBQYECAQMBQkGCAoCAwcLAQUEAAEDAQMCBgAGCwwBCggDBwIEBQkAAwECBAIDAQAGBQQACQcCAwwKAQUIBgsBAgMAAQACBwUBBAoMCwwFBwAJCAoGAwAEAwgCAgMAAQIEAwIEAAYBAwgBAgcFAQIABAgDCgIMBAcDBgcFAwULAgYFCQIBBwYDBAkKBgsMBAUIAwcGBgsFBQQHDAMHAgkKBAMIAwoJCwoDAgQFBwQLAQYMAwoFCQQEDAgMBQcKCwMHBgcIBQEAAgMEAAIBCAcFBgEEAgMCBQMKBAgCAQYICQsKBwkHBQAMCwQBDAYDAgYMCggLBwEJBgUCAQEEAAIHAwQBAgEHAgUGAwQACAMEDAoCBAoLAQMGAAILDAsJAQAICgsHAgwABwUBBAIGBAMFBQMAAQoHAwkFCAEGBQkLBwoEDAECBAIDBwEAAAkFBgMDAgEABAMBAgAAAQIEAQMABgIFAAMBAAEEAgQDAAUEDAgJBwYFDAEGAwALAgoFAggHCwEKCQMGBAEAAwIFBAMEAAACAQYEBQIFBQEBAAMCBQQKDAcDCQYLCAwLBAEFCgcACQgGAwAABAACAQEFCAcCAQoFAgMFCQYICQoEBgQDBwsDCgYECgcMBwMJCAkKBggFCwQCBQcMDAYECgkFBAUICAsLAQMCCgwHCgAHAwYCCQQFAQsIAAEDCgwICQwGBwQDBQYGDAsFDAgHCAUFBwkFBAQMBQkGCAYGBAkKCwUKBQcLCQsLBgoMCgoFDAcFAwYAAQACBAAEAgUBAQIMAgMKAwsACAUMBAMKCQUCAQcGBAoABgAHAQQBAgMEAAcFBgIEBAUHBwsCCgkFCQsFAQoLBAUMAgoBAQoFBgwCAgkMAwEMCwIECgwKBAECDAoCAQcHCwEFDAIICgoBCgkMBAkDAwMEBgQLCAQCDAMMCQgMDAwBCwQFCwcABgMMDAUCBQYCCAsBDAsJCQoICQoHBQYIAggGDAoGCQwKBwICAwQJCwABAgUKBwMKAQkDCwYFBgMFCwEACgEEAAMEAggABwUBCQADAgcJDAsKBgMEBQgAAwECAQIDAAQGAwUBAgUBAQMMBQwFAgMDAwkIBQkEDAEEBAYMAQcDAQsCAgoDBAoDBQYHAwcFBAcEBQQCDAIBAAcBBgMEAAIFBQICBwABBAQFAQAEAQYDAwACBQkACgIGBwEDBAgBBwMJBgUCDAcIDAQLCgsAAQMJBAECCwsMBQUMBggACgcKBggCBAcCCgYBBwEEBAMHAgIGCQMDBQAAAAMHAQIFCAcEBQQFAQoHCAMCBAIGCQMBBQQCBgIEAAMBAwABAAICAwUGAAYFBAEAAgUEBwAEAwEDCAAAAwIEAwAGAgYFBQQABwwBCgECAgkBBQsHBwgKCQkICwgLDAcKCgsMCwwHDAABAwEFAAQEAgAFAQQGBAAGAwUIBQYBCQIHAAQDDAoHCQgGBwwKCQsGCwoMDAUEAQADBAIFAgUEAwIHBgAICQMCBwYICwsHCQoJCgYFBwgGCQEEAwIKCwgEBwwJCgUGBgwHBgcGAwIACgwADAUBBwwMAAEEBwEDAQQABgUCCgoDBAgMCAsIAgQABAwBCQcGCgMEBQIJCgQECgIGBwcAAwIBAQsMCgYIAwsFBQUAAAIABwAEAQcLAgMGAQUACQQKCAgJBwYECwMKBQwABAQGAwYCCwABAwUFAAMJBwIEAgUHAQoAAQYIAwQBAAECCwAKBwEBCQACBQoDAQoDAAkBAgcACQAGAQQLAQAABgIEAAAHCQsAAwELBgUEBwkLCAUAAQkKCwcHAgQJCAEDCwAHCQYAAQUEBgIDCAoJBwsAAAECBAYDBQACAQACAwEHAgoFBQkCCAEBBAMGCwADAwUFAQQCAgAACgAGAwEHCAkFCwQCBQMBAQQDBAEDAgACAQQDAAIABQIAAQMCAQQEAAEAAAAHAQMFBgQCAAQDBQUCAwkLBQIEAgIKAQoBCQQGCAsAAQQDCAkGAAcCAQkLAwcICwIJAQQDCgsHCgkKCQIBCAYDBwYLBQEEAggLBwMGAgMBAAQFAgIDCgELBQULAgEICgkABAYBBwAAAAECAAEBAgAFBwEIBgMEAAIJCgsFCgcHCgsGBAULAwkGCAsDAgsJCQQFBwYGBAoICAULCwYICQkDBgEHCQgFAwQKBAoFCQIGAAcDCAMJBQMEAQEBAQADAgABAgAIBgoFAwsHCQQGAAcFCwkKCAEDCwAICgQBBwIJBQYDAQIAAAIDAQAHBQgDAgQJBgABAgEIBgQFCwAJBwoDAwUCBAEKAwQFCwYCBwgJCQULBwgICQUECwsKBgkKBwYGBgUBBAIAAwIEBwAIAwUGAQMJBgAIAQQFAgcFBgsIAwEICgsBCQMLAQICBAoBCwkFBgUFAgkKBAkDCAMJCwoHCwQEAwsBBAYJCAgECwQACQAKCQUGAQoKAwQJAwcACQAKCQEACwYLBQkJCwkFCAsLBQsFCQMCAQQABgsJAwAJAgYDBwYCCAYGBwEHCgIKCQoFAAsCAAELAAAHCQkIAgkKCAIIAQYABAIDCQcFAQIABQQBAAYDCwgJBQoCAwcGBAECBAMCAAIABgcFAQACAQkCBwYFAwAECwoIAAQDBgEFBAIBAgAAAAgABQQBBgMICQECBwkLAAQEAgYDBgoFCQUCAwcABwYFAAgAAwEEAwUCAgMBBAIAAQIACgEAAgoDAAAJCQUHBwsDAAkCAAMKAQEFCgkACQEIAgUHCQQCCQsDAgYBBgUBAAQHBAsEBwgJCAIAAAcKBgMCAQYBBgUICwYLCQcLBgAIAwMLBAgGBwgJCQYLCgsBBgkBAwsJAwQABwILBQsGAAUAAwMDCQsLAQcBCQEJAAsACQIJCQkHBQsJAAIKBAoDAgoCBwcIAgAABAABAAgIAQIACQsAAgIGCAAKCgMHAAEBCQsICQAKBgkACAQICwkLBAULAQkCAAIACAAEBwMAAQQIAwgFAAEGAgILBAIJAAsLAQEFAQsKCwAIAQsCAgIBAgQLAAAAAwELBQQEAgUJAgsJBQsEAAEDBwUCAQgEAAYLCQkLCgkLCwsICQsLCgYKCgkLCggJCAsHBgcJBwkJCwYJCwgKBwoKCAcHBgYIBgkKBwsICwsLCQYGCQcKCQkGCQgHCQsLBgYCAwUFAgEJAQQKAwIDAAgACAEABwMDAAEGBQkJBgMDCwQFCwoKCAULCQcEBwkJBwsKBgsICQgKCQQGCQULCQoJBQUIAwYKAwsEBggLCQoHCAkDBQsEBgcEBAsFAgMGBAEFAQIAAwQDAAAKBAQLBgcLCQUFBggFCwYHBwsIAwcECAkLCAoCCgYICQoFCQQGCgIIBAEGBwsGCQUIAwoJBwQDAgULBwIIBgUDCQQBBAUCAwcBAgUIAgMEBgAABAEAAAEACwgLCgkKCQkJCwsHCQYLBwcJCwoJCQUGCwoJCAsKCgUFBQYJCAkJBgcKCwsHBwsFCAYICgYKCgcICQYICgcJBgUECAMAAgEABAEAAwIBBQMBBwgEAgAABgQABAYDAgMFBQIFBgIBAwsICQoHBAYHBQkECAoLBAoJCgYICgcGBQkECAsDCwcHBgIJCQoFCwMDBgUBCwQKCAgGAwkHBggJBQsEBQkLBwMDBQILCgEBAwUDBAcAAAMCBgIJCgQDCwYKCwcGAwUJAgcLCAEFCAQHCQYEAgIDAwgLAgcJCgQFBgADBQYEAQEJBwQCAAAIAAEBAAUFBgQDBQcIAwoABAABAgYACQsLCQkEBQoBCwIICgUGAgMDBggAAwEEBwUEAAUDAQYJBAgHAAIAAQAEAwQDBQEEBgAIAgEABwAGAwsCCAEJBwQKBQQGCgsFAgkHAAEIAwEAAgECAwQGBQAGBQQCAwEAAwQDAAABCAQAAQYHAgIFAQAFAwIEBwQDAAUECAEBAAQBAAIFAgMGAgcABQIBBAECAAYBCAAFAwMCBAUDAwABAAgBAgIKAwYABQQHCQQCCwgHCgkHAQULAwQGCAoCCQUKAwsEBQIGCwkKAwcICAkEBgMKCAsGCwYICwkFCAUGBwYICgsKBwcECwoHCQMHCAQJBQsKBQkJCQIFCwUECgoFAwkLBAsGBQgJBgsECAYKBQgDCgkECwkGCQkHAAsJAAIHBAsCAwkDCAIFBAgLAAEAAgYBAwAJAQEJBwAKBQYIAAYIAQYBAwUEAgIFBwEDAAICAAYFAwQAAwIBAAIAAQAABAIDAAsLCAoJCAkFAwgHCQsKCAEJBQIDAwIJCQcDCwYEAgsGBQkCAgkEBAQLBQIEAQgCAwIBBgQDBAcGCAsBBQYGAgoGAwELCwMCCAkGBQAHBAEHBgoIAgsFAwQACQEDBgUBBgMEBwAABAEGBQIJBwMIAQQACAQCAAYBBQcCBAAFAAABCAYBAQgDBwAHAgQBAAUDBQIJBwsICgYABAEDAgEBBAYHCAAFAAECBAAKAwgGCQUHCwAAAwECBwYEAgQDAwYCBgABBAUACAMJAAcJAQoGBQUCBAADCQYAAQACBAkIAwUKBgADBwcFAgYEAQADAQIEBgMFAAAAAgMBBAUCCQkDAwUBAgYHAQYIBAoKAQgJBwQDAggFAAcBBAQKBQABAQAIBgIHBAkFAwYFAAQDAgEDBQQGAAIBBwcCCAYEAAMFAQgKBAcGBQkCAgEAAgMEAQUAAQUDCgkBBQMCBAcACAYDCgAJBAgBAgYHBQABBQQDAgUGBAACAwEEAwIBBAQBAAcFBgMECQgBAggKAwgKBQoJBgQKBwIHCggDBQoECAMKCggDCggCBQQJBwcECAYHBgcICQIFCQkKBQkKCAgHCgoJCAkHCQUCCAYGBQUECQMCCAoKCAcIAwYGCAQKBwkCCQUAAgUGAAMKAAcIAQMHBwABBgAHAgMEBQABAAIHBAUGAQMDBAUHAQIABgECBQgEAAMHBgABAAMBBAICBQAEAwYDAgEABwgKBgkICgQAAgMBAgcBCAMEBgUJAAEAAAYJAAIDBAoFAQgHAAECAAMABwACAAYBBAUAAgABAQACCgcFAAQIAQkCBgMAAQYDBQkFBwMCBAgGAgoCAQIHAAAAAAAFAQkHBgMECAIHCgACAgEEBQgJAAYDAQYIAwMFBAoBCgoABQoHCQgIBgoFBgADBAUBAgEAAwACAgcDBggABAUBAQIAAwQCAAEDBAgKCAUKCQMFBQgJAQoEBQMEBAgKCQcCAwUJBwMCCAIICgcHAgYHBgoEBggICgMKCQUJBwoFAQYDCQcJBwQAAAACAQUBBgAIBAkHAgcCBQYICgkBBgkKBQUGCAUHBwMEBgMEAwUDBQYJBwkCCQkECggKCggDCAoHCAQGBQUDCQgGCgQHCgYAAAoHCQECAwIIBAcEAAMBBQkKBQEIAgcIBgQGCQUBBQQCAwEBBQIEAAYAAwYABQQAAwgKAQkGBwABAwkHBgEKBwYIBQIEBQQACAMKAgAJAQkFBAgICgUDBgcJAgUFBAQGCAoKCgMGCgkIBAMCBAoDCAUIAgcBAAIBAAoKBwkHCAYKAQIFAAkFAwQBBgcIBAAGAAQIAwIBAwACBAcDCAoAAgUBBgkGCAoJBAkECAoKCgcKAgYDAQUGBgoFBQgFCAkDBQgGBwUECQcHCAQHAwYICQUKCgoECgMHBgQFAQUGCAgEAAcCCgkBAwcAAwACAwYFAQAEAgYGCgkIBwgKCgcFCAgHBggKCgoJBQUJCgcKBwcFBwgKCQcJCQkFBgUGBQcGBgkICAUBAAIBAgMKBgAFAAcKAwkIAAEBBQMCBAABAgQDBAUAAwIABgUHBAIEBAUFAQAEAggDBgcACgYECgkIBQgEBQQJBgcIBQUAAgEDBAUABAcCAAAABAMGAQIFBAIDBgIFAgEHAAEBBgAFAwACAQYDCgkFAgQIBwkFCAcGAAECAQIGAAAFBgQDAAcFBQMABAoDBwgCAQUJBgADBAUCAwEBAgEACQUIAQcGCgIDBAAFBAcCAQYDAAUCBgMABwQEAwQAAgYFAgUAAQcKAgYIAQkFBAMGAgQCBQUGBAUEAAUDAQMIBwgJAgoDAwgABQYBAgkEBwoCAwEACAcKBwkJCgkGCgYICQgFBggGBgcECAYIBQQKCgQHBgQGBwQFBwUJCQcJBwUFCgoFAwQAAgQDAgAGCgQFAQgHCQoFCQgKBQoECQMJBAICCAIGBgQKBgcIAQkKAgMHAwUFBAMIBwUGAQIDAAQDBQQBAggHCgYACQQFCgoGAAMJBwEIAgIFBwMEBQYIBAUEAwgCAAAKAAUBAgMHAAcCBgYJAAMCBQQGAQQABQMCBwYFAgoECQgDAgACAwABAQgJAgcICAgFCAoFAQgICAkDCQkEBQkCBAoJBQEABwgBAAAICgECBgYIBgoJAAoKAgoEBgEDBQoEAQgEAwQJCQYJCgoFBQcEBwoKCgUIBwYACAMCAwUKAgkKAgYDAwEABQEDCgkIAgcBBgQDBQQDBQICAAYBAwABBAQHAAEBBQMABAYBAgUCCAQHAAIABQYCAAQBBwMBAAIJCAcGCgUEAQYHAAMBAgEFBAIAAAQGBQMAAQIABAMFAwIBAwEABwYAAgQBAAQDAwUABQQCAAIABAEDBwgAAwQFBgEHBQMBAgYACggJBAgGCQcKAAMCBgEEBQcAAwUDBgECBwIFBAEFAAEHBAIABgIFAQMBBwoCBAgIAQAGBwgGAwoAAgEACgUKBQAJAQQGBQABAgMHAwAACAcAAgEKAgUCBwEJBAgFAwYBAAIJBwEEAAcFCAIGAwkDBgQBAAUCBAEDAwIABAMCAQAFBAIBBAYFAwMEAQYDAQAEBQIAAwIBAAQCAwgBAwcJBQYCBQEAAwQGAQMJCAQHBgUEAwgABQEHCQIGAgEABAUGAwAFAgYDBAEEBwkGBQgEAQYFCAkDBwICBAUDCAkGBwABAwUBBwcGAQIJAwIFBggEAQgJBAYHAAUAAwIBAwIFCQYBCAQHAQgFAAACBgcEAwQFCQAIBwEGAQACAwQCBQMAAQYABgkEAwUBBwAIAgIAAQkCAAEIBQEHBgAIAwQCCQUGAwcABwMFAQgEBgkCAwICCQEJBAcFBQcDAQYIBgQCBQcECAQJBgIICAMJAQYJAAEEBQgDBwIJBQgGAAcBBAIBAAAIBQcJBggBCQYFAAQHBwYJBAYHBQUICAMECQYHAwgJBAUJCAMBAgUIBgcJAAQCAAEDAgEDBggHBAAFCQECAAABAAAGAQQBBAICAQMFBAMFAgkDAgkFBQgFCQgDBgUEBAgFBwAHAwkHAwkGCAgCBgcICQMBBAcHBgIGCAEEAQIEAQcBBwcCBQUEAgkJAgkJBgEICAgDBAQBBwcHAgUHBAMHBwcHAAkICQIGCQkCBwIJAAYDBQkHCQADBAgGAgEFBQICBgQDAwEABAEBAAQCBQMBAwMGBQcHAwkECQMGBQMJCQYJCQkEBQQIBwcHBggGBgUFBwQGCQUIAgMJBQYEAgcIBAMIBQQIBwcIBwcJCQYHAAECBAMAAQcDBQYJBAIIBAkIBwMCBQIHCAYECQEACQYFCAcFBwYGBAQFBAMJAwkFCQkGCQQGCAUFAwQHCAcEBAMCBAUBBQAGBwUGCQgCBAMHAwMEAQUEAAYCBAECBQYDBwkBBAAJAwEICQkCCQAABgIHCAUDAQIDAAYDBgYEBwgBBwAEAQAGBwMEAAcAAgkCAQQFCAYCBgACAQMDBggCBAcBAAUJBwMJBwcDBQkGBAMDAAcFBAIJBAAICQYCBAcGCQAFAwQBBwkHCQcACAUGAQMHBgYFAQgIAwgICQICAQICCQcGCQUACQYECAUICQcHBwUECAQBBAYCBQIDAQQCBwADAwkFBQYCAgEIBwECAAQABAEABgMBAggGBQYFBQUDAgQEAAkDBwIHAAUHAgEBCQEHBwgDAgIGCQEIBAkIBQUHAwAAAQcABAQBAQgGBgYCBAQHAAAHCAMGCQYJCAQIBwUAAAkHAQAFAQMCAwUAAwYDAAACBgcAAAgHAAUGCQMICQEDBgMBAQYBBQcBBwgHAgUEBgYFCAQHBAcBCQQEAgIEBwgDBggBCQcECQUFCAkHCQMHBAYFBQQAAwACBgACBgABAwYHBgYHBgcDAQUFBAIBAAIFBwIFAQIEAAAEAQIABAQICQAFAwUHBAkDCAMAAwgHBQYJAAIEAQIDBQQDBwYFAQIICQYGBAUJBAUIBwcIBgYGBwcHBwQHCAkHBwkEBQUHCAYIBgkICQYFCQAAAQUGAwcEAQIICQAABQIGBAMBBAMGAQIABQYHAAMCBQEECAEIAQMDBAQEBgMFBwUAAAACAgYHAwkEBwMBAgAEBQcBAQUCBggJBQAAAQQCBAAHAQcBAgUGAQMABAICBQgHCQEDBgYACQgHAwUCAQQAAQMEBQYIAgcAAQADAgcGBQYFAAMEBQcBAgMCAwQDBQYCBAEEAwUBAwUCAQQCBgEAAgcEAQUGCQMIBwUEAwECAwYBBAYFAQYFAQIABAMABAIDCQQGBQcIBAEAAwIDBgEFAAECAAMCBQYBBAUABgIEAwECCAABAwkHBAYFBgIDAwQEBQAAAAgHBwAHAgMABQQGAgEFBAIEBQEAAwYFAQkIBwkHBAEDBgIGAAAIAQMDAQICBAcBBQQDBgUAAAABAQQHAwIAAwIABgUAAgIGBAMFAQkJBgQEAgcFBwMIAQUHCAIAAwYIAQIFBAcAAgYIAQUEBQQJAQAHAAMHCAgCBgMEBgcDAgUHBAADAgYFAQIFAwQDAgEAAwACAQIFAwIGAAMABAADBQYEAgEFBAQDAwECAgAIAQcGBAMCBgcCAQUGAAgIBgYBBAgHBQMIBAADAgAFAQQCAwEDBgYBBAUEBQADAQMEAgAFBwYIAAEGAAIDAgEDBAACBQIAAwMGAAgFBQQHAQEEAAYBAwIABAUFBAUCAAQBAwgIBwYHBAUFAwYEAgYHCAEFBAgHBAMIBQYFAwYDAgMEBwgIBAYFBQgHAwADBwMIBwgICAgDAgEBBQAHAgYBAAgBAQgGBQYEAgUEBQYHAggGBQIIBwEIBwYABAYGBggABQQABgMHAAUGCAYFCAcDBgcGAQIFAQEEBgMCBQUGBAADBwADAgYHAwIDBQUFBgEAAwIBBAIEBgUGAAABAQQFBggBAQIGBAgBBwACAAQDAwUBAAAGAAYCBAQGBgMFBgEAAgIABgQEAwUGAwIDBAUGBQIEBAIDBAUABQIEAAMBBgUEAAEDAgAGAgADBQQBBwAABgMEBQACAQQDBAMFAwIFBQQE\"},\"xbins\":{\"end\":55,\"size\":1,\"start\":0},\"type\":\"histogram\"},{\"histnorm\":\"probability density\",\"marker\":{\"color\":\"orange\"},\"name\":\"Valor predicho\",\"opacity\":0.5,\"x\":{\"dtype\":\"i1\",\"bdata\":\"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\"},\"xbins\":{\"end\":55,\"size\":1,\"start\":0},\"type\":\"histogram\"}],                        {\"template\":{\"data\":{\"barpolar\":[{\"marker\":{\"line\":{\"color\":\"white\",\"width\":0.5},\"pattern\":{\"fillmode\":\"overlay\",\"size\":10,\"solidity\":0.2}},\"type\":\"barpolar\"}],\"bar\":[{\"error_x\":{\"color\":\"#2a3f5f\"},\"error_y\":{\"color\":\"#2a3f5f\"},\"marker\":{\"line\":{\"color\":\"white\",\"width\":0.5},\"pattern\":{\"fillmode\":\"overlay\",\"size\":10,\"solidity\":0.2}},\"type\":\"bar\"}],\"carpet\":[{\"aaxis\":{\"endlinecolor\":\"#2a3f5f\",\"gridcolor\":\"#C8D4E3\",\"linecolor\":\"#C8D4E3\",\"minorgridcolor\":\"#C8D4E3\",\"startlinecolor\":\"#2a3f5f\"},\"baxis\":{\"endlinecolor\":\"#2a3f5f\",\"gridcolor\":\"#C8D4E3\",\"linecolor\":\"#C8D4E3\",\"minorgridcolor\":\"#C8D4E3\",\"startlinecolor\":\"#2a3f5f\"},\"type\":\"carpet\"}],\"choropleth\":[{\"colorbar\":{\"outlinewidth\":0,\"ticks\":\"\"},\"type\":\"choropleth\"}],\"contourcarpet\":[{\"colorbar\":{\"outlinewidth\":0,\"ticks\":\"\"},\"type\":\"contourcarpet\"}],\"contour\":[{\"colorbar\":{\"outlinewidth\":0,\"ticks\":\"\"},\"colorscale\":[[0.0,\"#0d0887\"],[0.1111111111111111,\"#46039f\"],[0.2222222222222222,\"#7201a8\"],[0.3333333333333333,\"#9c179e\"],[0.4444444444444444,\"#bd3786\"],[0.5555555555555556,\"#d8576b\"],[0.6666666666666666,\"#ed7953\"],[0.7777777777777778,\"#fb9f3a\"],[0.8888888888888888,\"#fdca26\"],[1.0,\"#f0f921\"]],\"type\":\"contour\"}],\"heatmap\":[{\"colorbar\":{\"outlinewidth\":0,\"ticks\":\"\"},\"colorscale\":[[0.0,\"#0d0887\"],[0.1111111111111111,\"#46039f\"],[0.2222222222222222,\"#7201a8\"],[0.3333333333333333,\"#9c179e\"],[0.4444444444444444,\"#bd3786\"],[0.5555555555555556,\"#d8576b\"],[0.6666666666666666,\"#ed7953\"],[0.7777777777777778,\"#fb9f3a\"],[0.8888888888888888,\"#fdca26\"],[1.0,\"#f0f921\"]],\"type\":\"heatmap\"}],\"histogram2dcontour\":[{\"colorbar\":{\"outlinewidth\":0,\"ticks\":\"\"},\"colorscale\":[[0.0,\"#0d0887\"],[0.1111111111111111,\"#46039f\"],[0.2222222222222222,\"#7201a8\"],[0.3333333333333333,\"#9c179e\"],[0.4444444444444444,\"#bd3786\"],[0.5555555555555556,\"#d8576b\"],[0.6666666666666666,\"#ed7953\"],[0.7777777777777778,\"#fb9f3a\"],[0.8888888888888888,\"#fdca26\"],[1.0,\"#f0f921\"]],\"type\":\"histogram2dcontour\"}],\"histogram2d\":[{\"colorbar\":{\"outlinewidth\":0,\"ticks\":\"\"},\"colorscale\":[[0.0,\"#0d0887\"],[0.1111111111111111,\"#46039f\"],[0.2222222222222222,\"#7201a8\"],[0.3333333333333333,\"#9c179e\"],[0.4444444444444444,\"#bd3786\"],[0.5555555555555556,\"#d8576b\"],[0.6666666666666666,\"#ed7953\"],[0.7777777777777778,\"#fb9f3a\"],[0.8888888888888888,\"#fdca26\"],[1.0,\"#f0f921\"]],\"type\":\"histogram2d\"}],\"histogram\":[{\"marker\":{\"pattern\":{\"fillmode\":\"overlay\",\"size\":10,\"solidity\":0.2}},\"type\":\"histogram\"}],\"mesh3d\":[{\"colorbar\":{\"outlinewidth\":0,\"ticks\":\"\"},\"type\":\"mesh3d\"}],\"parcoords\":[{\"line\":{\"colorbar\":{\"outlinewidth\":0,\"ticks\":\"\"}},\"type\":\"parcoords\"}],\"pie\":[{\"automargin\":true,\"type\":\"pie\"}],\"scatter3d\":[{\"line\":{\"colorbar\":{\"outlinewidth\":0,\"ticks\":\"\"}},\"marker\":{\"colorbar\":{\"outlinewidth\":0,\"ticks\":\"\"}},\"type\":\"scatter3d\"}],\"scattercarpet\":[{\"marker\":{\"colorbar\":{\"outlinewidth\":0,\"ticks\":\"\"}},\"type\":\"scattercarpet\"}],\"scattergeo\":[{\"marker\":{\"colorbar\":{\"outlinewidth\":0,\"ticks\":\"\"}},\"type\":\"scattergeo\"}],\"scattergl\":[{\"marker\":{\"colorbar\":{\"outlinewidth\":0,\"ticks\":\"\"}},\"type\":\"scattergl\"}],\"scattermapbox\":[{\"marker\":{\"colorbar\":{\"outlinewidth\":0,\"ticks\":\"\"}},\"type\":\"scattermapbox\"}],\"scattermap\":[{\"marker\":{\"colorbar\":{\"outlinewidth\":0,\"ticks\":\"\"}},\"type\":\"scattermap\"}],\"scatterpolargl\":[{\"marker\":{\"colorbar\":{\"outlinewidth\":0,\"ticks\":\"\"}},\"type\":\"scatterpolargl\"}],\"scatterpolar\":[{\"marker\":{\"colorbar\":{\"outlinewidth\":0,\"ticks\":\"\"}},\"type\":\"scatterpolar\"}],\"scatter\":[{\"fillpattern\":{\"fillmode\":\"overlay\",\"size\":10,\"solidity\":0.2},\"type\":\"scatter\"}],\"scatterternary\":[{\"marker\":{\"colorbar\":{\"outlinewidth\":0,\"ticks\":\"\"}},\"type\":\"scatterternary\"}],\"surface\":[{\"colorbar\":{\"outlinewidth\":0,\"ticks\":\"\"},\"colorscale\":[[0.0,\"#0d0887\"],[0.1111111111111111,\"#46039f\"],[0.2222222222222222,\"#7201a8\"],[0.3333333333333333,\"#9c179e\"],[0.4444444444444444,\"#bd3786\"],[0.5555555555555556,\"#d8576b\"],[0.6666666666666666,\"#ed7953\"],[0.7777777777777778,\"#fb9f3a\"],[0.8888888888888888,\"#fdca26\"],[1.0,\"#f0f921\"]],\"type\":\"surface\"}],\"table\":[{\"cells\":{\"fill\":{\"color\":\"#EBF0F8\"},\"line\":{\"color\":\"white\"}},\"header\":{\"fill\":{\"color\":\"#C8D4E3\"},\"line\":{\"color\":\"white\"}},\"type\":\"table\"}]},\"layout\":{\"annotationdefaults\":{\"arrowcolor\":\"#2a3f5f\",\"arrowhead\":0,\"arrowwidth\":1},\"autotypenumbers\":\"strict\",\"coloraxis\":{\"colorbar\":{\"outlinewidth\":0,\"ticks\":\"\"}},\"colorscale\":{\"diverging\":[[0,\"#8e0152\"],[0.1,\"#c51b7d\"],[0.2,\"#de77ae\"],[0.3,\"#f1b6da\"],[0.4,\"#fde0ef\"],[0.5,\"#f7f7f7\"],[0.6,\"#e6f5d0\"],[0.7,\"#b8e186\"],[0.8,\"#7fbc41\"],[0.9,\"#4d9221\"],[1,\"#276419\"]],\"sequential\":[[0.0,\"#0d0887\"],[0.1111111111111111,\"#46039f\"],[0.2222222222222222,\"#7201a8\"],[0.3333333333333333,\"#9c179e\"],[0.4444444444444444,\"#bd3786\"],[0.5555555555555556,\"#d8576b\"],[0.6666666666666666,\"#ed7953\"],[0.7777777777777778,\"#fb9f3a\"],[0.8888888888888888,\"#fdca26\"],[1.0,\"#f0f921\"]],\"sequentialminus\":[[0.0,\"#0d0887\"],[0.1111111111111111,\"#46039f\"],[0.2222222222222222,\"#7201a8\"],[0.3333333333333333,\"#9c179e\"],[0.4444444444444444,\"#bd3786\"],[0.5555555555555556,\"#d8576b\"],[0.6666666666666666,\"#ed7953\"],[0.7777777777777778,\"#fb9f3a\"],[0.8888888888888888,\"#fdca26\"],[1.0,\"#f0f921\"]]},\"colorway\":[\"#636efa\",\"#EF553B\",\"#00cc96\",\"#ab63fa\",\"#FFA15A\",\"#19d3f3\",\"#FF6692\",\"#B6E880\",\"#FF97FF\",\"#FECB52\"],\"font\":{\"color\":\"#2a3f5f\"},\"geo\":{\"bgcolor\":\"white\",\"lakecolor\":\"white\",\"landcolor\":\"white\",\"showlakes\":true,\"showland\":true,\"subunitcolor\":\"#C8D4E3\"},\"hoverlabel\":{\"align\":\"left\"},\"hovermode\":\"closest\",\"mapbox\":{\"style\":\"light\"},\"paper_bgcolor\":\"white\",\"plot_bgcolor\":\"white\",\"polar\":{\"angularaxis\":{\"gridcolor\":\"#EBF0F8\",\"linecolor\":\"#EBF0F8\",\"ticks\":\"\"},\"bgcolor\":\"white\",\"radialaxis\":{\"gridcolor\":\"#EBF0F8\",\"linecolor\":\"#EBF0F8\",\"ticks\":\"\"}},\"scene\":{\"xaxis\":{\"backgroundcolor\":\"white\",\"gridcolor\":\"#DFE8F3\",\"gridwidth\":2,\"linecolor\":\"#EBF0F8\",\"showbackground\":true,\"ticks\":\"\",\"zerolinecolor\":\"#EBF0F8\"},\"yaxis\":{\"backgroundcolor\":\"white\",\"gridcolor\":\"#DFE8F3\",\"gridwidth\":2,\"linecolor\":\"#EBF0F8\",\"showbackground\":true,\"ticks\":\"\",\"zerolinecolor\":\"#EBF0F8\"},\"zaxis\":{\"backgroundcolor\":\"white\",\"gridcolor\":\"#DFE8F3\",\"gridwidth\":2,\"linecolor\":\"#EBF0F8\",\"showbackground\":true,\"ticks\":\"\",\"zerolinecolor\":\"#EBF0F8\"}},\"shapedefaults\":{\"line\":{\"color\":\"#2a3f5f\"}},\"ternary\":{\"aaxis\":{\"gridcolor\":\"#DFE8F3\",\"linecolor\":\"#A2B1C6\",\"ticks\":\"\"},\"baxis\":{\"gridcolor\":\"#DFE8F3\",\"linecolor\":\"#A2B1C6\",\"ticks\":\"\"},\"bgcolor\":\"white\",\"caxis\":{\"gridcolor\":\"#DFE8F3\",\"linecolor\":\"#A2B1C6\",\"ticks\":\"\"}},\"title\":{\"x\":0.05},\"xaxis\":{\"automargin\":true,\"gridcolor\":\"#EBF0F8\",\"linecolor\":\"#EBF0F8\",\"ticks\":\"\",\"title\":{\"standoff\":15},\"zerolinecolor\":\"#EBF0F8\",\"zerolinewidth\":2},\"yaxis\":{\"automargin\":true,\"gridcolor\":\"#EBF0F8\",\"linecolor\":\"#EBF0F8\",\"ticks\":\"\",\"title\":{\"standoff\":15},\"zerolinecolor\":\"#EBF0F8\",\"zerolinewidth\":2}}},\"title\":{\"text\":\"Distribuci\\u00f3n real vs predicha en df_val (Negative Binomial)\"},\"xaxis\":{\"title\":{\"text\":\"days_to_trend\"}},\"yaxis\":{\"title\":{\"text\":\"Densidad\"}},\"barmode\":\"overlay\",\"bargap\":0.1,\"legend\":{\"title\":{\"text\":\"\"}}},                        {\"responsive\": true}                    ).then(function(){\n",
       "                            \n",
       "var gd = document.getElementById('97a09ec7-e36f-4768-be89-f9936985dbf3');\n",
       "var x = new MutationObserver(function (mutations, observer) {{\n",
       "        var display = window.getComputedStyle(gd).display;\n",
       "        if (!display || display === 'none') {{\n",
       "            console.log([gd, 'removed!']);\n",
       "            Plotly.purge(gd);\n",
       "            observer.disconnect();\n",
       "        }}\n",
       "}});\n",
       "\n",
       "// Listen for the removal of the full notebook cells\n",
       "var notebookContainer = gd.closest('#notebook-container');\n",
       "if (notebookContainer) {{\n",
       "    x.observe(notebookContainer, {childList: true});\n",
       "}}\n",
       "\n",
       "// Listen for the clearing of the current output cell\n",
       "var outputEl = gd.closest('.output');\n",
       "if (outputEl) {{\n",
       "    x.observe(outputEl, {childList: true});\n",
       "}}\n",
       "\n",
       "                        })                };            </script>        </div>"
      ]
     },
     "metadata": {},
     "output_type": "display_data"
    }
   ],
   "source": [
    "bins = np.arange(0, max(y_val.max(), y_pred_val.max()) + 2)\n",
    "\n",
    "fig = go.Figure()\n",
    "\n",
    "fig.add_trace(go.Histogram(\n",
    "    x=y_val,\n",
    "    xbins=dict(start=bins.min(), end=bins.max(), size=1),\n",
    "    name='Valor real',\n",
    "    opacity=0.5,\n",
    "    histnorm='probability density',\n",
    "))\n",
    "\n",
    "fig.add_trace(go.Histogram(\n",
    "    x=y_pred_val,\n",
    "    xbins=dict(start=bins.min(), end=bins.max(), size=1),\n",
    "    name='Valor predicho',\n",
    "    opacity=0.5,\n",
    "    histnorm='probability density',\n",
    "    marker_color='orange'\n",
    "))\n",
    "\n",
    "fig.update_layout(\n",
    "    title=f\"Distribución real vs predicha en df_val ({best_name})\",\n",
    "    xaxis_title=\"days_to_trend\",\n",
    "    yaxis_title=\"Densidad\",\n",
    "    barmode='overlay',\n",
    "    bargap=0.1,\n",
    "    template='plotly_white',\n",
    "    legend=dict(title=''),\n",
    ")\n",
    "\n",
    "fig.show()"
   ]
  },
  {
   "cell_type": "code",
   "execution_count": 25,
   "id": "3ba55087",
   "metadata": {},
   "outputs": [],
   "source": [
    "y_test = df_test['days_to_trend'].values\n",
    "match best_name:\n",
    "    case 'Poisson':\n",
    "        y_pred_test = poisson.rvs(mu=lambda_poisson, size=len(y_val))\n",
    "    case 'Geometric':\n",
    "        y_pred_test = geom.rvs(p=p_geom, size=len(y_val))\n",
    "    case 'Negative Binomial':\n",
    "        y_pred_test = nbinom.rvs(n=r, p=p_nbinom, size=len(y_val))\n",
    "    case 'Discretized Normal':\n",
    "        y_pred_test = np.round(norm.rvs(loc=mu_norm, scale=sigma_norm, size=len(y_val))).astype(int)\n",
    "    case 'Binomial':\n",
    "        y_pred_test = binom.rvs(n=n_binom, p=p_binom, size=len(y_val))\n",
    "    case 'Zipf':\n",
    "        y_pred_test = zipf.rvs(a=a_zipf, size=len(y_val))\n",
    "        y_pred_test = np.clip(y_pred_test, 0, np.max(y_train))\n",
    "    case 'Log-Series':\n",
    "        y_pred_test = logser.rvs(p=p_ls, size=len(y_val))\n",
    "    case 'Discretized Exponential':\n",
    "        y_pred_test = np.round(expon.rvs(scale=1/lambda_exp, size=len(y_val))).astype(int)\n",
    "    case 'Discretized Gamma':\n",
    "        y_pred_test = np.round(gamma.rvs(a=alpha_gamma, scale=1/beta_gamma, size=len(y_val))).astype(int)\n",
    "    case 'Discretized Log-Normal':\n",
    "        y_pred_test = np.round(lognorm.rvs(s=shape_ln, scale=scale_ln, size=len(y_val))).astype(int)"
   ]
  },
  {
   "cell_type": "code",
   "execution_count": 26,
   "id": "b02c7dd9",
   "metadata": {},
   "outputs": [
    {
     "data": {
      "text/html": [
       "<div>            <script src=\"https://cdnjs.cloudflare.com/ajax/libs/mathjax/2.7.5/MathJax.js?config=TeX-AMS-MML_SVG\"></script><script type=\"text/javascript\">if (window.MathJax && window.MathJax.Hub && window.MathJax.Hub.Config) {window.MathJax.Hub.Config({SVG: {font: \"STIX-Web\"}});}</script>                <script type=\"text/javascript\">window.PlotlyConfig = {MathJaxConfig: 'local'};</script>\n",
       "        <script charset=\"utf-8\" src=\"https://cdn.plot.ly/plotly-3.0.1.min.js\"></script>                <div id=\"fa0d4dd7-085e-4870-bf16-1042ca5ae749\" class=\"plotly-graph-div\" style=\"height:525px; width:100%;\"></div>            <script type=\"text/javascript\">                window.PLOTLYENV=window.PLOTLYENV || {};                                if (document.getElementById(\"fa0d4dd7-085e-4870-bf16-1042ca5ae749\")) {                    Plotly.newPlot(                        \"fa0d4dd7-085e-4870-bf16-1042ca5ae749\",                        [{\"histnorm\":\"probability density\",\"name\":\"Valor real\",\"opacity\":0.5,\"x\":{\"dtype\":\"i1\",\"bdata\":\"AgcFBQMGBQABAAADAQIEAAEAAQIDBggABgQHAQUDAgUIAAMCBAEGAAUABwgEAgAGBQMBBQECAwAIBwYBBQQAAgMBBwMEAgABAAUGAAYDAgUHBAgBAQQGAwUAAgcIAQIAAQABAAIECAUGAwcBAAEAAwcEBgECAAgFAQUDBAYDAAIAAgABAQIAAwADAQUIBAcCBgAFBwEAAgQEAgMDAAIBBQEDBAYDAQAAAAABAAMEAgIBAAgFBgMHBQQDBwEGCAACAAEAAQACAwAGAwUABQEBBAICBAEEAAIBAAIAAQIDCAcHCAgFBwYGBgQHBQQIBgABAgMBBgMGBAIBBgIDAAABBQIAAgAGBQIABQEDBAQGAwAFAQQDBgUGAgcCCAYFAwQBCAMGBAYHBwYIBwUEAwUEBQMAAgEEAQIAAAEFBgQDAgEFAwIABAEBAQABAAAAAAEIBwUGBAIHAAgGBQACAAEDBAQDAwEBBQYCAwAEAQEFAgEDAgYDCAYDBAcEAAEABQAFBAEIAQcGAwIEBQAABwYHBggIBgYHAAEHAQIIBgEAAwEEBggHAgYDAwgHBAUGAAIGBQUEAAQFAwQCCAAHCAUEAAQFBgUBAwABAwgCAQcCBgIBBAcIBQYEBgcIBQcDBAEABgIIBQMFBgQBAgIGBQQFAwAFBwYBAAYABAIIAgMFBQgCBAcABwIDBAYBBgYIBgcCAAQABgQFAQMGAAQHAgUIAQMBBgUCBAADBwgBBAACBAIIAwgCAAcHBgMHBgQFBgEGAAUBAAMEAQAFAQcIAgcBBwUGBgABBggIAAQCBQQDAwEAAwIAAgQDAQMABwgDAAgGAQECBAUCCAUIAwQEBwcHBAYIAwYFBwUGBQgGBAADAQMABgQCAQUBAgQIBgcFAwAFAwQBBwYCCAEHAwUCBgQDBgQBBgUAAAMCBAEDBQIABgcIAQAFBgAEBgEBBAcFAgACAwYCCAEEAAIABwQAAQYGBQMCBQEAAgQDBgUCBAEHAAADAAQBBgQBBQYAAwICAAIIAwEHBAYFBgAFAgEEAwIBAAIHBQgBAwQGBgAEAQUCAwcCBAQFBQIGAwMHAAUEAQMHAAIGAQMCAAQFBQUEBgYEBgUFBQcDBwUDBQMDBwYDBwMHBwQHBgQFAwQDAAMEBQcCBwQGAgQCBQMGBQQHAwYHAwUGBgQBAgUHAgQAAwQDBQUDAgIABQEBAAEAAAUEAwIFAgADBAEAAAUEBwUEBwYHBwQHBwQEBgcDAgIGBQQCBgUDBQcEBQUFBgMCBQcHBQMDBwUFBgUGAgYCBAMEBQcBBwUDAQIAAwEGBQQAAAEGAwEFBAIHAAIFAgMABAEFAwEBAwICBQAEBQUABAMAAQADAgABAgcBBwEFBQMCBwUHAgMCBAQFBwIFBgUGAgQEAwMFBQcFAwcGBQMABQEEAAQEAQUGAwQHBQAFBQUHAgYFBQIHBgIGBAQDBwcEBgUFBQEDAQABAAIBBgUDBQQHBQYDBwUGBwQHAgcDAAUGAQQBAAADBgQBBQIHAgAHAQMBAwIAAgMAAQUEBgcHBwQDBQYGAgYHBAAFAQMBAwUBBQcABAICAwYEBAUAAQMCBQIEBgEHAAAEAgEFBgcDBgIHAwIBBAUHAAABAwcCBgQFBwECAQUABgMFBAQBBQMBAAACBgIEAwMFBQYHBwYBAAMCBAUEAgYDAQcAAAAGAgYEAQUCAwEAAQcGBAAFAQIDAgEDBQYEBwIAAwQGAQAEAwICAAUHAAcHAQIFAQEDBgICBgYHAAECBQADAwQHAAcEAQUCBgMFBgcBAgMBAAEDAAIAAgEGAwUABwIEBAEDBgUFAgIDBwUEBAUHAwADBgABAgECAAMFBAUCAwQFAQABAgMCBQcGAwQCAQMEAAABAgABBAMCAAcBAAYDBQQCAwEEBAICAAYDAQAGBwIAAQUFAwQBBwUCBgEEAgUCAwMEAQAABwYEAgUBAAQBAgUHBgUABAYBAwIGBQIHAQUEAwAGAwABAgADAQcFAAUABgECBwcEAAMGBQMGBgECBAUFBQYHBQMGAwIEBwMHBQcCBAAFAgQFAwcBAQYGAgQDBQEAAAIGBwQGAQUCAAEBAAcDBAQABAECAwAABwECBgUDBgUFBwcFAAMDBQcABAIAAQYHBAAHBQQFAQIGBgABBgcFAAUHAAEFAgIAAgQHAAUBBAMHBgcDBwIGBQECAQYAAAUEBQEEAgcCAgEABgUEBAAHBwIDBgUHBQcEAAEDAQECBQcFAwACAwAEAQUDAQECAgUCAQYCAAQFAwcDAQUCBgQEAAMBBwcFBgUCAgQDAQYGBwIDBQYHBQcGBAcHBgUHBwIEAwYFBgEFBwIABAIHBgEDBAUFAwcGAQQCAAcBAgADBQYEAAIGBQQBAwMBBwUABAIGAgABAAUGBwIHAQQDBQYHAwECBQQABgMEAQcCBQADAgEEAwABBQYCBAIBBQAGAwMABwUGBAEDAAEHBAIFBgIFBgABAwQHAgABBwUGAwQDAQIFBAcABgUFAgMGBAEABgADBQQCBwEBAAEGAgcDAwEDBQIBAAUBBAQAAwcCAAUBBAYGBQUEBAYAAQAGAQUEAgMAAQACBQADBAQCBgEDBAYEAQMBAQADAQIEBQAFAgMCAQUBAQQDAAIAAQABAQYFAwIABAIDAQUABgQAAgQBAAMFBgMBAgACAQQBAAQDBQECAAYFBAAEAwYFAAEBAgEABQQGAwIAAQIBAwAAAQUFAQQGBQMEAwYGBAQFAwYDAwQFAgACAwUGBAICAAEAAQUCBgQDAgMAAQQBAgYABQMFBAIGAwABAAEEAwIBAAMCAgEFAAADBgQBBgUEAwEDBgQFAAIDBQEABAQGAwEDBQEEAAACAgABAQYDAAUCBAAAAQIBAQAEAwUCAAQDAAYCAQEABQIBAwQDBQEBBAYCBAEDAgUABgUDBgQGAwQEBQMFBAQEBQYDBAUEBgQGAwUEAQQCBQMDAwQAAAUGBgQEAAIGBgYEBAIEBgABBAQBBAACBAUBAwYDAQECBgIFAwYCBQUCBQYGBQYAAQMCBgYEAgEDBgAFAQQBAQMGAQIBAQUBAgUEBQEGAwQDBgQFAAQEBQECBgQAAQABAgMEAAIBAwIAAwEFAwABAwQGAgIEAQUAAAUGAQQCAwIBAAAGBQQBAwIAAQMGAQQFAgADBQAGAwQCAQUAAAIBAAECBAYDBQEDAAABAgUDAAQEAgEFAQYFAgEEAwYAAQYFAwIEBAACAwYFAQECAAEAAgABAQADAgEABQQGAgMEBQEGAQIGAAAEBQIFAQAEAwMCBQEAAgEAAwUGBAQAAgAEAwIFAAYEAwEFBAMFBAMGAgYCBQEEBAYCAwMDBAADBgEFAQABBgIBAgUGAgMFAAQCBgAFBAEDAgABBgUEAwMFBAYBAgQBBQACAQMDAAQFBAIEAgQBBQYDAgUAAwQAAQEDAAIEBAMFBgIEBgEAAgQBBQMGAwABAQABBAMEBgIFAgQFAwYFBAEAAwUFAwQDAQYABAEBAwEBAgUCBgQCAgAFBgYGAwADBQYEAgIBAAAFBQUCBQYFAgYEAgEGAAMBAwYEBAMBBAUDAAQGAwECBAYBAAQFAwIFAAIBBgQEBQABAQMFAAICAwQBBgMAAwQGAgUEAAQGAwUBBgYGBQYGBgYABAAFAgMDBQMAAQEBBAEAAwMBAAMEAgICBAAFBgQAAwMEAgUBBgEGBAMFAQIBAgAGAAQFBgMCBAAGAgQAAwECBAUAAQUBBgMEAAAEAQIGBQAEBQIGAwEDBgQCBgYBBQYBAgAEAwUCBQIEBAQFAQMDBgMBAgQFAQIEBQAAAgYGBAEDAgQFBgMEBgUDBgIBBAAFAQMCBAUEAQEAAAIDBQADAwADBAMCAQEBAAICAAABBQMAAgUEAAMBAQMCBQQEBQECAAAEAQEDAwIEAwABBQABAAIDBQIEAgMAAQMBAQAAAgMEBQEBAAMEBQIBAQUEAgMAAgMFBAEAAwACBAEFBAIBBAMFAgEAAgEABAUDBQEEAAUBBQIDAgQDAQQDAQIABAUDAAEAAwUBAAMEAgEEAwAFAgADAQUCBAIDBQQAAgMBBQAEAAEBBQQCBQMAAQAEAAUBAwICAAEAAQUBBAEDAAIAAQEABAICAwAFBQMDAwEFBAABAwABAgUDBAMFBQQDBAECAAMBAAUEAwACAgEAAQIAAQIABAMABQQCBAIBAQQAAQMDBAIFBAUDAgEABQUBAgACAwAABAECAAQABQEDAwAEAwUCAQMCAAEAAQEBAQEBAAEBAQABAAMCAAMCAQUEAwEABAICAwQFAwQFAAQBAgMFAQACAQUBAgMDAgIDAQIEAgMEBAMBAgMDAwUDAwMEAwMEAgIEBAUFBQUFBQQFBQUEBAUFBQUFAgMDAwUEBAUAAQEAAwQAAgUBAAQBAwIFAAEDBQICBAMFAAAABAUDAgAEBQMBAAIBBAEFAwMDAgQDAQADAAEEAAQDBQQCBQUAAgEAAwMDAQUAAQIEBQMBAgAEAgQDAQQCAwAFBQMDBQIEAQQAAAECBQAFBAEAAwIFAQMBBAAFAwABAgAFBAICAQUEAwAEBQAEAQMDAwUFAQICBAUDBAMFBQUEBAQFBAQFAwABAgUFBAQBBQMAAgQAAwUFAAADAQECBAUBAgICBAMDAgUCAQEFBAAABQAFBAEFBAEBAAQFAgMBBAUDAAAEBQUFAwMDBQQEBQQFAwIDBAUAAAEBAQQCAgMAAwAEAQAABAAEBQMCAQMFBQECAAECAwACAAQDAQADAAEBAAQCAgUFAQMEAAUEAQAABQMBAwIBAQIEBAADAAIEBAMCAQEDAQECAAAABAECAgEDBAQAAwAAAgADAgQBAQADBAIAAAMCBAIBAAACAQEABAMCAAMCAQAEAwEAAgEDAAQAAgECAwACBAAAAgQDAQECAgQDAQAEAAIDAQIDAQQEAAIDBAEBAgQDAQMAAgQAAwIBAgAAAgMBAAEDBAIDAAIBAQQAAgMAAgEEAQQEAgQAAgIDAwABAgQDAwMCAQQEAwIDBAECAgIEAAQEBAQCAgECAgAAAAMCAQICAQMCBAQCBAMDBAECAQQEBAIDBAQBBAACAwIAAQABAgQBAwACAQAEAgAEAwMBAAIBBAEDAgAEAAEEBAIEAAIDAAEABAICAAMEAQMCAgAEAQAEAAECBAEAAgIAAQQCAQIAAwMCBAADBAIBAAMBAgMCAwIEAgQEAwQCBAQBAgMBBAMBAgMEAQACBAMAAQIDAQAEAgMBAQQEBAIDBAMEAgQEBAQEAgQCAQMCAwMABAQAAwMEAQIEAwMEAwQCBAQCBAIEAAIEAAMBBAIBBAMDAwECAAQAAgEEAAMCAQIBAAABAAIBAwQEBAIDAgIEAgQCAgQCAwQEAgADAQIEBAMABAIDAQIEBAQABAECBAIBBAIDAgEDAgQCBAMBAwIEAgIDAwIEBAQCBAQEAAIDBAEABAEEAwACAwIEAQQCAQADAQIAAAEAAgQEBAMEAAECBAEDAAMCAQIBAAMEBAEEAAMCAwMAAgQCBAEBAQAAAgEAAQICAAEDAQACAAECAAMEBAMAAgMDAQMCBAICBAAEAAIEAAEEAQEDAwACAAQDAwECBAACAQADBAIDAgQDAgAAAwQDBAQCAAIBBAMDAAEDAQIAAwAAAwMEAQIEBAECBAICBAIDAwAEAAQABAEEAgMCAwAEAwMBAQECBAAAAgAEBAIAAQECBAQDAAMCAAACBAQBAwMCAAMEBAQDAwMEBAADAQICAQMEAgEAAwAAAwIEAQQAAQIDAgABAQMCBAAABAMCAAEDBAACAQMCBAQCAgIDAgIBAQMEAwIBAgMBBAIEAgIDAgEEBAICAAQDBAQEAgEDAQQCAwICBAIEAwIDAwMCBAQDBAECAwMEBAIEAAADAgQAAgIDAQMAAwECAgQAAAAABAQCAwACAAQCAwMCAwQDAQAAAwQDAgIABAQCAQAEAQACAwIDAAMABAADAgMEBAAEAQEDAgQAAwIBBAQAAAQEBAMEAwEAAgIDBAEDBAABAgIEAgMAAAEAAAQDAwIABAIAAAQBBAMBAgQAAwECBAABAQADAgABAAMEAgIABAMCAAQDAQACBAMCAwEEBAABAwACBAACAAACAQMEBAQAAwEEAgIAAQQABAECAwQAAQMEBAECAgMAAAQEAwQEAgIEAAIBAwMEBAIEBAMEAgQBAgIDBAIDAgMBBAEEAwMEAQMBBAMBAgIAAgQEBAIDAAIDAgEEAAQAAwQCAwIBAAIAAwECBAIBAwMAAQIDAAMAAQICAAMBAwECAAIAAQECAwECAwABAgMBAgMBAwIAAwIAAwMBAgIBAgABAwIDAQMBAgMCAwMDAwEBAgIDAgIDAQECAQAAAAEDAgECAAMCAAMBAwECAAIAAQMBAAIDAQACAwEBAAMCAAIBAwMBAgEDAgAAAwEBAQICAgIAAQEDAgIBAQABAgEAAAMDAwMCAQMAAQMDAgMBAwMCAwABAgMAAAMBAwEBAwACAAACAQAAAgMAAQABAAABAAIBAAAAAQABAwIBAgADAwABAgABAwMCAAIDAQADAAADAgMAAgIBAQMDAgIBAgMDAAEBAAICAAMCAAMBAgABAgMAAAEAAAIAAQEDAwIDAQIAAwIAAwIDAwMBAQIDAgAAAwIAAQEBAAIBAwECAwACAgIDAAACAQMDAAMDAwEAAQACAgMBAwIAAQIDAgMBAwEAAgEDAAIBAQACAwMCAQABAwMCAgEAAwMBAgEAAwIDAQEAAgADAAECAgEAAQMCAQMDAgAAAQIDAAIDAAMBAAIAAgEAAQEBAgMBAAIBAwIBAQMBAAAAAQIAAQMDAQAAAQMAAgMDAwMBAgMDAAICAwACAgEDAAIBAAEDAgIDAgEDAAADAAADAwIAAQMCAwIAAQABAgMAAQIAAQIDAwMDAwMAAAICAAACAQMDAwIAAwICAgIDAgMDAwMBAAIAAAMCAgMBAQADAgACAwEDAwMAAAEBAAECAwMDAQEAAAIBAwEAAwIDAwMBAAECAAIAAQEAAQEAAQMAAwICAAIBAwIAAQECAQMAAAMDAQMCAwADAwECAgIAAwEAAwEBAQIDAAMCAAEBAwIDAgMAAwACAAIBAwABAwAAAgEBAAACAgMBAAMCAAIDAQMCAAEBAwIAAgEAAgEBAgIBAgIBAQICAQECAgIAAgICAQIAAgEAAgACAQACAAICAAIAAAIBAQIAAAEBAQEAAAACAQACAgICAgABAgIAAQICAQACAQIAAgACAQAAAAECAgEAAAIAAAICAgEBAAIBAgIBAAIBAgEAAgIAAQACAQIAAgECAAIBAgECAgABAAIBAgEAAgABAgAAAQIAAQACAQACAQECAQACAgICAgIBAgIBAgICAgECAQICAgECAgECAgECAgEBAQIBAgICAAIBAQACAgIBAQABAgIAAgEAAQEAAAIBAAABAgECAAIBAAIAAQABAgICAQICAAACAAEAAAAAAQECAgEAAgICAAEAAAIAAQECAgEAAQIBAAECAAICAQEAAQIBAgACAQIBAQACAQIBAAIAAQEAAgICAAABAAIBAQACAAICAQIAAgEAAgEBAAIAAQIAAQAAAAIAAQABAgIBAgEBAgACAQICAgEAAgEAAQECAgICAAABAAEBAAACAAECAQIBAAIAAQACAgACAAAAAgABAgABAQIAAQIAAgEAAQIAAQECAAABAQIAAAICAAICAQICAgICAgICAQACAgEBAgECAgAAAQIAAAIBAQEAAAIAAAEBAAIBAgEAAgIBAgEAAAAAAgEBAAIAAAECAgEAAAECAAABAQIBAAIAAgECAQICAQIAAQABAgABAgACAQIAAQAAAAIBAAACAAIAAQABAQIBAAICAAACAAICAgECAgECAQICAgIBAgAAAAEAAgECAgEBAQABAgECAAECAAIAAQECAQABAgIAAQEBAAIAAAEAAgEAAgEAAAAAAgIBAgECAgIBAAIBAQICAAEAAAIBAQACAgAAAgACAAEAAgEAAQICAAECAAICAAIAAQABAgAAAAIBAQECAgIBAAEBAgICAgEBAgIAAgEBAgECAgICAQEBAAAAAQEBAAAAAQAAAQEBAQEBAQEBAAAAAAEBAQEBAAABAAEAAAEBAAABAQABAQABAAEAAAABAQEBAAEBAQAAAAEBAAEBAAABAAEAAQEAAAAAAQEBAAEAAQEAAQEAAQABAQEAAAEAAQABAQABAAEBAAABAAEAAQABAAEAAQEAAQAAAQABAAEBAAABAAEAAAABAAEAAAEBAQEAAQABAQABAQABAQAAAQABAAEAAQABAAEAAAABAQABAAABAQAAAQABAQAAAAABAQEBAQEBAQAAAAEAAQEBAQEBAAABAQABAQABAQAAAQABAQAAAAEBAAABAAEBAQEAAQABAQEBAQEBAQEBAQABAAABAQAAAAEBAQAAAQABAQEAAQABAAEAAQABAAABAQEAAAEBAAEBAQEAAAEBAQEAAQABAAEBAQEBAAABAAABAQABAQAAAQEAAAEBAAABAQABAQEBAAABAAAAAQEAAQABAAEBAAEBAAEBAAEAAAEBAAABAQEBAAABAAEAAAEBAAABAQABAAAAAQABAQAAAQEAAQABAAEAAAABAAEAAQABAQABAAABAQEBAQEAAQAAAQAAAAEAAQABAQAAAQABAQEAAAAAAQABAQAAAQEAAQABAQAAAAABAAEBAQABAAEBAQABAAEAAAAAAAAAAAAAAAAAAAAAAAAAAAAAAAAAAAAAAAAAAAAAAAAAAAAAAAAAAAAAAAAAAAAAAAAAAAAAAAAAAAAAAAAAAAAAAAAAAAAAAAAAAAAAAAAAAAAAAAAAAAAAAAAAAAAAAAAAAAAAAAAAAAAAAAAAAAAAAAAAAAAAAAAAAAAAAAAAAAAAAAAAAAAAAAAAAAAAAAAAAAAAAAAAAAAAAAAAAAAAAAAAAAAAAA==\"},\"xbins\":{\"end\":55,\"size\":1,\"start\":0},\"type\":\"histogram\"},{\"histnorm\":\"probability density\",\"marker\":{\"color\":\"orange\"},\"name\":\"Valor predicho\",\"opacity\":0.5,\"x\":{\"dtype\":\"i1\",\"bdata\":\"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\"},\"xbins\":{\"end\":55,\"size\":1,\"start\":0},\"type\":\"histogram\"}],                        {\"template\":{\"data\":{\"barpolar\":[{\"marker\":{\"line\":{\"color\":\"white\",\"width\":0.5},\"pattern\":{\"fillmode\":\"overlay\",\"size\":10,\"solidity\":0.2}},\"type\":\"barpolar\"}],\"bar\":[{\"error_x\":{\"color\":\"#2a3f5f\"},\"error_y\":{\"color\":\"#2a3f5f\"},\"marker\":{\"line\":{\"color\":\"white\",\"width\":0.5},\"pattern\":{\"fillmode\":\"overlay\",\"size\":10,\"solidity\":0.2}},\"type\":\"bar\"}],\"carpet\":[{\"aaxis\":{\"endlinecolor\":\"#2a3f5f\",\"gridcolor\":\"#C8D4E3\",\"linecolor\":\"#C8D4E3\",\"minorgridcolor\":\"#C8D4E3\",\"startlinecolor\":\"#2a3f5f\"},\"baxis\":{\"endlinecolor\":\"#2a3f5f\",\"gridcolor\":\"#C8D4E3\",\"linecolor\":\"#C8D4E3\",\"minorgridcolor\":\"#C8D4E3\",\"startlinecolor\":\"#2a3f5f\"},\"type\":\"carpet\"}],\"choropleth\":[{\"colorbar\":{\"outlinewidth\":0,\"ticks\":\"\"},\"type\":\"choropleth\"}],\"contourcarpet\":[{\"colorbar\":{\"outlinewidth\":0,\"ticks\":\"\"},\"type\":\"contourcarpet\"}],\"contour\":[{\"colorbar\":{\"outlinewidth\":0,\"ticks\":\"\"},\"colorscale\":[[0.0,\"#0d0887\"],[0.1111111111111111,\"#46039f\"],[0.2222222222222222,\"#7201a8\"],[0.3333333333333333,\"#9c179e\"],[0.4444444444444444,\"#bd3786\"],[0.5555555555555556,\"#d8576b\"],[0.6666666666666666,\"#ed7953\"],[0.7777777777777778,\"#fb9f3a\"],[0.8888888888888888,\"#fdca26\"],[1.0,\"#f0f921\"]],\"type\":\"contour\"}],\"heatmap\":[{\"colorbar\":{\"outlinewidth\":0,\"ticks\":\"\"},\"colorscale\":[[0.0,\"#0d0887\"],[0.1111111111111111,\"#46039f\"],[0.2222222222222222,\"#7201a8\"],[0.3333333333333333,\"#9c179e\"],[0.4444444444444444,\"#bd3786\"],[0.5555555555555556,\"#d8576b\"],[0.6666666666666666,\"#ed7953\"],[0.7777777777777778,\"#fb9f3a\"],[0.8888888888888888,\"#fdca26\"],[1.0,\"#f0f921\"]],\"type\":\"heatmap\"}],\"histogram2dcontour\":[{\"colorbar\":{\"outlinewidth\":0,\"ticks\":\"\"},\"colorscale\":[[0.0,\"#0d0887\"],[0.1111111111111111,\"#46039f\"],[0.2222222222222222,\"#7201a8\"],[0.3333333333333333,\"#9c179e\"],[0.4444444444444444,\"#bd3786\"],[0.5555555555555556,\"#d8576b\"],[0.6666666666666666,\"#ed7953\"],[0.7777777777777778,\"#fb9f3a\"],[0.8888888888888888,\"#fdca26\"],[1.0,\"#f0f921\"]],\"type\":\"histogram2dcontour\"}],\"histogram2d\":[{\"colorbar\":{\"outlinewidth\":0,\"ticks\":\"\"},\"colorscale\":[[0.0,\"#0d0887\"],[0.1111111111111111,\"#46039f\"],[0.2222222222222222,\"#7201a8\"],[0.3333333333333333,\"#9c179e\"],[0.4444444444444444,\"#bd3786\"],[0.5555555555555556,\"#d8576b\"],[0.6666666666666666,\"#ed7953\"],[0.7777777777777778,\"#fb9f3a\"],[0.8888888888888888,\"#fdca26\"],[1.0,\"#f0f921\"]],\"type\":\"histogram2d\"}],\"histogram\":[{\"marker\":{\"pattern\":{\"fillmode\":\"overlay\",\"size\":10,\"solidity\":0.2}},\"type\":\"histogram\"}],\"mesh3d\":[{\"colorbar\":{\"outlinewidth\":0,\"ticks\":\"\"},\"type\":\"mesh3d\"}],\"parcoords\":[{\"line\":{\"colorbar\":{\"outlinewidth\":0,\"ticks\":\"\"}},\"type\":\"parcoords\"}],\"pie\":[{\"automargin\":true,\"type\":\"pie\"}],\"scatter3d\":[{\"line\":{\"colorbar\":{\"outlinewidth\":0,\"ticks\":\"\"}},\"marker\":{\"colorbar\":{\"outlinewidth\":0,\"ticks\":\"\"}},\"type\":\"scatter3d\"}],\"scattercarpet\":[{\"marker\":{\"colorbar\":{\"outlinewidth\":0,\"ticks\":\"\"}},\"type\":\"scattercarpet\"}],\"scattergeo\":[{\"marker\":{\"colorbar\":{\"outlinewidth\":0,\"ticks\":\"\"}},\"type\":\"scattergeo\"}],\"scattergl\":[{\"marker\":{\"colorbar\":{\"outlinewidth\":0,\"ticks\":\"\"}},\"type\":\"scattergl\"}],\"scattermapbox\":[{\"marker\":{\"colorbar\":{\"outlinewidth\":0,\"ticks\":\"\"}},\"type\":\"scattermapbox\"}],\"scattermap\":[{\"marker\":{\"colorbar\":{\"outlinewidth\":0,\"ticks\":\"\"}},\"type\":\"scattermap\"}],\"scatterpolargl\":[{\"marker\":{\"colorbar\":{\"outlinewidth\":0,\"ticks\":\"\"}},\"type\":\"scatterpolargl\"}],\"scatterpolar\":[{\"marker\":{\"colorbar\":{\"outlinewidth\":0,\"ticks\":\"\"}},\"type\":\"scatterpolar\"}],\"scatter\":[{\"fillpattern\":{\"fillmode\":\"overlay\",\"size\":10,\"solidity\":0.2},\"type\":\"scatter\"}],\"scatterternary\":[{\"marker\":{\"colorbar\":{\"outlinewidth\":0,\"ticks\":\"\"}},\"type\":\"scatterternary\"}],\"surface\":[{\"colorbar\":{\"outlinewidth\":0,\"ticks\":\"\"},\"colorscale\":[[0.0,\"#0d0887\"],[0.1111111111111111,\"#46039f\"],[0.2222222222222222,\"#7201a8\"],[0.3333333333333333,\"#9c179e\"],[0.4444444444444444,\"#bd3786\"],[0.5555555555555556,\"#d8576b\"],[0.6666666666666666,\"#ed7953\"],[0.7777777777777778,\"#fb9f3a\"],[0.8888888888888888,\"#fdca26\"],[1.0,\"#f0f921\"]],\"type\":\"surface\"}],\"table\":[{\"cells\":{\"fill\":{\"color\":\"#EBF0F8\"},\"line\":{\"color\":\"white\"}},\"header\":{\"fill\":{\"color\":\"#C8D4E3\"},\"line\":{\"color\":\"white\"}},\"type\":\"table\"}]},\"layout\":{\"annotationdefaults\":{\"arrowcolor\":\"#2a3f5f\",\"arrowhead\":0,\"arrowwidth\":1},\"autotypenumbers\":\"strict\",\"coloraxis\":{\"colorbar\":{\"outlinewidth\":0,\"ticks\":\"\"}},\"colorscale\":{\"diverging\":[[0,\"#8e0152\"],[0.1,\"#c51b7d\"],[0.2,\"#de77ae\"],[0.3,\"#f1b6da\"],[0.4,\"#fde0ef\"],[0.5,\"#f7f7f7\"],[0.6,\"#e6f5d0\"],[0.7,\"#b8e186\"],[0.8,\"#7fbc41\"],[0.9,\"#4d9221\"],[1,\"#276419\"]],\"sequential\":[[0.0,\"#0d0887\"],[0.1111111111111111,\"#46039f\"],[0.2222222222222222,\"#7201a8\"],[0.3333333333333333,\"#9c179e\"],[0.4444444444444444,\"#bd3786\"],[0.5555555555555556,\"#d8576b\"],[0.6666666666666666,\"#ed7953\"],[0.7777777777777778,\"#fb9f3a\"],[0.8888888888888888,\"#fdca26\"],[1.0,\"#f0f921\"]],\"sequentialminus\":[[0.0,\"#0d0887\"],[0.1111111111111111,\"#46039f\"],[0.2222222222222222,\"#7201a8\"],[0.3333333333333333,\"#9c179e\"],[0.4444444444444444,\"#bd3786\"],[0.5555555555555556,\"#d8576b\"],[0.6666666666666666,\"#ed7953\"],[0.7777777777777778,\"#fb9f3a\"],[0.8888888888888888,\"#fdca26\"],[1.0,\"#f0f921\"]]},\"colorway\":[\"#636efa\",\"#EF553B\",\"#00cc96\",\"#ab63fa\",\"#FFA15A\",\"#19d3f3\",\"#FF6692\",\"#B6E880\",\"#FF97FF\",\"#FECB52\"],\"font\":{\"color\":\"#2a3f5f\"},\"geo\":{\"bgcolor\":\"white\",\"lakecolor\":\"white\",\"landcolor\":\"white\",\"showlakes\":true,\"showland\":true,\"subunitcolor\":\"#C8D4E3\"},\"hoverlabel\":{\"align\":\"left\"},\"hovermode\":\"closest\",\"mapbox\":{\"style\":\"light\"},\"paper_bgcolor\":\"white\",\"plot_bgcolor\":\"white\",\"polar\":{\"angularaxis\":{\"gridcolor\":\"#EBF0F8\",\"linecolor\":\"#EBF0F8\",\"ticks\":\"\"},\"bgcolor\":\"white\",\"radialaxis\":{\"gridcolor\":\"#EBF0F8\",\"linecolor\":\"#EBF0F8\",\"ticks\":\"\"}},\"scene\":{\"xaxis\":{\"backgroundcolor\":\"white\",\"gridcolor\":\"#DFE8F3\",\"gridwidth\":2,\"linecolor\":\"#EBF0F8\",\"showbackground\":true,\"ticks\":\"\",\"zerolinecolor\":\"#EBF0F8\"},\"yaxis\":{\"backgroundcolor\":\"white\",\"gridcolor\":\"#DFE8F3\",\"gridwidth\":2,\"linecolor\":\"#EBF0F8\",\"showbackground\":true,\"ticks\":\"\",\"zerolinecolor\":\"#EBF0F8\"},\"zaxis\":{\"backgroundcolor\":\"white\",\"gridcolor\":\"#DFE8F3\",\"gridwidth\":2,\"linecolor\":\"#EBF0F8\",\"showbackground\":true,\"ticks\":\"\",\"zerolinecolor\":\"#EBF0F8\"}},\"shapedefaults\":{\"line\":{\"color\":\"#2a3f5f\"}},\"ternary\":{\"aaxis\":{\"gridcolor\":\"#DFE8F3\",\"linecolor\":\"#A2B1C6\",\"ticks\":\"\"},\"baxis\":{\"gridcolor\":\"#DFE8F3\",\"linecolor\":\"#A2B1C6\",\"ticks\":\"\"},\"bgcolor\":\"white\",\"caxis\":{\"gridcolor\":\"#DFE8F3\",\"linecolor\":\"#A2B1C6\",\"ticks\":\"\"}},\"title\":{\"x\":0.05},\"xaxis\":{\"automargin\":true,\"gridcolor\":\"#EBF0F8\",\"linecolor\":\"#EBF0F8\",\"ticks\":\"\",\"title\":{\"standoff\":15},\"zerolinecolor\":\"#EBF0F8\",\"zerolinewidth\":2},\"yaxis\":{\"automargin\":true,\"gridcolor\":\"#EBF0F8\",\"linecolor\":\"#EBF0F8\",\"ticks\":\"\",\"title\":{\"standoff\":15},\"zerolinecolor\":\"#EBF0F8\",\"zerolinewidth\":2}}},\"title\":{\"text\":\"Distribuci\\u00f3n real vs predicha en df_val (Negative Binomial)\"},\"xaxis\":{\"title\":{\"text\":\"days_to_trend\"}},\"yaxis\":{\"title\":{\"text\":\"Densidad\"}},\"barmode\":\"overlay\",\"bargap\":0.1,\"legend\":{\"title\":{\"text\":\"\"}}},                        {\"responsive\": true}                    ).then(function(){\n",
       "                            \n",
       "var gd = document.getElementById('fa0d4dd7-085e-4870-bf16-1042ca5ae749');\n",
       "var x = new MutationObserver(function (mutations, observer) {{\n",
       "        var display = window.getComputedStyle(gd).display;\n",
       "        if (!display || display === 'none') {{\n",
       "            console.log([gd, 'removed!']);\n",
       "            Plotly.purge(gd);\n",
       "            observer.disconnect();\n",
       "        }}\n",
       "}});\n",
       "\n",
       "// Listen for the removal of the full notebook cells\n",
       "var notebookContainer = gd.closest('#notebook-container');\n",
       "if (notebookContainer) {{\n",
       "    x.observe(notebookContainer, {childList: true});\n",
       "}}\n",
       "\n",
       "// Listen for the clearing of the current output cell\n",
       "var outputEl = gd.closest('.output');\n",
       "if (outputEl) {{\n",
       "    x.observe(outputEl, {childList: true});\n",
       "}}\n",
       "\n",
       "                        })                };            </script>        </div>"
      ]
     },
     "metadata": {},
     "output_type": "display_data"
    }
   ],
   "source": [
    "y_test = df_test['days_to_trend'].values\n",
    "bins = np.arange(0, max(y_test.max(), y_pred_test.max()) + 2)\n",
    "\n",
    "fig = go.Figure()\n",
    "\n",
    "fig.add_trace(go.Histogram(\n",
    "    x=y_test,\n",
    "    xbins=dict(start=bins.min(), end=bins.max(), size=1),\n",
    "    name='Valor real',\n",
    "    opacity=0.5,\n",
    "    histnorm='probability density',\n",
    "))\n",
    "\n",
    "fig.add_trace(go.Histogram(\n",
    "    x=y_pred_test,\n",
    "    xbins=dict(start=bins.min(), end=bins.max(), size=1),\n",
    "    name='Valor predicho',\n",
    "    opacity=0.5,\n",
    "    histnorm='probability density',\n",
    "    marker_color='orange'\n",
    "))\n",
    "\n",
    "fig.update_layout(\n",
    "    title=f\"Distribución real vs predicha en df_val ({best_name})\",\n",
    "    xaxis_title=\"days_to_trend\",\n",
    "    yaxis_title=\"Densidad\",\n",
    "    barmode='overlay',\n",
    "    bargap=0.1,\n",
    "    template='plotly_white',\n",
    "    legend=dict(title=''),\n",
    ")\n",
    "\n",
    "fig.show()"
   ]
  },
  {
   "cell_type": "markdown",
   "id": "7bc2dc96",
   "metadata": {},
   "source": [
    "**Note:** As expected, the results of the recently published videos are not very accurate because the values ​​of this variable in the dataset probably have not yet reached their true value."
   ]
  },
  {
   "cell_type": "markdown",
   "id": "988fa422",
   "metadata": {},
   "source": [
    "Saving model."
   ]
  },
  {
   "cell_type": "code",
   "execution_count": 27,
   "id": "980543c7",
   "metadata": {},
   "outputs": [],
   "source": [
    "model_info = {\n",
    "    'distribution': best_name,\n",
    "    'kl_divergence': best_kl,\n",
    "}"
   ]
  },
  {
   "cell_type": "code",
   "execution_count": 28,
   "id": "d8de76a0",
   "metadata": {},
   "outputs": [],
   "source": [
    "match best_name: \n",
    "    case 'Poisson':\n",
    "        model_info['params'] = {'mu': lambda_poisson}\n",
    "    case 'Geometric':\n",
    "        model_info['params'] = {'p': p_geom}\n",
    "    case 'Negative Binomial':\n",
    "        model_info['params'] = {'n': r, 'p': p_nbinom}\n",
    "    case 'Discretized Normal':\n",
    "        model_info['params'] = {'mu': mu_norm, 'sigma': sigma_norm}\n",
    "    case 'Binomial':\n",
    "        model_info['params'] = {'n': n_binom, 'p': p_binom}\n",
    "    case 'Zipf':\n",
    "        model_info['params'] = {'a': a_zipf}\n",
    "    case 'Log-Series':\n",
    "        model_info['params'] = {'p': p_ls}\n",
    "    case 'Discretized Exponential':\n",
    "        model_info['params'] = {'lambda': lambda_exp}\n",
    "    case 'Discretized Gamma':\n",
    "        model_info['params'] = {'alpha': alpha_gamma, 'beta': beta_gamma}\n",
    "    case 'Discretized Log-Normal':\n",
    "        model_info['params'] = {'s': shape_ln, 'scale': scale_ln}"
   ]
  },
  {
   "cell_type": "code",
   "execution_count": 29,
   "id": "90256099",
   "metadata": {},
   "outputs": [
    {
     "name": "stdout",
     "output_type": "stream",
     "text": [
      "Model saved as \"distribution_days_trend.pkl\" in C:\\Users\\eddel\\OneDrive\\Documents\\MCD\\AAA\\youtube_trends\\venv\\src\\youtube-trends\\models.\n"
     ]
    }
   ],
   "source": [
    "joblib.dump(model_info, MODELS_DIR / 'distribution_days_trend.pkl')\n",
    "print(f'Model saved as \"distribution_days_trend.pkl\" in {MODELS_DIR}.')"
   ]
  }
 ],
 "metadata": {
  "kernelspec": {
   "display_name": "venv",
   "language": "python",
   "name": "python3"
  },
  "language_info": {
   "codemirror_mode": {
    "name": "ipython",
    "version": 3
   },
   "file_extension": ".py",
   "mimetype": "text/x-python",
   "name": "python",
   "nbconvert_exporter": "python",
   "pygments_lexer": "ipython3",
   "version": "3.12.9"
  }
 },
 "nbformat": 4,
 "nbformat_minor": 5
}
